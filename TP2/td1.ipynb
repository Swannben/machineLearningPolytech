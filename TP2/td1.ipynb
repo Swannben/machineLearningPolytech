{
 "cells": [
  {
   "attachments": {},
   "cell_type": "markdown",
   "metadata": {},
   "source": [
    "# TP introduction to Machine Learning\n",
    "Diane Lingrand (diane.lingrand@univ-cotedazur)\n",
    "\n",
    "Julie Tores (julie.tores@univ-cotedazur.fr ou julie.tores@etu.univ-cotedazur.fr)\n",
    "\n",
    "Polytech, SI4, 2023-24"
   ]
  },
  {
   "cell_type": "code",
   "execution_count": 1,
   "metadata": {
    "ExecuteTime": {
     "end_time": "2022-09-13T07:44:55.627114Z",
     "start_time": "2022-09-13T07:44:55.619848Z"
    }
   },
   "outputs": [],
   "source": [
    "#necessary imports\n",
    "from sklearn import datasets\n",
    "import numpy as np\n",
    "import matplotlib.pyplot as plt"
   ]
  },
  {
   "attachments": {},
   "cell_type": "markdown",
   "metadata": {},
   "source": [
    "## dataset: Iris"
   ]
  },
  {
   "cell_type": "code",
   "execution_count": 2,
   "metadata": {
    "ExecuteTime": {
     "end_time": "2022-09-13T07:45:10.182817Z",
     "start_time": "2022-09-13T07:45:10.165710Z"
    }
   },
   "outputs": [],
   "source": [
    "# loading the dataset\n",
    "iris = datasets.load_iris()\n",
    "X = iris.data\n",
    "y = iris.target"
   ]
  },
  {
   "attachments": {},
   "cell_type": "markdown",
   "metadata": {},
   "source": [
    "**Question 1:** how many data ?"
   ]
  },
  {
   "cell_type": "code",
   "execution_count": 3,
   "metadata": {
    "ExecuteTime": {
     "end_time": "2022-09-13T07:46:27.057027Z",
     "start_time": "2022-09-13T07:46:27.050781Z"
    }
   },
   "outputs": [
    {
     "name": "stdout",
     "output_type": "stream",
     "text": [
      "150\n",
      "150\n"
     ]
    }
   ],
   "source": [
    "print(len(X))\n",
    "print(len(y))\n"
   ]
  },
  {
   "attachments": {},
   "cell_type": "markdown",
   "metadata": {
    "ExecuteTime": {
     "end_time": "2022-09-12T12:06:16.514897Z",
     "start_time": "2022-09-12T12:06:16.510105Z"
    }
   },
   "source": [
    "**Question 2**: type of data ? dimension of data ? type of labels ?"
   ]
  },
  {
   "cell_type": "code",
   "execution_count": 4,
   "metadata": {
    "ExecuteTime": {
     "end_time": "2022-09-13T07:49:23.075660Z",
     "start_time": "2022-09-13T07:49:23.066403Z"
    }
   },
   "outputs": [
    {
     "name": "stdout",
     "output_type": "stream",
     "text": [
      "(150, 4)\n",
      "(150,)\n",
      "float64\n",
      "int64\n"
     ]
    }
   ],
   "source": [
    "print(X.shape)\n",
    "print(y.shape)\n",
    "\n",
    "print(X.dtype)\n",
    "print(y.dtype)"
   ]
  },
  {
   "attachments": {},
   "cell_type": "markdown",
   "metadata": {},
   "source": [
    "**Question 3:** How many classes ? How many samples per class ?"
   ]
  },
  {
   "cell_type": "code",
   "execution_count": 5,
   "metadata": {
    "ExecuteTime": {
     "end_time": "2022-09-13T08:01:30.516048Z",
     "start_time": "2022-09-13T08:01:30.510978Z"
    }
   },
   "outputs": [
    {
     "name": "stdout",
     "output_type": "stream",
     "text": [
      "Distinct values of y: [0 1 2]\n",
      "Number of distinct values of y: 3\n",
      "Count of each distinct value of y: [50 50 50]\n"
     ]
    }
   ],
   "source": [
    "# print distinct values of y\n",
    "classes = np.unique(y)\n",
    "print(f\"Distinct values of y: {classes}\")\n",
    "\n",
    "classes_count = len(classes)\n",
    "print(f\"Number of distinct values of y: {classes_count}\")\n",
    "\n",
    "# count of each distinct value of y\n",
    "print(f\"Count of each distinct value of y: {np.bincount(y)}\")"
   ]
  },
  {
   "attachments": {},
   "cell_type": "markdown",
   "metadata": {},
   "source": [
    "**Question 4:** choose 2 dimensions and plot the data in the plane using a different color for each class."
   ]
  },
  {
   "cell_type": "code",
   "execution_count": 6,
   "metadata": {
    "ExecuteTime": {
     "end_time": "2022-09-12T12:09:10.528218Z",
     "start_time": "2022-09-12T12:09:10.525505Z"
    }
   },
   "outputs": [
    {
     "name": "stdout",
     "output_type": "stream",
     "text": [
      "(150, 2)\n"
     ]
    },
    {
     "data": {
      "text/plain": [
       "<matplotlib.legend.Legend at 0x7f3aee7c4fa0>"
      ]
     },
     "execution_count": 6,
     "metadata": {},
     "output_type": "execute_result"
    },
    {
     "data": {
      "image/png": "[encoded data removed]",
      "text/plain": [
       "<Figure size 640x480 with 1 Axes>"
      ]
     },
     "metadata": {},
     "output_type": "display_data"
    }
   ],
   "source": [
    "# X is (150, 4). Make it (150, 2) by taking only the first two features for plotting\n",
    "X_plot = X[:, :2]\n",
    "print(X_plot.shape)\n",
    "# use different colors for each class\n",
    "colors = ['red', 'blue', 'green']\n",
    "\n",
    "classes_name = iris.target_names\n",
    "\n",
    "# plot the data\n",
    "for idx, cl in enumerate(np.unique(y)):\n",
    "    class_vals = X_plot[y == cl]\n",
    "    class_name = classes_name[cl]\n",
    "    plt.scatter(class_vals[:, 0], class_vals[:, 1], c=colors[idx], label=class_name)\n",
    "\n",
    "plt.legend()\n",
    "\n"
   ]
  },
  {
   "attachments": {},
   "cell_type": "markdown",
   "metadata": {
    "ExecuteTime": {
     "end_time": "2022-09-12T12:09:02.330289Z",
     "start_time": "2022-09-12T12:09:02.326829Z"
    }
   },
   "source": [
    "**Question 5:** perfect classification. What are the metrics values ? Read the documention of metrics function in scikit-learn: https://scikit-learn.org/stable/modules/model_evaluation.html#classification-metrics"
   ]
  },
  {
   "cell_type": "code",
   "execution_count": 7,
   "metadata": {
    "ExecuteTime": {
     "end_time": "2022-09-12T16:04:24.062901Z",
     "start_time": "2022-09-12T16:04:24.041193Z"
    }
   },
   "outputs": [
    {
     "name": "stdout",
     "output_type": "stream",
     "text": [
      "metrics for perfect prediction\n",
      "accuracy 1.0\n",
      "recall [1. 1. 1.]\n",
      "f1 [1. 1. 1.]\n"
     ]
    },
    {
     "data": {
      "text/plain": [
       "1.0"
      ]
     },
     "execution_count": 7,
     "metadata": {},
     "output_type": "execute_result"
    },
    {
     "data": {
      "image/png": "[encoded data removed]",
      "text/plain": [
       "<Figure size 480x480 with 1 Axes>"
      ]
     },
     "metadata": {},
     "output_type": "display_data"
    }
   ],
   "source": [
    "from sklearn.metrics import accuracy_score, recall_score, f1_score, confusion_matrix\n",
    "\n",
    "# here is an example for accuracy: \n",
    "\n",
    "\n",
    "def metrics(y, y_pred):\n",
    "    acuracy = accuracy_score(y, y_pred)\n",
    "    recall = recall_score(y, y_pred, average=None)\n",
    "    f1 = f1_score(y, y_pred, average=None)\n",
    "    print(\"accuracy\", acuracy)\n",
    "    print(\"recall\", recall)\n",
    "    print(\"f1\", f1)\n",
    "\n",
    "    confusion = confusion_matrix(y, y_pred)\n",
    "    plt.matshow(confusion)\n",
    "\n",
    "    return acuracy\n",
    "\n",
    "print(\"metrics for perfect prediction\")\n",
    "metrics(y, y)"
   ]
  },
  {
   "attachments": {},
   "cell_type": "markdown",
   "metadata": {
    "hide_input": false
   },
   "source": [
    "**Question 6**: random classification. What are the metrics values ? <br/>\n",
    "*Hint*: use https://numpy.org/doc/stable/reference/random/generated/numpy.random.randint.html for the generation of random labels. <br/>\n",
    "Don't forget the confusion matrix. Hint: ConfusionMatrixDisplay https://scikit-learn.org/stable/modules/generated/sklearn.metrics.ConfusionMatrixDisplay.html#sklearn.metrics.ConfusionMatrixDisplay.from_predictions"
   ]
  },
  {
   "cell_type": "code",
   "execution_count": 8,
   "metadata": {
    "ExecuteTime": {
     "end_time": "2022-09-13T08:39:02.010371Z",
     "start_time": "2022-09-13T08:39:00.929470Z"
    }
   },
   "outputs": [
    {
     "name": "stdout",
     "output_type": "stream",
     "text": [
      "metrics for random classification\n",
      "accuracy 0.34\n",
      "recall [0.28 0.3  0.44]\n",
      "f1 [0.28571429 0.32608696 0.4       ]\n"
     ]
    },
    {
     "data": {
      "text/plain": [
       "0.34"
      ]
     },
     "execution_count": 8,
     "metadata": {},
     "output_type": "execute_result"
    },
    {
     "data": {
      "image/png": "[encoded data removed]",
      "text/plain": [
       "<Figure size 480x480 with 1 Axes>"
      ]
     },
     "metadata": {},
     "output_type": "display_data"
    }
   ],
   "source": [
    "Y_rand = np.random.randint(0, classes_count, size=len(y))\n",
    "print(\"metrics for random classification\")\n",
    "metrics(y, Y_rand)"
   ]
  },
  {
   "attachments": {},
   "cell_type": "markdown",
   "metadata": {},
   "source": [
    "### binary classification"
   ]
  },
  {
   "cell_type": "code",
   "execution_count": 9,
   "metadata": {
    "ExecuteTime": {
     "end_time": "2022-09-12T15:12:41.917261Z",
     "start_time": "2022-09-12T15:12:41.913222Z"
    }
   },
   "outputs": [],
   "source": [
    "# we choose to remove class with label 2 (Iris Virginica)\n",
    "XBinaire = X[y!=2]\n",
    "yBinaire = y[y!=2]\n"
   ]
  },
  {
   "cell_type": "code",
   "execution_count": 10,
   "metadata": {
    "ExecuteTime": {
     "end_time": "2022-09-12T15:25:59.921463Z",
     "start_time": "2022-09-12T15:25:59.798555Z"
    }
   },
   "outputs": [],
   "source": [
    "# split into train and test datasets\n",
    "from sklearn.model_selection import train_test_split\n",
    "X_train, X_test, y_train, y_test = train_test_split(XBinaire, yBinaire, test_size=0.4)"
   ]
  },
  {
   "attachments": {},
   "cell_type": "markdown",
   "metadata": {
    "ExecuteTime": {
     "end_time": "2022-09-12T15:19:51.121574Z",
     "start_time": "2022-09-12T15:19:51.117324Z"
    }
   },
   "source": [
    "**Question 7**: Try to build a classifier better than the random one, use the thresholding on one or more component. Choose the thresholds using the train dataset and compute the metrics on the test dataset.\n",
    "    "
   ]
  },
  {
   "cell_type": "code",
   "execution_count": 11,
   "metadata": {},
   "outputs": [
    {
     "name": "stdout",
     "output_type": "stream",
     "text": [
      "metrics for threshold classification\n",
      "accuracy 1.0\n",
      "recall [1. 1.]\n",
      "f1 [1. 1.]\n"
     ]
    },
    {
     "data": {
      "text/plain": [
       "1.0"
      ]
     },
     "execution_count": 11,
     "metadata": {},
     "output_type": "execute_result"
    },
    {
     "data": {
      "image/png": "[encoded data removed]",
      "text/plain": [
       "<Figure size 480x480 with 1 Axes>"
      ]
     },
     "metadata": {},
     "output_type": "display_data"
    }
   ],
   "source": [
    "# according to the plot, we can see that the data is linearly separable with\n",
    "# a line that goes through (4.5, 2.25) and (6, 3.5)\n",
    "def line(x):\n",
    "    return 0.833 * x - 1.5  # from https://planetcalc.com/8110/\n",
    "\n",
    "\n",
    "# if the point is above the line, it is class 0, otherwise it is class 1\n",
    "def threshold(x, y):\n",
    "    return 0 if y > line(x) else 1\n",
    "\n",
    "# predict\n",
    "Y_threshold = np.array([threshold(x, y) for x, y in X_test[:, :2]])\n",
    "\n",
    "# compute metrics\n",
    "print(\"metrics for threshold classification\")\n",
    "metrics(y_test, Y_threshold)"
   ]
  },
  {
   "attachments": {},
   "cell_type": "markdown",
   "metadata": {},
   "source": [
    "**Question 8**: Using this method, could you propose an algorithm for classifying the 3 classes?"
   ]
  },
  {
   "attachments": {},
   "cell_type": "markdown",
   "metadata": {},
   "source": [
    "No, since there is no clear separation with the third class (at least according to the plot)."
   ]
  },
  {
   "attachments": {},
   "cell_type": "markdown",
   "metadata": {},
   "source": [
    "## dataset: digit"
   ]
  },
  {
   "cell_type": "code",
   "execution_count": 12,
   "metadata": {},
   "outputs": [],
   "source": [
    "# reading the dataset\n",
    "digits = datasets.load_digits()\n",
    "X = digits.data\n",
    "y = digits.target"
   ]
  },
  {
   "cell_type": "code",
   "execution_count": 13,
   "metadata": {},
   "outputs": [
    {
     "data": {
      "image/png": "[encoded data removed]",
      "text/plain": [
       "<Figure size 640x480 with 1 Axes>"
      ]
     },
     "metadata": {},
     "output_type": "display_data"
    },
    {
     "name": "stdout",
     "output_type": "stream",
     "text": [
      "class =  1\n",
      "[ 0.  0.  0.  2. 16. 16.  2.  0.  0.  0.  0.  4. 16. 16.  2.  0.  0.  1.\n",
      "  4. 12. 16. 12.  0.  0.  0.  7. 16. 16. 16. 12.  0.  0.  0.  0.  3. 10.\n",
      " 16. 14.  0.  0.  0.  0.  0.  8. 16. 12.  0.  0.  0.  0.  0.  6. 16. 16.\n",
      "  2.  0.  0.  0.  0.  2. 12. 15.  4.  0.]\n"
     ]
    }
   ],
   "source": [
    "# display one of the pictures (the 22th in this code)\n",
    "import matplotlib.pyplot as plt\n",
    "i = 21 # index of the image: change it in order to display other images\n",
    "plt.imshow(X[i].reshape((8,8)),aspect=\"auto\",cmap='gray')\n",
    "plt.show()\n",
    "print('class = ', y[i])\n",
    "print(X[i])"
   ]
  },
  {
   "attachments": {},
   "cell_type": "markdown",
   "metadata": {},
   "source": [
    "**Question 9**: Using the digit dataset, answer again to the previous questions from 1 to 8."
   ]
  },
  {
   "cell_type": "code",
   "execution_count": 14,
   "metadata": {},
   "outputs": [
    {
     "name": "stdout",
     "output_type": "stream",
     "text": [
      "(1797, 64)\n",
      "(1797,)\n",
      "float64\n",
      "int64\n"
     ]
    },
    {
     "data": {
      "text/plain": [
       "<matplotlib.collections.PathCollection at 0x7f3ae088f310>"
      ]
     },
     "execution_count": 14,
     "metadata": {},
     "output_type": "execute_result"
    },
    {
     "data": {
      "image/png": "[encoded data removed]",
      "text/plain": [
       "<Figure size 640x480 with 1 Axes>"
      ]
     },
     "metadata": {},
     "output_type": "display_data"
    }
   ],
   "source": [
    "# Data shape\n",
    "print(X.shape)\n",
    "print(y.shape)\n",
    "\n",
    "# Data type\n",
    "print(X.dtype)\n",
    "print(y.dtype)\n",
    "\n",
    "# let's just skip to the classification part\n",
    "# split into train and test datasets\n",
    "X_train, X_test, y_train, y_test = train_test_split(X, y, test_size=.4)\n",
    "\n",
    "# Let's keep only two classes: 0 and 1\n",
    "X_train = X_train[y_train<2]\n",
    "y_train = y_train[y_train<2]\n",
    "X_test = X_test[y_test<2]\n",
    "y_test = y_test[y_test<2]\n",
    "\n",
    "# Now we need a dimensionality reduction method\n",
    "# An image is a 8x8 matrix, so we have 64 features\n",
    "# The digit zero usually has more black pixels than the digit one\n",
    "# So we can count the number of black pixels and use it as a feature\n",
    "# Let's consider a black pixel is a pixel with a value less than 3\n",
    "\n",
    "def count_black_pixels(x):\n",
    "    return np.count_nonzero(x < 3)\n",
    "\n",
    "# apply the function to all images\n",
    "X_train_black = np.apply_along_axis(count_black_pixels, 1, X_train)\n",
    "\n",
    "# plot the data, using red for class 0 and blue for class 1\n",
    "plt.scatter(X_train_black, y_train, c=['red' if y == 0 else 'blue' for y in y_train])\n"
   ]
  },
  {
   "cell_type": "code",
   "execution_count": 15,
   "metadata": {},
   "outputs": [
    {
     "data": {
      "text/plain": [
       "<matplotlib.collections.PathCollection at 0x7f3ae09523e0>"
      ]
     },
     "execution_count": 15,
     "metadata": {},
     "output_type": "execute_result"
    },
    {
     "data": {
      "image/png": "[encoded data removed]",
      "text/plain": [
       "<Figure size 640x480 with 1 Axes>"
      ]
     },
     "metadata": {},
     "output_type": "display_data"
    }
   ],
   "source": [
    "# there is no clear separation between the two classes\n",
    "# so this is not good enough. We need another feature\n",
    "# let's count the number of black pixels in the middle column (column 4)\n",
    "def count_black_pixels_middle(x):\n",
    "    middle = x.reshape((8, 8))[:, 4]\n",
    "    return count_black_pixels(middle)\n",
    "\n",
    "\n",
    "# apply the function to all images\n",
    "X_train_middle_black = np.apply_along_axis(count_black_pixels_middle, 1,\n",
    "                                           X_train)\n",
    "\n",
    "# plot the data\n",
    "plt.scatter(X_train_black, X_train_middle_black, c=['red' if y == 0 else 'blue' for y in y_train])"
   ]
  },
  {
   "cell_type": "code",
   "execution_count": 16,
   "metadata": {},
   "outputs": [
    {
     "name": "stdout",
     "output_type": "stream",
     "text": [
      "metrics for threshold classification\n",
      "accuracy 0.9931506849315068\n",
      "recall [0.98666667 1.        ]\n",
      "f1 [0.99328859 0.99300699]\n"
     ]
    },
    {
     "data": {
      "text/plain": [
       "0.9931506849315068"
      ]
     },
     "execution_count": 16,
     "metadata": {},
     "output_type": "execute_result"
    },
    {
     "data": {
      "image/png": "[encoded data removed]",
      "text/plain": [
       "<Figure size 480x480 with 1 Axes>"
      ]
     },
     "metadata": {},
     "output_type": "display_data"
    }
   ],
   "source": [
    "# We can clearly see that the two classes are linearly separable with a line that goes through (30, 1) and (40, 4)\n",
    "# So we can use this line as a classifier\n",
    "\n",
    "# if the point is above the line, it is class 0, otherwise it is class 1\n",
    "def line(x):\n",
    "    return 0.3 * x - 8  # from https://planetcalc.com/8110/\n",
    "\n",
    "def threshold(x, y):\n",
    "    return 0 if y > line(x) else 1\n",
    "\n",
    "# predict\n",
    "X_test_black = np.apply_along_axis(count_black_pixels, 1, X_test)\n",
    "X_test_middle_black = np.apply_along_axis(count_black_pixels_middle, 1,\n",
    "                                            X_test)\n",
    "\n",
    "Y_threshold = np.array([threshold(x, y) for x, y in zip(X_test_black, X_test_middle_black)])\n",
    "\n",
    "# compute metrics\n",
    "print(\"metrics for threshold classification\")\n",
    "metrics(y_test, Y_threshold)\n",
    "\n"
   ]
  },
  {
   "cell_type": "markdown",
   "metadata": {},
   "source": [
    "# TP2: decision trees"
   ]
  },
  {
   "cell_type": "code",
   "execution_count": 17,
   "metadata": {},
   "outputs": [
    {
     "ename": "SyntaxError",
     "evalue": "positional argument follows keyword argument (3191158781.py, line 30)",
     "output_type": "error",
     "traceback": [
      "\u001b[0;36m  Cell \u001b[0;32mIn[17], line 30\u001b[0;36m\u001b[0m\n\u001b[0;31m    clf = tree.DecisionTreeClassifier(ccp_alpha=ccp_alpha, clf.get_params())\u001b[0m\n\u001b[0m                                                                           ^\u001b[0m\n\u001b[0;31mSyntaxError\u001b[0m\u001b[0;31m:\u001b[0m positional argument follows keyword argument\n"
     ]
    }
   ],
   "source": [
    "from sklearn import tree\n",
    "\n",
    "SEED = 42\n",
    "\n",
    "def test_tree(x, y, **kwargs):\n",
    "    # split into train and test datasets\n",
    "    X_train, X_test, y_train, y_test = train_test_split(x, y, test_size=.4, random_state=SEED)\n",
    "\n",
    "    # train the classifier\n",
    "    clf = tree.DecisionTreeClassifier(**kwargs)\n",
    "    clf.fit(X_train, y_train)\n",
    "\n",
    "    # predict\n",
    "    y_pred = clf.predict(X_test)\n",
    "\n",
    "    # compute metrics\n",
    "    print(f\"metrics for tree classification with parameters {kwargs}\")\n",
    "    acuracy = accuracy_score(y_test, y_pred)\n",
    "\n",
    "    return clf, acuracy\n",
    "\n",
    "def prune_tree(clf, x, y, acuracy):\n",
    "    ccp_alphas = clf.cost_complexity_pruning_path(x, y)['ccp_alphas']\n",
    "\n",
    "    X_train, X_test, y_train, y_test = train_test_split(x, y, test_size=.4, random_state=SEED)\n",
    "\n",
    "    best_clf = clf\n",
    "    best_acuracy = acuracy\n",
    "    for ccp_alpha in ccp_alphas:\n",
    "        clf = tree.DecisionTreeClassifier(ccp_alpha=ccp_alpha, clf.get_params())\n",
    "        clf.fit(X_train, y_train)\n",
    "        y_pred = clf.predict(X_test)\n",
    "        acuracy = accuracy_score(y_test, y_pred)\n",
    "        if acuracy > best_acuracy:\n",
    "            best_acuracy = acuracy\n",
    "            best_clf = clf\n",
    "    \n",
    "    return best_clf, best_acuracy\n",
    "\n",
    "\n",
    "def test_best_tree(x, y):\n",
    "    max_depths = [1,2, 3,4, 5, 10, 20]\n",
    "    splitter = ['best', 'random']\n",
    "    min_samples_splits = [2, 3, 4, 5, 10, 20]\n",
    "    criteria = ['gini', 'entropy', 'log_loss']\n",
    "\n",
    "    from itertools import product\n",
    "\n",
    "    trees = [test_tree(x,y)] # test the default tree\n",
    "    for parameters in product(max_depths, splitter, min_samples_splits, criteria):\n",
    "        max_depth, splitter, min_samples_split, criterion = parameters\n",
    "        cur_tree, acuracy = test_tree(digits.data, digits.target, max_depth=max_depth, splitter=splitter, min_samples_split=min_samples_split, criterion=criterion)\n",
    "\n",
    "        trees.append((cur_tree, acuracy))\n",
    "\n",
    "    print(f\"calculated {len(trees)} trees\")\n",
    "\n",
    "    def keep_best_trees(trees):\n",
    "        trees.sort(key=lambda x: x[1], reverse=True)\n",
    "        return trees[:10]\n",
    "\n",
    "    trees = keep_best_trees(trees)\n",
    "\n",
    "    print(f\"kept {len(trees)} trees before pruning\")\n",
    "\n",
    "    pruned_trees = []\n",
    "    for tree, acuracy in trees:\n",
    "        print(f\"pruning tree with acuracy {acuracy}\")\n",
    "        cur_tree, acuracy = prune_tree(tree, digits.data, digits.target, acuracy)\n",
    "        pruned_trees.append((cur_tree, acuracy))\n",
    "\n",
    "    trees = keep_best_trees(trees + pruned_trees)\n",
    "\n",
    "    print(f\"kept {len(trees)} trees after pruning\")\n",
    "\n",
    "    # sort by ascending number of nodes\n",
    "    trees.sort(key=lambda x: x[0].tree_.node_count)\n",
    "\n",
    "    # remove all trees with 10% more nodes than the smallest\n",
    "    trees = [tree for tree in trees if tree[0].tree_.node_count < trees[0][0].tree_.node_count * 1.1]\n",
    "\n",
    "    # sort by ascending number of leaves\n",
    "    trees.sort(key=lambda x: x[0].tree_.n_leaves)\n",
    "\n",
    "    # remove all trees with 10% more leaves than the smallest\n",
    "    trees = [tree for tree in trees if tree[0].tree_.n_leaves < trees[0][0].tree_.n_leaves * 1.1]\n",
    "\n",
    "    # finally, sort by descending acuracy\n",
    "    trees.sort(key=lambda x: x[1], reverse=True)\n",
    "\n",
    "    return trees[0][0], trees[0][1]"
   ]
  },
  {
   "cell_type": "markdown",
   "metadata": {},
   "source": [
    "## Iris"
   ]
  },
  {
   "cell_type": "code",
   "execution_count": null,
   "metadata": {},
   "outputs": [
    {
     "name": "stdout",
     "output_type": "stream",
     "text": [
      "metrics for tree classification with parameters {}\n",
      "metrics for tree classification with parameters {'max_depth': 1, 'splitter': 'best', 'min_samples_split': 2, 'criterion': 'gini'}\n",
      "metrics for tree classification with parameters {'max_depth': 1, 'splitter': 'best', 'min_samples_split': 2, 'criterion': 'entropy'}\n",
      "metrics for tree classification with parameters {'max_depth': 1, 'splitter': 'best', 'min_samples_split': 2, 'criterion': 'log_loss'}\n",
      "metrics for tree classification with parameters {'max_depth': 1, 'splitter': 'best', 'min_samples_split': 3, 'criterion': 'gini'}\n",
      "metrics for tree classification with parameters {'max_depth': 1, 'splitter': 'best', 'min_samples_split': 3, 'criterion': 'entropy'}\n",
      "metrics for tree classification with parameters {'max_depth': 1, 'splitter': 'best', 'min_samples_split': 3, 'criterion': 'log_loss'}\n",
      "metrics for tree classification with parameters {'max_depth': 1, 'splitter': 'best', 'min_samples_split': 4, 'criterion': 'gini'}\n",
      "metrics for tree classification with parameters {'max_depth': 1, 'splitter': 'best', 'min_samples_split': 4, 'criterion': 'entropy'}\n",
      "metrics for tree classification with parameters {'max_depth': 1, 'splitter': 'best', 'min_samples_split': 4, 'criterion': 'log_loss'}\n",
      "metrics for tree classification with parameters {'max_depth': 1, 'splitter': 'best', 'min_samples_split': 5, 'criterion': 'gini'}\n",
      "metrics for tree classification with parameters {'max_depth': 1, 'splitter': 'best', 'min_samples_split': 5, 'criterion': 'entropy'}\n",
      "metrics for tree classification with parameters {'max_depth': 1, 'splitter': 'best', 'min_samples_split': 5, 'criterion': 'log_loss'}\n",
      "metrics for tree classification with parameters {'max_depth': 1, 'splitter': 'best', 'min_samples_split': 10, 'criterion': 'gini'}\n",
      "metrics for tree classification with parameters {'max_depth': 1, 'splitter': 'best', 'min_samples_split': 10, 'criterion': 'entropy'}\n",
      "metrics for tree classification with parameters {'max_depth': 1, 'splitter': 'best', 'min_samples_split': 10, 'criterion': 'log_loss'}\n",
      "metrics for tree classification with parameters {'max_depth': 1, 'splitter': 'best', 'min_samples_split': 20, 'criterion': 'gini'}\n",
      "metrics for tree classification with parameters {'max_depth': 1, 'splitter': 'best', 'min_samples_split': 20, 'criterion': 'entropy'}\n",
      "metrics for tree classification with parameters {'max_depth': 1, 'splitter': 'best', 'min_samples_split': 20, 'criterion': 'log_loss'}\n",
      "metrics for tree classification with parameters {'max_depth': 1, 'splitter': 'random', 'min_samples_split': 2, 'criterion': 'gini'}\n",
      "metrics for tree classification with parameters {'max_depth': 1, 'splitter': 'random', 'min_samples_split': 2, 'criterion': 'entropy'}\n",
      "metrics for tree classification with parameters {'max_depth': 1, 'splitter': 'random', 'min_samples_split': 2, 'criterion': 'log_loss'}\n",
      "metrics for tree classification with parameters {'max_depth': 1, 'splitter': 'random', 'min_samples_split': 3, 'criterion': 'gini'}\n",
      "metrics for tree classification with parameters {'max_depth': 1, 'splitter': 'random', 'min_samples_split': 3, 'criterion': 'entropy'}\n",
      "metrics for tree classification with parameters {'max_depth': 1, 'splitter': 'random', 'min_samples_split': 3, 'criterion': 'log_loss'}\n",
      "metrics for tree classification with parameters {'max_depth': 1, 'splitter': 'random', 'min_samples_split': 4, 'criterion': 'gini'}\n",
      "metrics for tree classification with parameters {'max_depth': 1, 'splitter': 'random', 'min_samples_split': 4, 'criterion': 'entropy'}\n",
      "metrics for tree classification with parameters {'max_depth': 1, 'splitter': 'random', 'min_samples_split': 4, 'criterion': 'log_loss'}\n",
      "metrics for tree classification with parameters {'max_depth': 1, 'splitter': 'random', 'min_samples_split': 5, 'criterion': 'gini'}\n",
      "metrics for tree classification with parameters {'max_depth': 1, 'splitter': 'random', 'min_samples_split': 5, 'criterion': 'entropy'}\n",
      "metrics for tree classification with parameters {'max_depth': 1, 'splitter': 'random', 'min_samples_split': 5, 'criterion': 'log_loss'}\n",
      "metrics for tree classification with parameters {'max_depth': 1, 'splitter': 'random', 'min_samples_split': 10, 'criterion': 'gini'}\n",
      "metrics for tree classification with parameters {'max_depth': 1, 'splitter': 'random', 'min_samples_split': 10, 'criterion': 'entropy'}\n",
      "metrics for tree classification with parameters {'max_depth': 1, 'splitter': 'random', 'min_samples_split': 10, 'criterion': 'log_loss'}\n",
      "metrics for tree classification with parameters {'max_depth': 1, 'splitter': 'random', 'min_samples_split': 20, 'criterion': 'gini'}\n",
      "metrics for tree classification with parameters {'max_depth': 1, 'splitter': 'random', 'min_samples_split': 20, 'criterion': 'entropy'}\n",
      "metrics for tree classification with parameters {'max_depth': 1, 'splitter': 'random', 'min_samples_split': 20, 'criterion': 'log_loss'}\n",
      "metrics for tree classification with parameters {'max_depth': 2, 'splitter': 'best', 'min_samples_split': 2, 'criterion': 'gini'}\n",
      "metrics for tree classification with parameters {'max_depth': 2, 'splitter': 'best', 'min_samples_split': 2, 'criterion': 'entropy'}\n",
      "metrics for tree classification with parameters {'max_depth': 2, 'splitter': 'best', 'min_samples_split': 2, 'criterion': 'log_loss'}\n",
      "metrics for tree classification with parameters {'max_depth': 2, 'splitter': 'best', 'min_samples_split': 3, 'criterion': 'gini'}\n",
      "metrics for tree classification with parameters {'max_depth': 2, 'splitter': 'best', 'min_samples_split': 3, 'criterion': 'entropy'}\n",
      "metrics for tree classification with parameters {'max_depth': 2, 'splitter': 'best', 'min_samples_split': 3, 'criterion': 'log_loss'}\n",
      "metrics for tree classification with parameters {'max_depth': 2, 'splitter': 'best', 'min_samples_split': 4, 'criterion': 'gini'}\n",
      "metrics for tree classification with parameters {'max_depth': 2, 'splitter': 'best', 'min_samples_split': 4, 'criterion': 'entropy'}\n",
      "metrics for tree classification with parameters {'max_depth': 2, 'splitter': 'best', 'min_samples_split': 4, 'criterion': 'log_loss'}\n",
      "metrics for tree classification with parameters {'max_depth': 2, 'splitter': 'best', 'min_samples_split': 5, 'criterion': 'gini'}\n",
      "metrics for tree classification with parameters {'max_depth': 2, 'splitter': 'best', 'min_samples_split': 5, 'criterion': 'entropy'}\n",
      "metrics for tree classification with parameters {'max_depth': 2, 'splitter': 'best', 'min_samples_split': 5, 'criterion': 'log_loss'}\n",
      "metrics for tree classification with parameters {'max_depth': 2, 'splitter': 'best', 'min_samples_split': 10, 'criterion': 'gini'}\n",
      "metrics for tree classification with parameters {'max_depth': 2, 'splitter': 'best', 'min_samples_split': 10, 'criterion': 'entropy'}\n",
      "metrics for tree classification with parameters {'max_depth': 2, 'splitter': 'best', 'min_samples_split': 10, 'criterion': 'log_loss'}\n",
      "metrics for tree classification with parameters {'max_depth': 2, 'splitter': 'best', 'min_samples_split': 20, 'criterion': 'gini'}\n",
      "metrics for tree classification with parameters {'max_depth': 2, 'splitter': 'best', 'min_samples_split': 20, 'criterion': 'entropy'}\n",
      "metrics for tree classification with parameters {'max_depth': 2, 'splitter': 'best', 'min_samples_split': 20, 'criterion': 'log_loss'}\n",
      "metrics for tree classification with parameters {'max_depth': 2, 'splitter': 'random', 'min_samples_split': 2, 'criterion': 'gini'}\n",
      "metrics for tree classification with parameters {'max_depth': 2, 'splitter': 'random', 'min_samples_split': 2, 'criterion': 'entropy'}\n",
      "metrics for tree classification with parameters {'max_depth': 2, 'splitter': 'random', 'min_samples_split': 2, 'criterion': 'log_loss'}\n",
      "metrics for tree classification with parameters {'max_depth': 2, 'splitter': 'random', 'min_samples_split': 3, 'criterion': 'gini'}\n",
      "metrics for tree classification with parameters {'max_depth': 2, 'splitter': 'random', 'min_samples_split': 3, 'criterion': 'entropy'}\n",
      "metrics for tree classification with parameters {'max_depth': 2, 'splitter': 'random', 'min_samples_split': 3, 'criterion': 'log_loss'}\n",
      "metrics for tree classification with parameters {'max_depth': 2, 'splitter': 'random', 'min_samples_split': 4, 'criterion': 'gini'}\n",
      "metrics for tree classification with parameters {'max_depth': 2, 'splitter': 'random', 'min_samples_split': 4, 'criterion': 'entropy'}\n",
      "metrics for tree classification with parameters {'max_depth': 2, 'splitter': 'random', 'min_samples_split': 4, 'criterion': 'log_loss'}\n",
      "metrics for tree classification with parameters {'max_depth': 2, 'splitter': 'random', 'min_samples_split': 5, 'criterion': 'gini'}\n",
      "metrics for tree classification with parameters {'max_depth': 2, 'splitter': 'random', 'min_samples_split': 5, 'criterion': 'entropy'}\n",
      "metrics for tree classification with parameters {'max_depth': 2, 'splitter': 'random', 'min_samples_split': 5, 'criterion': 'log_loss'}\n",
      "metrics for tree classification with parameters {'max_depth': 2, 'splitter': 'random', 'min_samples_split': 10, 'criterion': 'gini'}\n",
      "metrics for tree classification with parameters {'max_depth': 2, 'splitter': 'random', 'min_samples_split': 10, 'criterion': 'entropy'}\n",
      "metrics for tree classification with parameters {'max_depth': 2, 'splitter': 'random', 'min_samples_split': 10, 'criterion': 'log_loss'}\n",
      "metrics for tree classification with parameters {'max_depth': 2, 'splitter': 'random', 'min_samples_split': 20, 'criterion': 'gini'}\n",
      "metrics for tree classification with parameters {'max_depth': 2, 'splitter': 'random', 'min_samples_split': 20, 'criterion': 'entropy'}\n",
      "metrics for tree classification with parameters {'max_depth': 2, 'splitter': 'random', 'min_samples_split': 20, 'criterion': 'log_loss'}\n",
      "metrics for tree classification with parameters {'max_depth': 3, 'splitter': 'best', 'min_samples_split': 2, 'criterion': 'gini'}\n",
      "metrics for tree classification with parameters {'max_depth': 3, 'splitter': 'best', 'min_samples_split': 2, 'criterion': 'entropy'}\n",
      "metrics for tree classification with parameters {'max_depth': 3, 'splitter': 'best', 'min_samples_split': 2, 'criterion': 'log_loss'}\n",
      "metrics for tree classification with parameters {'max_depth': 3, 'splitter': 'best', 'min_samples_split': 3, 'criterion': 'gini'}\n",
      "metrics for tree classification with parameters {'max_depth': 3, 'splitter': 'best', 'min_samples_split': 3, 'criterion': 'entropy'}\n",
      "metrics for tree classification with parameters {'max_depth': 3, 'splitter': 'best', 'min_samples_split': 3, 'criterion': 'log_loss'}\n",
      "metrics for tree classification with parameters {'max_depth': 3, 'splitter': 'best', 'min_samples_split': 4, 'criterion': 'gini'}\n",
      "metrics for tree classification with parameters {'max_depth': 3, 'splitter': 'best', 'min_samples_split': 4, 'criterion': 'entropy'}\n",
      "metrics for tree classification with parameters {'max_depth': 3, 'splitter': 'best', 'min_samples_split': 4, 'criterion': 'log_loss'}\n",
      "metrics for tree classification with parameters {'max_depth': 3, 'splitter': 'best', 'min_samples_split': 5, 'criterion': 'gini'}\n",
      "metrics for tree classification with parameters {'max_depth': 3, 'splitter': 'best', 'min_samples_split': 5, 'criterion': 'entropy'}\n",
      "metrics for tree classification with parameters {'max_depth': 3, 'splitter': 'best', 'min_samples_split': 5, 'criterion': 'log_loss'}\n",
      "metrics for tree classification with parameters {'max_depth': 3, 'splitter': 'best', 'min_samples_split': 10, 'criterion': 'gini'}\n",
      "metrics for tree classification with parameters {'max_depth': 3, 'splitter': 'best', 'min_samples_split': 10, 'criterion': 'entropy'}\n",
      "metrics for tree classification with parameters {'max_depth': 3, 'splitter': 'best', 'min_samples_split': 10, 'criterion': 'log_loss'}\n",
      "metrics for tree classification with parameters {'max_depth': 3, 'splitter': 'best', 'min_samples_split': 20, 'criterion': 'gini'}\n",
      "metrics for tree classification with parameters {'max_depth': 3, 'splitter': 'best', 'min_samples_split': 20, 'criterion': 'entropy'}\n",
      "metrics for tree classification with parameters {'max_depth': 3, 'splitter': 'best', 'min_samples_split': 20, 'criterion': 'log_loss'}\n",
      "metrics for tree classification with parameters {'max_depth': 3, 'splitter': 'random', 'min_samples_split': 2, 'criterion': 'gini'}\n",
      "metrics for tree classification with parameters {'max_depth': 3, 'splitter': 'random', 'min_samples_split': 2, 'criterion': 'entropy'}\n",
      "metrics for tree classification with parameters {'max_depth': 3, 'splitter': 'random', 'min_samples_split': 2, 'criterion': 'log_loss'}\n",
      "metrics for tree classification with parameters {'max_depth': 3, 'splitter': 'random', 'min_samples_split': 3, 'criterion': 'gini'}\n",
      "metrics for tree classification with parameters {'max_depth': 3, 'splitter': 'random', 'min_samples_split': 3, 'criterion': 'entropy'}\n",
      "metrics for tree classification with parameters {'max_depth': 3, 'splitter': 'random', 'min_samples_split': 3, 'criterion': 'log_loss'}\n",
      "metrics for tree classification with parameters {'max_depth': 3, 'splitter': 'random', 'min_samples_split': 4, 'criterion': 'gini'}\n",
      "metrics for tree classification with parameters {'max_depth': 3, 'splitter': 'random', 'min_samples_split': 4, 'criterion': 'entropy'}\n",
      "metrics for tree classification with parameters {'max_depth': 3, 'splitter': 'random', 'min_samples_split': 4, 'criterion': 'log_loss'}\n",
      "metrics for tree classification with parameters {'max_depth': 3, 'splitter': 'random', 'min_samples_split': 5, 'criterion': 'gini'}\n",
      "metrics for tree classification with parameters {'max_depth': 3, 'splitter': 'random', 'min_samples_split': 5, 'criterion': 'entropy'}\n",
      "metrics for tree classification with parameters {'max_depth': 3, 'splitter': 'random', 'min_samples_split': 5, 'criterion': 'log_loss'}\n",
      "metrics for tree classification with parameters {'max_depth': 3, 'splitter': 'random', 'min_samples_split': 10, 'criterion': 'gini'}\n",
      "metrics for tree classification with parameters {'max_depth': 3, 'splitter': 'random', 'min_samples_split': 10, 'criterion': 'entropy'}\n",
      "metrics for tree classification with parameters {'max_depth': 3, 'splitter': 'random', 'min_samples_split': 10, 'criterion': 'log_loss'}\n",
      "metrics for tree classification with parameters {'max_depth': 3, 'splitter': 'random', 'min_samples_split': 20, 'criterion': 'gini'}\n",
      "metrics for tree classification with parameters {'max_depth': 3, 'splitter': 'random', 'min_samples_split': 20, 'criterion': 'entropy'}\n",
      "metrics for tree classification with parameters {'max_depth': 3, 'splitter': 'random', 'min_samples_split': 20, 'criterion': 'log_loss'}\n",
      "metrics for tree classification with parameters {'max_depth': 4, 'splitter': 'best', 'min_samples_split': 2, 'criterion': 'gini'}\n",
      "metrics for tree classification with parameters {'max_depth': 4, 'splitter': 'best', 'min_samples_split': 2, 'criterion': 'entropy'}\n",
      "metrics for tree classification with parameters {'max_depth': 4, 'splitter': 'best', 'min_samples_split': 2, 'criterion': 'log_loss'}\n",
      "metrics for tree classification with parameters {'max_depth': 4, 'splitter': 'best', 'min_samples_split': 3, 'criterion': 'gini'}\n",
      "metrics for tree classification with parameters {'max_depth': 4, 'splitter': 'best', 'min_samples_split': 3, 'criterion': 'entropy'}\n",
      "metrics for tree classification with parameters {'max_depth': 4, 'splitter': 'best', 'min_samples_split': 3, 'criterion': 'log_loss'}\n",
      "metrics for tree classification with parameters {'max_depth': 4, 'splitter': 'best', 'min_samples_split': 4, 'criterion': 'gini'}\n",
      "metrics for tree classification with parameters {'max_depth': 4, 'splitter': 'best', 'min_samples_split': 4, 'criterion': 'entropy'}\n",
      "metrics for tree classification with parameters {'max_depth': 4, 'splitter': 'best', 'min_samples_split': 4, 'criterion': 'log_loss'}\n",
      "metrics for tree classification with parameters {'max_depth': 4, 'splitter': 'best', 'min_samples_split': 5, 'criterion': 'gini'}\n",
      "metrics for tree classification with parameters {'max_depth': 4, 'splitter': 'best', 'min_samples_split': 5, 'criterion': 'entropy'}\n",
      "metrics for tree classification with parameters {'max_depth': 4, 'splitter': 'best', 'min_samples_split': 5, 'criterion': 'log_loss'}\n",
      "metrics for tree classification with parameters {'max_depth': 4, 'splitter': 'best', 'min_samples_split': 10, 'criterion': 'gini'}\n",
      "metrics for tree classification with parameters {'max_depth': 4, 'splitter': 'best', 'min_samples_split': 10, 'criterion': 'entropy'}\n",
      "metrics for tree classification with parameters {'max_depth': 4, 'splitter': 'best', 'min_samples_split': 10, 'criterion': 'log_loss'}\n",
      "metrics for tree classification with parameters {'max_depth': 4, 'splitter': 'best', 'min_samples_split': 20, 'criterion': 'gini'}\n",
      "metrics for tree classification with parameters {'max_depth': 4, 'splitter': 'best', 'min_samples_split': 20, 'criterion': 'entropy'}\n",
      "metrics for tree classification with parameters {'max_depth': 4, 'splitter': 'best', 'min_samples_split': 20, 'criterion': 'log_loss'}\n",
      "metrics for tree classification with parameters {'max_depth': 4, 'splitter': 'random', 'min_samples_split': 2, 'criterion': 'gini'}\n",
      "metrics for tree classification with parameters {'max_depth': 4, 'splitter': 'random', 'min_samples_split': 2, 'criterion': 'entropy'}\n",
      "metrics for tree classification with parameters {'max_depth': 4, 'splitter': 'random', 'min_samples_split': 2, 'criterion': 'log_loss'}\n",
      "metrics for tree classification with parameters {'max_depth': 4, 'splitter': 'random', 'min_samples_split': 3, 'criterion': 'gini'}\n",
      "metrics for tree classification with parameters {'max_depth': 4, 'splitter': 'random', 'min_samples_split': 3, 'criterion': 'entropy'}\n",
      "metrics for tree classification with parameters {'max_depth': 4, 'splitter': 'random', 'min_samples_split': 3, 'criterion': 'log_loss'}\n",
      "metrics for tree classification with parameters {'max_depth': 4, 'splitter': 'random', 'min_samples_split': 4, 'criterion': 'gini'}\n",
      "metrics for tree classification with parameters {'max_depth': 4, 'splitter': 'random', 'min_samples_split': 4, 'criterion': 'entropy'}\n",
      "metrics for tree classification with parameters {'max_depth': 4, 'splitter': 'random', 'min_samples_split': 4, 'criterion': 'log_loss'}\n",
      "metrics for tree classification with parameters {'max_depth': 4, 'splitter': 'random', 'min_samples_split': 5, 'criterion': 'gini'}\n",
      "metrics for tree classification with parameters {'max_depth': 4, 'splitter': 'random', 'min_samples_split': 5, 'criterion': 'entropy'}\n",
      "metrics for tree classification with parameters {'max_depth': 4, 'splitter': 'random', 'min_samples_split': 5, 'criterion': 'log_loss'}\n",
      "metrics for tree classification with parameters {'max_depth': 4, 'splitter': 'random', 'min_samples_split': 10, 'criterion': 'gini'}\n",
      "metrics for tree classification with parameters {'max_depth': 4, 'splitter': 'random', 'min_samples_split': 10, 'criterion': 'entropy'}\n",
      "metrics for tree classification with parameters {'max_depth': 4, 'splitter': 'random', 'min_samples_split': 10, 'criterion': 'log_loss'}\n",
      "metrics for tree classification with parameters {'max_depth': 4, 'splitter': 'random', 'min_samples_split': 20, 'criterion': 'gini'}\n",
      "metrics for tree classification with parameters {'max_depth': 4, 'splitter': 'random', 'min_samples_split': 20, 'criterion': 'entropy'}\n",
      "metrics for tree classification with parameters {'max_depth': 4, 'splitter': 'random', 'min_samples_split': 20, 'criterion': 'log_loss'}\n",
      "metrics for tree classification with parameters {'max_depth': 5, 'splitter': 'best', 'min_samples_split': 2, 'criterion': 'gini'}\n",
      "metrics for tree classification with parameters {'max_depth': 5, 'splitter': 'best', 'min_samples_split': 2, 'criterion': 'entropy'}\n",
      "metrics for tree classification with parameters {'max_depth': 5, 'splitter': 'best', 'min_samples_split': 2, 'criterion': 'log_loss'}\n",
      "metrics for tree classification with parameters {'max_depth': 5, 'splitter': 'best', 'min_samples_split': 3, 'criterion': 'gini'}\n",
      "metrics for tree classification with parameters {'max_depth': 5, 'splitter': 'best', 'min_samples_split': 3, 'criterion': 'entropy'}\n",
      "metrics for tree classification with parameters {'max_depth': 5, 'splitter': 'best', 'min_samples_split': 3, 'criterion': 'log_loss'}\n",
      "metrics for tree classification with parameters {'max_depth': 5, 'splitter': 'best', 'min_samples_split': 4, 'criterion': 'gini'}\n",
      "metrics for tree classification with parameters {'max_depth': 5, 'splitter': 'best', 'min_samples_split': 4, 'criterion': 'entropy'}\n",
      "metrics for tree classification with parameters {'max_depth': 5, 'splitter': 'best', 'min_samples_split': 4, 'criterion': 'log_loss'}\n",
      "metrics for tree classification with parameters {'max_depth': 5, 'splitter': 'best', 'min_samples_split': 5, 'criterion': 'gini'}\n",
      "metrics for tree classification with parameters {'max_depth': 5, 'splitter': 'best', 'min_samples_split': 5, 'criterion': 'entropy'}\n",
      "metrics for tree classification with parameters {'max_depth': 5, 'splitter': 'best', 'min_samples_split': 5, 'criterion': 'log_loss'}\n",
      "metrics for tree classification with parameters {'max_depth': 5, 'splitter': 'best', 'min_samples_split': 10, 'criterion': 'gini'}\n",
      "metrics for tree classification with parameters {'max_depth': 5, 'splitter': 'best', 'min_samples_split': 10, 'criterion': 'entropy'}\n",
      "metrics for tree classification with parameters {'max_depth': 5, 'splitter': 'best', 'min_samples_split': 10, 'criterion': 'log_loss'}\n",
      "metrics for tree classification with parameters {'max_depth': 5, 'splitter': 'best', 'min_samples_split': 20, 'criterion': 'gini'}\n",
      "metrics for tree classification with parameters {'max_depth': 5, 'splitter': 'best', 'min_samples_split': 20, 'criterion': 'entropy'}\n",
      "metrics for tree classification with parameters {'max_depth': 5, 'splitter': 'best', 'min_samples_split': 20, 'criterion': 'log_loss'}\n",
      "metrics for tree classification with parameters {'max_depth': 5, 'splitter': 'random', 'min_samples_split': 2, 'criterion': 'gini'}\n",
      "metrics for tree classification with parameters {'max_depth': 5, 'splitter': 'random', 'min_samples_split': 2, 'criterion': 'entropy'}\n",
      "metrics for tree classification with parameters {'max_depth': 5, 'splitter': 'random', 'min_samples_split': 2, 'criterion': 'log_loss'}\n",
      "metrics for tree classification with parameters {'max_depth': 5, 'splitter': 'random', 'min_samples_split': 3, 'criterion': 'gini'}\n",
      "metrics for tree classification with parameters {'max_depth': 5, 'splitter': 'random', 'min_samples_split': 3, 'criterion': 'entropy'}\n",
      "metrics for tree classification with parameters {'max_depth': 5, 'splitter': 'random', 'min_samples_split': 3, 'criterion': 'log_loss'}\n",
      "metrics for tree classification with parameters {'max_depth': 5, 'splitter': 'random', 'min_samples_split': 4, 'criterion': 'gini'}\n",
      "metrics for tree classification with parameters {'max_depth': 5, 'splitter': 'random', 'min_samples_split': 4, 'criterion': 'entropy'}\n",
      "metrics for tree classification with parameters {'max_depth': 5, 'splitter': 'random', 'min_samples_split': 4, 'criterion': 'log_loss'}\n",
      "metrics for tree classification with parameters {'max_depth': 5, 'splitter': 'random', 'min_samples_split': 5, 'criterion': 'gini'}\n",
      "metrics for tree classification with parameters {'max_depth': 5, 'splitter': 'random', 'min_samples_split': 5, 'criterion': 'entropy'}\n",
      "metrics for tree classification with parameters {'max_depth': 5, 'splitter': 'random', 'min_samples_split': 5, 'criterion': 'log_loss'}\n",
      "metrics for tree classification with parameters {'max_depth': 5, 'splitter': 'random', 'min_samples_split': 10, 'criterion': 'gini'}\n",
      "metrics for tree classification with parameters {'max_depth': 5, 'splitter': 'random', 'min_samples_split': 10, 'criterion': 'entropy'}\n",
      "metrics for tree classification with parameters {'max_depth': 5, 'splitter': 'random', 'min_samples_split': 10, 'criterion': 'log_loss'}\n",
      "metrics for tree classification with parameters {'max_depth': 5, 'splitter': 'random', 'min_samples_split': 20, 'criterion': 'gini'}\n",
      "metrics for tree classification with parameters {'max_depth': 5, 'splitter': 'random', 'min_samples_split': 20, 'criterion': 'entropy'}\n",
      "metrics for tree classification with parameters {'max_depth': 5, 'splitter': 'random', 'min_samples_split': 20, 'criterion': 'log_loss'}\n",
      "metrics for tree classification with parameters {'max_depth': 10, 'splitter': 'best', 'min_samples_split': 2, 'criterion': 'gini'}\n",
      "metrics for tree classification with parameters {'max_depth': 10, 'splitter': 'best', 'min_samples_split': 2, 'criterion': 'entropy'}\n",
      "metrics for tree classification with parameters {'max_depth': 10, 'splitter': 'best', 'min_samples_split': 2, 'criterion': 'log_loss'}\n",
      "metrics for tree classification with parameters {'max_depth': 10, 'splitter': 'best', 'min_samples_split': 3, 'criterion': 'gini'}\n",
      "metrics for tree classification with parameters {'max_depth': 10, 'splitter': 'best', 'min_samples_split': 3, 'criterion': 'entropy'}\n",
      "metrics for tree classification with parameters {'max_depth': 10, 'splitter': 'best', 'min_samples_split': 3, 'criterion': 'log_loss'}\n",
      "metrics for tree classification with parameters {'max_depth': 10, 'splitter': 'best', 'min_samples_split': 4, 'criterion': 'gini'}\n",
      "metrics for tree classification with parameters {'max_depth': 10, 'splitter': 'best', 'min_samples_split': 4, 'criterion': 'entropy'}\n",
      "metrics for tree classification with parameters {'max_depth': 10, 'splitter': 'best', 'min_samples_split': 4, 'criterion': 'log_loss'}\n",
      "metrics for tree classification with parameters {'max_depth': 10, 'splitter': 'best', 'min_samples_split': 5, 'criterion': 'gini'}\n",
      "metrics for tree classification with parameters {'max_depth': 10, 'splitter': 'best', 'min_samples_split': 5, 'criterion': 'entropy'}\n",
      "metrics for tree classification with parameters {'max_depth': 10, 'splitter': 'best', 'min_samples_split': 5, 'criterion': 'log_loss'}\n",
      "metrics for tree classification with parameters {'max_depth': 10, 'splitter': 'best', 'min_samples_split': 10, 'criterion': 'gini'}\n",
      "metrics for tree classification with parameters {'max_depth': 10, 'splitter': 'best', 'min_samples_split': 10, 'criterion': 'entropy'}\n",
      "metrics for tree classification with parameters {'max_depth': 10, 'splitter': 'best', 'min_samples_split': 10, 'criterion': 'log_loss'}\n",
      "metrics for tree classification with parameters {'max_depth': 10, 'splitter': 'best', 'min_samples_split': 20, 'criterion': 'gini'}\n",
      "metrics for tree classification with parameters {'max_depth': 10, 'splitter': 'best', 'min_samples_split': 20, 'criterion': 'entropy'}\n",
      "metrics for tree classification with parameters {'max_depth': 10, 'splitter': 'best', 'min_samples_split': 20, 'criterion': 'log_loss'}\n",
      "metrics for tree classification with parameters {'max_depth': 10, 'splitter': 'random', 'min_samples_split': 2, 'criterion': 'gini'}\n",
      "metrics for tree classification with parameters {'max_depth': 10, 'splitter': 'random', 'min_samples_split': 2, 'criterion': 'entropy'}\n",
      "metrics for tree classification with parameters {'max_depth': 10, 'splitter': 'random', 'min_samples_split': 2, 'criterion': 'log_loss'}\n",
      "metrics for tree classification with parameters {'max_depth': 10, 'splitter': 'random', 'min_samples_split': 3, 'criterion': 'gini'}\n",
      "metrics for tree classification with parameters {'max_depth': 10, 'splitter': 'random', 'min_samples_split': 3, 'criterion': 'entropy'}\n",
      "metrics for tree classification with parameters {'max_depth': 10, 'splitter': 'random', 'min_samples_split': 3, 'criterion': 'log_loss'}\n",
      "metrics for tree classification with parameters {'max_depth': 10, 'splitter': 'random', 'min_samples_split': 4, 'criterion': 'gini'}\n",
      "metrics for tree classification with parameters {'max_depth': 10, 'splitter': 'random', 'min_samples_split': 4, 'criterion': 'entropy'}\n",
      "metrics for tree classification with parameters {'max_depth': 10, 'splitter': 'random', 'min_samples_split': 4, 'criterion': 'log_loss'}\n",
      "metrics for tree classification with parameters {'max_depth': 10, 'splitter': 'random', 'min_samples_split': 5, 'criterion': 'gini'}\n",
      "metrics for tree classification with parameters {'max_depth': 10, 'splitter': 'random', 'min_samples_split': 5, 'criterion': 'entropy'}\n",
      "metrics for tree classification with parameters {'max_depth': 10, 'splitter': 'random', 'min_samples_split': 5, 'criterion': 'log_loss'}\n",
      "metrics for tree classification with parameters {'max_depth': 10, 'splitter': 'random', 'min_samples_split': 10, 'criterion': 'gini'}\n",
      "metrics for tree classification with parameters {'max_depth': 10, 'splitter': 'random', 'min_samples_split': 10, 'criterion': 'entropy'}\n",
      "metrics for tree classification with parameters {'max_depth': 10, 'splitter': 'random', 'min_samples_split': 10, 'criterion': 'log_loss'}\n",
      "metrics for tree classification with parameters {'max_depth': 10, 'splitter': 'random', 'min_samples_split': 20, 'criterion': 'gini'}\n",
      "metrics for tree classification with parameters {'max_depth': 10, 'splitter': 'random', 'min_samples_split': 20, 'criterion': 'entropy'}\n",
      "metrics for tree classification with parameters {'max_depth': 10, 'splitter': 'random', 'min_samples_split': 20, 'criterion': 'log_loss'}\n",
      "metrics for tree classification with parameters {'max_depth': 20, 'splitter': 'best', 'min_samples_split': 2, 'criterion': 'gini'}\n",
      "metrics for tree classification with parameters {'max_depth': 20, 'splitter': 'best', 'min_samples_split': 2, 'criterion': 'entropy'}\n",
      "metrics for tree classification with parameters {'max_depth': 20, 'splitter': 'best', 'min_samples_split': 2, 'criterion': 'log_loss'}\n",
      "metrics for tree classification with parameters {'max_depth': 20, 'splitter': 'best', 'min_samples_split': 3, 'criterion': 'gini'}\n",
      "metrics for tree classification with parameters {'max_depth': 20, 'splitter': 'best', 'min_samples_split': 3, 'criterion': 'entropy'}\n",
      "metrics for tree classification with parameters {'max_depth': 20, 'splitter': 'best', 'min_samples_split': 3, 'criterion': 'log_loss'}\n",
      "metrics for tree classification with parameters {'max_depth': 20, 'splitter': 'best', 'min_samples_split': 4, 'criterion': 'gini'}\n",
      "metrics for tree classification with parameters {'max_depth': 20, 'splitter': 'best', 'min_samples_split': 4, 'criterion': 'entropy'}\n",
      "metrics for tree classification with parameters {'max_depth': 20, 'splitter': 'best', 'min_samples_split': 4, 'criterion': 'log_loss'}\n",
      "metrics for tree classification with parameters {'max_depth': 20, 'splitter': 'best', 'min_samples_split': 5, 'criterion': 'gini'}\n",
      "metrics for tree classification with parameters {'max_depth': 20, 'splitter': 'best', 'min_samples_split': 5, 'criterion': 'entropy'}\n",
      "metrics for tree classification with parameters {'max_depth': 20, 'splitter': 'best', 'min_samples_split': 5, 'criterion': 'log_loss'}\n",
      "metrics for tree classification with parameters {'max_depth': 20, 'splitter': 'best', 'min_samples_split': 10, 'criterion': 'gini'}\n",
      "metrics for tree classification with parameters {'max_depth': 20, 'splitter': 'best', 'min_samples_split': 10, 'criterion': 'entropy'}\n",
      "metrics for tree classification with parameters {'max_depth': 20, 'splitter': 'best', 'min_samples_split': 10, 'criterion': 'log_loss'}\n",
      "metrics for tree classification with parameters {'max_depth': 20, 'splitter': 'best', 'min_samples_split': 20, 'criterion': 'gini'}\n",
      "metrics for tree classification with parameters {'max_depth': 20, 'splitter': 'best', 'min_samples_split': 20, 'criterion': 'entropy'}\n",
      "metrics for tree classification with parameters {'max_depth': 20, 'splitter': 'best', 'min_samples_split': 20, 'criterion': 'log_loss'}\n",
      "metrics for tree classification with parameters {'max_depth': 20, 'splitter': 'random', 'min_samples_split': 2, 'criterion': 'gini'}\n",
      "metrics for tree classification with parameters {'max_depth': 20, 'splitter': 'random', 'min_samples_split': 2, 'criterion': 'entropy'}\n",
      "metrics for tree classification with parameters {'max_depth': 20, 'splitter': 'random', 'min_samples_split': 2, 'criterion': 'log_loss'}\n",
      "metrics for tree classification with parameters {'max_depth': 20, 'splitter': 'random', 'min_samples_split': 3, 'criterion': 'gini'}\n",
      "metrics for tree classification with parameters {'max_depth': 20, 'splitter': 'random', 'min_samples_split': 3, 'criterion': 'entropy'}\n",
      "metrics for tree classification with parameters {'max_depth': 20, 'splitter': 'random', 'min_samples_split': 3, 'criterion': 'log_loss'}\n",
      "metrics for tree classification with parameters {'max_depth': 20, 'splitter': 'random', 'min_samples_split': 4, 'criterion': 'gini'}\n",
      "metrics for tree classification with parameters {'max_depth': 20, 'splitter': 'random', 'min_samples_split': 4, 'criterion': 'entropy'}\n",
      "metrics for tree classification with parameters {'max_depth': 20, 'splitter': 'random', 'min_samples_split': 4, 'criterion': 'log_loss'}\n",
      "metrics for tree classification with parameters {'max_depth': 20, 'splitter': 'random', 'min_samples_split': 5, 'criterion': 'gini'}\n",
      "metrics for tree classification with parameters {'max_depth': 20, 'splitter': 'random', 'min_samples_split': 5, 'criterion': 'entropy'}\n",
      "metrics for tree classification with parameters {'max_depth': 20, 'splitter': 'random', 'min_samples_split': 5, 'criterion': 'log_loss'}\n",
      "metrics for tree classification with parameters {'max_depth': 20, 'splitter': 'random', 'min_samples_split': 10, 'criterion': 'gini'}\n",
      "metrics for tree classification with parameters {'max_depth': 20, 'splitter': 'random', 'min_samples_split': 10, 'criterion': 'entropy'}\n",
      "metrics for tree classification with parameters {'max_depth': 20, 'splitter': 'random', 'min_samples_split': 10, 'criterion': 'log_loss'}\n",
      "metrics for tree classification with parameters {'max_depth': 20, 'splitter': 'random', 'min_samples_split': 20, 'criterion': 'gini'}\n",
      "metrics for tree classification with parameters {'max_depth': 20, 'splitter': 'random', 'min_samples_split': 20, 'criterion': 'entropy'}\n",
      "metrics for tree classification with parameters {'max_depth': 20, 'splitter': 'random', 'min_samples_split': 20, 'criterion': 'log_loss'}\n",
      "metrics for tree classification with parameters {'max_depth': None, 'splitter': 'best', 'min_samples_split': 2, 'criterion': 'gini'}\n",
      "metrics for tree classification with parameters {'max_depth': None, 'splitter': 'best', 'min_samples_split': 2, 'criterion': 'entropy'}\n",
      "metrics for tree classification with parameters {'max_depth': None, 'splitter': 'best', 'min_samples_split': 2, 'criterion': 'log_loss'}\n",
      "metrics for tree classification with parameters {'max_depth': None, 'splitter': 'best', 'min_samples_split': 3, 'criterion': 'gini'}\n",
      "metrics for tree classification with parameters {'max_depth': None, 'splitter': 'best', 'min_samples_split': 3, 'criterion': 'entropy'}\n",
      "metrics for tree classification with parameters {'max_depth': None, 'splitter': 'best', 'min_samples_split': 3, 'criterion': 'log_loss'}\n",
      "metrics for tree classification with parameters {'max_depth': None, 'splitter': 'best', 'min_samples_split': 4, 'criterion': 'gini'}\n",
      "metrics for tree classification with parameters {'max_depth': None, 'splitter': 'best', 'min_samples_split': 4, 'criterion': 'entropy'}\n",
      "metrics for tree classification with parameters {'max_depth': None, 'splitter': 'best', 'min_samples_split': 4, 'criterion': 'log_loss'}\n",
      "metrics for tree classification with parameters {'max_depth': None, 'splitter': 'best', 'min_samples_split': 5, 'criterion': 'gini'}\n",
      "metrics for tree classification with parameters {'max_depth': None, 'splitter': 'best', 'min_samples_split': 5, 'criterion': 'entropy'}\n",
      "metrics for tree classification with parameters {'max_depth': None, 'splitter': 'best', 'min_samples_split': 5, 'criterion': 'log_loss'}\n",
      "metrics for tree classification with parameters {'max_depth': None, 'splitter': 'best', 'min_samples_split': 10, 'criterion': 'gini'}\n",
      "metrics for tree classification with parameters {'max_depth': None, 'splitter': 'best', 'min_samples_split': 10, 'criterion': 'entropy'}\n",
      "metrics for tree classification with parameters {'max_depth': None, 'splitter': 'best', 'min_samples_split': 10, 'criterion': 'log_loss'}\n",
      "metrics for tree classification with parameters {'max_depth': None, 'splitter': 'best', 'min_samples_split': 20, 'criterion': 'gini'}\n",
      "metrics for tree classification with parameters {'max_depth': None, 'splitter': 'best', 'min_samples_split': 20, 'criterion': 'entropy'}\n",
      "metrics for tree classification with parameters {'max_depth': None, 'splitter': 'best', 'min_samples_split': 20, 'criterion': 'log_loss'}\n",
      "metrics for tree classification with parameters {'max_depth': None, 'splitter': 'random', 'min_samples_split': 2, 'criterion': 'gini'}\n",
      "metrics for tree classification with parameters {'max_depth': None, 'splitter': 'random', 'min_samples_split': 2, 'criterion': 'entropy'}\n",
      "metrics for tree classification with parameters {'max_depth': None, 'splitter': 'random', 'min_samples_split': 2, 'criterion': 'log_loss'}\n",
      "metrics for tree classification with parameters {'max_depth': None, 'splitter': 'random', 'min_samples_split': 3, 'criterion': 'gini'}\n",
      "metrics for tree classification with parameters {'max_depth': None, 'splitter': 'random', 'min_samples_split': 3, 'criterion': 'entropy'}\n",
      "metrics for tree classification with parameters {'max_depth': None, 'splitter': 'random', 'min_samples_split': 3, 'criterion': 'log_loss'}\n",
      "metrics for tree classification with parameters {'max_depth': None, 'splitter': 'random', 'min_samples_split': 4, 'criterion': 'gini'}\n",
      "metrics for tree classification with parameters {'max_depth': None, 'splitter': 'random', 'min_samples_split': 4, 'criterion': 'entropy'}\n",
      "metrics for tree classification with parameters {'max_depth': None, 'splitter': 'random', 'min_samples_split': 4, 'criterion': 'log_loss'}\n",
      "metrics for tree classification with parameters {'max_depth': None, 'splitter': 'random', 'min_samples_split': 5, 'criterion': 'gini'}\n",
      "metrics for tree classification with parameters {'max_depth': None, 'splitter': 'random', 'min_samples_split': 5, 'criterion': 'entropy'}\n",
      "metrics for tree classification with parameters {'max_depth': None, 'splitter': 'random', 'min_samples_split': 5, 'criterion': 'log_loss'}\n",
      "metrics for tree classification with parameters {'max_depth': None, 'splitter': 'random', 'min_samples_split': 10, 'criterion': 'gini'}\n",
      "metrics for tree classification with parameters {'max_depth': None, 'splitter': 'random', 'min_samples_split': 10, 'criterion': 'entropy'}\n",
      "metrics for tree classification with parameters {'max_depth': None, 'splitter': 'random', 'min_samples_split': 10, 'criterion': 'log_loss'}\n",
      "metrics for tree classification with parameters {'max_depth': None, 'splitter': 'random', 'min_samples_split': 20, 'criterion': 'gini'}\n",
      "metrics for tree classification with parameters {'max_depth': None, 'splitter': 'random', 'min_samples_split': 20, 'criterion': 'entropy'}\n",
      "metrics for tree classification with parameters {'max_depth': None, 'splitter': 'random', 'min_samples_split': 20, 'criterion': 'log_loss'}\n",
      "calculated 289 trees\n",
      "kept 10 trees before pruning\n",
      "pruning tree with acuracy 0.9833333333333333\n",
      "pruning tree with acuracy 0.8803894297635605\n",
      "pruning tree with acuracy 0.874826147426982\n",
      "pruning tree with acuracy 0.8734353268428373\n",
      "pruning tree with acuracy 0.8720445062586927\n",
      "pruning tree with acuracy 0.8720445062586927\n",
      "pruning tree with acuracy 0.8720445062586927\n",
      "pruning tree with acuracy 0.8706536856745479\n",
      "pruning tree with acuracy 0.8706536856745479\n",
      "pruning tree with acuracy 0.8706536856745479\n",
      "kept 10 trees after pruning\n",
      "best acuracy: 1.0\n"
     ]
    },
    {
     "data": {
      "text/plain": [
       "[Text(0.25009418623096447, 0.96875, 'x[36] <= 0.5\\ngini = 0.9\\nsamples = 1797\\nvalue = [178, 182, 177, 183, 181, 182, 181, 179, 174, 180]'),\n",
       " Text(0.06091370558375635, 0.90625, 'x[28] <= 2.5\\ngini = 0.547\\nsamples = 275\\nvalue = [174, 0, 4, 1, 6, 25, 5, 0, 3, 57]'),\n",
       " Text(0.030456852791878174, 0.84375, 'x[21] <= 0.5\\ngini = 0.17\\nsamples = 188\\nvalue = [171, 0, 2, 0, 6, 6, 3, 0, 0, 0]'),\n",
       " Text(0.015228426395939087, 0.78125, 'x[61] <= 0.5\\ngini = 0.719\\nsamples = 16\\nvalue = [1, 0, 1, 0, 5, 6, 3, 0, 0, 0]'),\n",
       " Text(0.01015228426395939, 0.71875, 'gini = 0.0\\nsamples = 6\\nvalue = [0, 0, 0, 0, 0, 6, 0, 0, 0, 0]'),\n",
       " Text(0.02030456852791878, 0.71875, 'x[37] <= 5.5\\ngini = 0.64\\nsamples = 10\\nvalue = [1, 0, 1, 0, 5, 0, 3, 0, 0, 0]'),\n",
       " Text(0.015228426395939087, 0.65625, 'x[43] <= 11.5\\ngini = 0.56\\nsamples = 5\\nvalue = [1, 0, 1, 0, 0, 0, 3, 0, 0, 0]'),\n",
       " Text(0.01015228426395939, 0.59375, 'x[13] <= 5.5\\ngini = 0.5\\nsamples = 2\\nvalue = [1, 0, 1, 0, 0, 0, 0, 0, 0, 0]'),\n",
       " Text(0.005076142131979695, 0.53125, 'gini = 0.0\\nsamples = 1\\nvalue = [0, 0, 1, 0, 0, 0, 0, 0, 0, 0]'),\n",
       " Text(0.015228426395939087, 0.53125, 'gini = 0.0\\nsamples = 1\\nvalue = [1, 0, 0, 0, 0, 0, 0, 0, 0, 0]'),\n",
       " Text(0.02030456852791878, 0.59375, 'gini = 0.0\\nsamples = 3\\nvalue = [0, 0, 0, 0, 0, 0, 3, 0, 0, 0]'),\n",
       " Text(0.025380710659898477, 0.65625, 'gini = 0.0\\nsamples = 5\\nvalue = [0, 0, 0, 0, 5, 0, 0, 0, 0, 0]'),\n",
       " Text(0.04568527918781726, 0.78125, 'x[55] <= 2.0\\ngini = 0.023\\nsamples = 172\\nvalue = [170, 0, 1, 0, 1, 0, 0, 0, 0, 0]'),\n",
       " Text(0.04060913705583756, 0.71875, 'x[43] <= 14.5\\ngini = 0.012\\nsamples = 171\\nvalue = [170, 0, 0, 0, 1, 0, 0, 0, 0, 0]'),\n",
       " Text(0.03553299492385787, 0.65625, 'gini = 0.0\\nsamples = 170\\nvalue = [170, 0, 0, 0, 0, 0, 0, 0, 0, 0]'),\n",
       " Text(0.04568527918781726, 0.65625, 'gini = 0.0\\nsamples = 1\\nvalue = [0, 0, 0, 0, 1, 0, 0, 0, 0, 0]'),\n",
       " Text(0.050761421319796954, 0.71875, 'gini = 0.0\\nsamples = 1\\nvalue = [0, 0, 1, 0, 0, 0, 0, 0, 0, 0]'),\n",
       " Text(0.09137055837563451, 0.84375, 'x[21] <= 6.5\\ngini = 0.519\\nsamples = 87\\nvalue = [3, 0, 2, 1, 0, 19, 2, 0, 3, 57]'),\n",
       " Text(0.07106598984771574, 0.78125, 'x[42] <= 3.5\\ngini = 0.384\\nsamples = 22\\nvalue = [0, 0, 2, 0, 0, 17, 2, 0, 0, 1]'),\n",
       " Text(0.06091370558375635, 0.71875, 'x[4] <= 8.0\\ngini = 0.105\\nsamples = 18\\nvalue = [0, 0, 0, 0, 0, 17, 0, 0, 0, 1]'),\n",
       " Text(0.05583756345177665, 0.65625, 'gini = 0.0\\nsamples = 1\\nvalue = [0, 0, 0, 0, 0, 0, 0, 0, 0, 1]'),\n",
       " Text(0.06598984771573604, 0.65625, 'gini = 0.0\\nsamples = 17\\nvalue = [0, 0, 0, 0, 0, 17, 0, 0, 0, 0]'),\n",
       " Text(0.08121827411167512, 0.71875, 'x[9] <= 3.5\\ngini = 0.5\\nsamples = 4\\nvalue = [0, 0, 2, 0, 0, 0, 2, 0, 0, 0]'),\n",
       " Text(0.07614213197969544, 0.65625, 'gini = 0.0\\nsamples = 2\\nvalue = [0, 0, 0, 0, 0, 0, 2, 0, 0, 0]'),\n",
       " Text(0.08629441624365482, 0.65625, 'gini = 0.0\\nsamples = 2\\nvalue = [0, 0, 2, 0, 0, 0, 0, 0, 0, 0]'),\n",
       " Text(0.1116751269035533, 0.78125, 'x[34] <= 7.5\\ngini = 0.252\\nsamples = 65\\nvalue = [3, 0, 0, 1, 0, 2, 0, 0, 3, 56]'),\n",
       " Text(0.10152284263959391, 0.71875, 'x[18] <= 2.0\\ngini = 0.034\\nsamples = 57\\nvalue = [0, 0, 0, 1, 0, 0, 0, 0, 0, 56]'),\n",
       " Text(0.09644670050761421, 0.65625, 'gini = 0.0\\nsamples = 1\\nvalue = [0, 0, 0, 1, 0, 0, 0, 0, 0, 0]'),\n",
       " Text(0.1065989847715736, 0.65625, 'gini = 0.0\\nsamples = 56\\nvalue = [0, 0, 0, 0, 0, 0, 0, 0, 0, 56]'),\n",
       " Text(0.1218274111675127, 0.71875, 'x[11] <= 14.0\\ngini = 0.656\\nsamples = 8\\nvalue = [3, 0, 0, 0, 0, 2, 0, 0, 3, 0]'),\n",
       " Text(0.116751269035533, 0.65625, 'x[19] <= 3.0\\ngini = 0.48\\nsamples = 5\\nvalue = [0, 0, 0, 0, 0, 2, 0, 0, 3, 0]'),\n",
       " Text(0.1116751269035533, 0.59375, 'gini = 0.0\\nsamples = 2\\nvalue = [0, 0, 0, 0, 0, 2, 0, 0, 0, 0]'),\n",
       " Text(0.1218274111675127, 0.59375, 'gini = 0.0\\nsamples = 3\\nvalue = [0, 0, 0, 0, 0, 0, 0, 0, 3, 0]'),\n",
       " Text(0.12690355329949238, 0.65625, 'gini = 0.0\\nsamples = 3\\nvalue = [3, 0, 0, 0, 0, 0, 0, 0, 0, 0]'),\n",
       " Text(0.43927466687817257, 0.90625, 'x[21] <= 0.5\\ngini = 0.888\\nsamples = 1522\\nvalue = [4, 182, 173, 182, 175, 157, 176, 179, 171, 123]'),\n",
       " Text(0.26871827411167515, 0.84375, 'x[42] <= 8.5\\ngini = 0.74\\nsamples = 464\\nvalue = [0, 43, 46, 15, 33, 145, 172, 6, 3, 1]'),\n",
       " Text(0.21954314720812182, 0.78125, 'x[5] <= 1.5\\ngini = 0.621\\nsamples = 246\\nvalue = [0, 35, 35, 15, 7, 142, 3, 5, 3, 1]'),\n",
       " Text(0.1802030456852792, 0.71875, 'x[19] <= 13.5\\ngini = 0.735\\nsamples = 101\\nvalue = [0, 35, 35, 14, 5, 2, 3, 4, 2, 1]'),\n",
       " Text(0.14720812182741116, 0.65625, 'x[37] <= 4.0\\ngini = 0.651\\nsamples = 61\\nvalue = [0, 3, 33, 13, 2, 2, 1, 4, 2, 1]'),\n",
       " Text(0.1319796954314721, 0.59375, 'x[58] <= 0.5\\ngini = 0.197\\nsamples = 37\\nvalue = [0, 3, 33, 0, 0, 0, 0, 0, 1, 0]'),\n",
       " Text(0.12690355329949238, 0.53125, 'x[5] <= 0.5\\ngini = 0.375\\nsamples = 4\\nvalue = [0, 3, 0, 0, 0, 0, 0, 0, 1, 0]'),\n",
       " Text(0.1218274111675127, 0.46875, 'gini = 0.0\\nsamples = 3\\nvalue = [0, 3, 0, 0, 0, 0, 0, 0, 0, 0]'),\n",
       " Text(0.1319796954314721, 0.46875, 'gini = 0.0\\nsamples = 1\\nvalue = [0, 0, 0, 0, 0, 0, 0, 0, 1, 0]'),\n",
       " Text(0.13705583756345177, 0.53125, 'gini = 0.0\\nsamples = 33\\nvalue = [0, 0, 33, 0, 0, 0, 0, 0, 0, 0]'),\n",
       " Text(0.16243654822335024, 0.59375, 'x[43] <= 5.5\\ngini = 0.66\\nsamples = 24\\nvalue = [0, 0, 0, 13, 2, 2, 1, 4, 1, 1]'),\n",
       " Text(0.14720812182741116, 0.53125, 'x[26] <= 12.5\\ngini = 0.32\\nsamples = 16\\nvalue = [0, 0, 0, 13, 0, 2, 0, 0, 0, 1]'),\n",
       " Text(0.14213197969543148, 0.46875, 'gini = 0.0\\nsamples = 13\\nvalue = [0, 0, 0, 13, 0, 0, 0, 0, 0, 0]'),\n",
       " Text(0.15228426395939088, 0.46875, 'x[33] <= 0.5\\ngini = 0.444\\nsamples = 3\\nvalue = [0, 0, 0, 0, 0, 2, 0, 0, 0, 1]'),\n",
       " Text(0.14720812182741116, 0.40625, 'gini = 0.0\\nsamples = 1\\nvalue = [0, 0, 0, 0, 0, 0, 0, 0, 0, 1]'),\n",
       " Text(0.15736040609137056, 0.40625, 'gini = 0.0\\nsamples = 2\\nvalue = [0, 0, 0, 0, 0, 2, 0, 0, 0, 0]'),\n",
       " Text(0.17766497461928935, 0.53125, 'x[20] <= 10.5\\ngini = 0.656\\nsamples = 8\\nvalue = [0, 0, 0, 0, 2, 0, 1, 4, 1, 0]'),\n",
       " Text(0.17258883248730963, 0.46875, 'x[38] <= 4.0\\ngini = 0.625\\nsamples = 4\\nvalue = [0, 0, 0, 0, 2, 0, 1, 0, 1, 0]'),\n",
       " Text(0.16751269035532995, 0.40625, 'x[9] <= 2.0\\ngini = 0.5\\nsamples = 2\\nvalue = [0, 0, 0, 0, 0, 0, 1, 0, 1, 0]'),\n",
       " Text(0.16243654822335024, 0.34375, 'gini = 0.0\\nsamples = 1\\nvalue = [0, 0, 0, 0, 0, 0, 1, 0, 0, 0]'),\n",
       " Text(0.17258883248730963, 0.34375, 'gini = 0.0\\nsamples = 1\\nvalue = [0, 0, 0, 0, 0, 0, 0, 0, 1, 0]'),\n",
       " Text(0.17766497461928935, 0.40625, 'gini = 0.0\\nsamples = 2\\nvalue = [0, 0, 0, 0, 2, 0, 0, 0, 0, 0]'),\n",
       " Text(0.18274111675126903, 0.46875, 'gini = 0.0\\nsamples = 4\\nvalue = [0, 0, 0, 0, 0, 0, 0, 4, 0, 0]'),\n",
       " Text(0.2131979695431472, 0.65625, 'x[46] <= 0.5\\ngini = 0.349\\nsamples = 40\\nvalue = [0, 32, 2, 1, 3, 0, 2, 0, 0, 0]'),\n",
       " Text(0.20304568527918782, 0.59375, 'x[27] <= 10.5\\ngini = 0.112\\nsamples = 34\\nvalue = [0, 32, 1, 0, 1, 0, 0, 0, 0, 0]'),\n",
       " Text(0.19796954314720813, 0.53125, 'x[12] <= 8.0\\ngini = 0.5\\nsamples = 2\\nvalue = [0, 0, 1, 0, 1, 0, 0, 0, 0, 0]'),\n",
       " Text(0.19289340101522842, 0.46875, 'gini = 0.0\\nsamples = 1\\nvalue = [0, 0, 0, 0, 1, 0, 0, 0, 0, 0]'),\n",
       " Text(0.20304568527918782, 0.46875, 'gini = 0.0\\nsamples = 1\\nvalue = [0, 0, 1, 0, 0, 0, 0, 0, 0, 0]'),\n",
       " Text(0.20812182741116753, 0.53125, 'gini = 0.0\\nsamples = 32\\nvalue = [0, 32, 0, 0, 0, 0, 0, 0, 0, 0]'),\n",
       " Text(0.2233502538071066, 0.59375, 'x[51] <= 15.5\\ngini = 0.722\\nsamples = 6\\nvalue = [0, 0, 1, 1, 2, 0, 2, 0, 0, 0]'),\n",
       " Text(0.2182741116751269, 0.53125, 'x[61] <= 7.5\\ngini = 0.625\\nsamples = 4\\nvalue = [0, 0, 1, 1, 2, 0, 0, 0, 0, 0]'),\n",
       " Text(0.2131979695431472, 0.46875, 'gini = 0.0\\nsamples = 2\\nvalue = [0, 0, 0, 0, 2, 0, 0, 0, 0, 0]'),\n",
       " Text(0.2233502538071066, 0.46875, 'x[46] <= 11.5\\ngini = 0.5\\nsamples = 2\\nvalue = [0, 0, 1, 1, 0, 0, 0, 0, 0, 0]'),\n",
       " Text(0.2182741116751269, 0.40625, 'gini = 0.0\\nsamples = 1\\nvalue = [0, 0, 1, 0, 0, 0, 0, 0, 0, 0]'),\n",
       " Text(0.22842639593908629, 0.40625, 'gini = 0.0\\nsamples = 1\\nvalue = [0, 0, 0, 1, 0, 0, 0, 0, 0, 0]'),\n",
       " Text(0.22842639593908629, 0.53125, 'gini = 0.0\\nsamples = 2\\nvalue = [0, 0, 0, 0, 0, 0, 2, 0, 0, 0]'),\n",
       " Text(0.25888324873096447, 0.71875, 'x[18] <= 4.5\\ngini = 0.067\\nsamples = 145\\nvalue = [0, 0, 0, 1, 2, 140, 0, 1, 1, 0]'),\n",
       " Text(0.24873096446700507, 0.65625, 'x[1] <= 0.5\\ngini = 0.667\\nsamples = 3\\nvalue = [0, 0, 0, 1, 1, 0, 0, 1, 0, 0]'),\n",
       " Text(0.2436548223350254, 0.59375, 'x[13] <= 4.5\\ngini = 0.5\\nsamples = 2\\nvalue = [0, 0, 0, 0, 1, 0, 0, 1, 0, 0]'),\n",
       " Text(0.23857868020304568, 0.53125, 'gini = 0.0\\nsamples = 1\\nvalue = [0, 0, 0, 0, 1, 0, 0, 0, 0, 0]'),\n",
       " Text(0.24873096446700507, 0.53125, 'gini = 0.0\\nsamples = 1\\nvalue = [0, 0, 0, 0, 0, 0, 0, 1, 0, 0]'),\n",
       " Text(0.25380710659898476, 0.59375, 'gini = 0.0\\nsamples = 1\\nvalue = [0, 0, 0, 1, 0, 0, 0, 0, 0, 0]'),\n",
       " Text(0.26903553299492383, 0.65625, 'x[8] <= 1.5\\ngini = 0.028\\nsamples = 142\\nvalue = [0, 0, 0, 0, 1, 140, 0, 0, 1, 0]'),\n",
       " Text(0.2639593908629442, 0.59375, 'x[24] <= 0.5\\ngini = 0.014\\nsamples = 141\\nvalue = [0, 0, 0, 0, 1, 140, 0, 0, 0, 0]'),\n",
       " Text(0.25888324873096447, 0.53125, 'gini = 0.0\\nsamples = 140\\nvalue = [0, 0, 0, 0, 0, 140, 0, 0, 0, 0]'),\n",
       " Text(0.26903553299492383, 0.53125, 'gini = 0.0\\nsamples = 1\\nvalue = [0, 0, 0, 0, 1, 0, 0, 0, 0, 0]'),\n",
       " Text(0.27411167512690354, 0.59375, 'gini = 0.0\\nsamples = 1\\nvalue = [0, 0, 0, 0, 0, 0, 0, 0, 1, 0]'),\n",
       " Text(0.31789340101522845, 0.78125, 'x[54] <= 1.5\\ngini = 0.381\\nsamples = 218\\nvalue = [0, 8, 11, 0, 26, 3, 169, 1, 0, 0]'),\n",
       " Text(0.3032994923857868, 0.71875, 'x[10] <= 5.5\\ngini = 0.636\\nsamples = 47\\nvalue = [0, 8, 2, 0, 26, 3, 7, 1, 0, 0]'),\n",
       " Text(0.2893401015228426, 0.65625, 'x[41] <= 1.5\\ngini = 0.145\\nsamples = 26\\nvalue = [0, 1, 0, 0, 24, 0, 1, 0, 0, 0]'),\n",
       " Text(0.28426395939086296, 0.59375, 'x[26] <= 12.0\\ngini = 0.5\\nsamples = 2\\nvalue = [0, 1, 0, 0, 0, 0, 1, 0, 0, 0]'),\n",
       " Text(0.27918781725888325, 0.53125, 'gini = 0.0\\nsamples = 1\\nvalue = [0, 0, 0, 0, 0, 0, 1, 0, 0, 0]'),\n",
       " Text(0.2893401015228426, 0.53125, 'gini = 0.0\\nsamples = 1\\nvalue = [0, 1, 0, 0, 0, 0, 0, 0, 0, 0]'),\n",
       " Text(0.29441624365482233, 0.59375, 'gini = 0.0\\nsamples = 24\\nvalue = [0, 0, 0, 0, 24, 0, 0, 0, 0, 0]'),\n",
       " Text(0.31725888324873097, 0.65625, 'x[45] <= 1.5\\ngini = 0.766\\nsamples = 21\\nvalue = [0, 7, 2, 0, 2, 3, 6, 1, 0, 0]'),\n",
       " Text(0.30456852791878175, 0.59375, 'x[62] <= 1.5\\ngini = 0.346\\nsamples = 9\\nvalue = [0, 7, 2, 0, 0, 0, 0, 0, 0, 0]'),\n",
       " Text(0.29949238578680204, 0.53125, 'gini = 0.0\\nsamples = 7\\nvalue = [0, 7, 0, 0, 0, 0, 0, 0, 0, 0]'),\n",
       " Text(0.3096446700507614, 0.53125, 'gini = 0.0\\nsamples = 2\\nvalue = [0, 0, 2, 0, 0, 0, 0, 0, 0, 0]'),\n",
       " Text(0.3299492385786802, 0.59375, 'x[50] <= 6.0\\ngini = 0.653\\nsamples = 12\\nvalue = [0, 0, 0, 0, 2, 3, 6, 1, 0, 0]'),\n",
       " Text(0.3197969543147208, 0.53125, 'x[44] <= 11.0\\ngini = 0.48\\nsamples = 5\\nvalue = [0, 0, 0, 0, 2, 3, 0, 0, 0, 0]'),\n",
       " Text(0.3147208121827411, 0.46875, 'gini = 0.0\\nsamples = 3\\nvalue = [0, 0, 0, 0, 0, 3, 0, 0, 0, 0]'),\n",
       " Text(0.3248730964467005, 0.46875, 'gini = 0.0\\nsamples = 2\\nvalue = [0, 0, 0, 0, 2, 0, 0, 0, 0, 0]'),\n",
       " Text(0.3401015228426396, 0.53125, 'x[10] <= 13.5\\ngini = 0.245\\nsamples = 7\\nvalue = [0, 0, 0, 0, 0, 0, 6, 1, 0, 0]'),\n",
       " Text(0.3350253807106599, 0.46875, 'gini = 0.0\\nsamples = 6\\nvalue = [0, 0, 0, 0, 0, 0, 6, 0, 0, 0]'),\n",
       " Text(0.34517766497461927, 0.46875, 'gini = 0.0\\nsamples = 1\\nvalue = [0, 0, 0, 0, 0, 0, 0, 1, 0, 0]'),\n",
       " Text(0.33248730964467005, 0.71875, 'x[2] <= 10.0\\ngini = 0.1\\nsamples = 171\\nvalue = [0, 0, 9, 0, 0, 0, 162, 0, 0, 0]'),\n",
       " Text(0.32741116751269034, 0.65625, 'gini = 0.0\\nsamples = 162\\nvalue = [0, 0, 0, 0, 0, 0, 162, 0, 0, 0]'),\n",
       " Text(0.33756345177664976, 0.65625, 'gini = 0.0\\nsamples = 9\\nvalue = [0, 0, 9, 0, 0, 0, 0, 0, 0, 0]'),\n",
       " Text(0.6098310596446701, 0.84375, 'x[60] <= 7.5\\ngini = 0.86\\nsamples = 1058\\nvalue = [4, 139, 127, 167, 142, 12, 4, 173, 168, 122]'),\n",
       " Text(0.40609137055837563, 0.78125, 'x[5] <= 0.5\\ngini = 0.552\\nsamples = 247\\nvalue = [0, 11, 6, 10, 28, 4, 0, 161, 11, 16]'),\n",
       " Text(0.3604060913705584, 0.71875, 'x[12] <= 7.5\\ngini = 0.627\\nsamples = 45\\nvalue = [0, 2, 5, 0, 26, 2, 0, 6, 3, 1]'),\n",
       " Text(0.3553299492385787, 0.65625, 'gini = 0.0\\nsamples = 26\\nvalue = [0, 0, 0, 0, 26, 0, 0, 0, 0, 0]'),\n",
       " Text(0.36548223350253806, 0.65625, 'x[53] <= 10.5\\ngini = 0.781\\nsamples = 19\\nvalue = [0, 2, 5, 0, 0, 2, 0, 6, 3, 1]'),\n",
       " Text(0.3553299492385787, 0.59375, 'x[60] <= 1.5\\ngini = 0.698\\nsamples = 13\\nvalue = [0, 1, 0, 0, 0, 2, 0, 6, 3, 1]'),\n",
       " Text(0.350253807106599, 0.53125, 'gini = 0.0\\nsamples = 6\\nvalue = [0, 0, 0, 0, 0, 0, 0, 6, 0, 0]'),\n",
       " Text(0.3604060913705584, 0.53125, 'x[50] <= 9.0\\ngini = 0.694\\nsamples = 7\\nvalue = [0, 1, 0, 0, 0, 2, 0, 0, 3, 1]'),\n",
       " Text(0.3553299492385787, 0.46875, 'x[33] <= 0.5\\ngini = 0.625\\nsamples = 4\\nvalue = [0, 1, 0, 0, 0, 2, 0, 0, 0, 1]'),\n",
       " Text(0.350253807106599, 0.40625, 'gini = 0.0\\nsamples = 2\\nvalue = [0, 0, 0, 0, 0, 2, 0, 0, 0, 0]'),\n",
       " Text(0.3604060913705584, 0.40625, 'x[52] <= 3.5\\ngini = 0.5\\nsamples = 2\\nvalue = [0, 1, 0, 0, 0, 0, 0, 0, 0, 1]'),\n",
       " Text(0.3553299492385787, 0.34375, 'gini = 0.0\\nsamples = 1\\nvalue = [0, 0, 0, 0, 0, 0, 0, 0, 0, 1]'),\n",
       " Text(0.36548223350253806, 0.34375, 'gini = 0.0\\nsamples = 1\\nvalue = [0, 1, 0, 0, 0, 0, 0, 0, 0, 0]'),\n",
       " Text(0.36548223350253806, 0.46875, 'gini = 0.0\\nsamples = 3\\nvalue = [0, 0, 0, 0, 0, 0, 0, 0, 3, 0]'),\n",
       " Text(0.3756345177664975, 0.59375, 'x[35] <= 14.0\\ngini = 0.278\\nsamples = 6\\nvalue = [0, 1, 5, 0, 0, 0, 0, 0, 0, 0]'),\n",
       " Text(0.37055837563451777, 0.53125, 'gini = 0.0\\nsamples = 5\\nvalue = [0, 0, 5, 0, 0, 0, 0, 0, 0, 0]'),\n",
       " Text(0.38071065989847713, 0.53125, 'gini = 0.0\\nsamples = 1\\nvalue = [0, 1, 0, 0, 0, 0, 0, 0, 0, 0]'),\n",
       " Text(0.4517766497461929, 0.71875, 'x[53] <= 3.5\\ngini = 0.399\\nsamples = 202\\nvalue = [0, 9, 1, 10, 2, 2, 0, 155, 8, 15]'),\n",
       " Text(0.4213197969543147, 0.65625, 'x[37] <= 0.5\\ngini = 0.269\\nsamples = 182\\nvalue = [0, 3, 0, 4, 2, 1, 0, 155, 6, 11]'),\n",
       " Text(0.39593908629441626, 0.59375, 'x[52] <= 1.0\\ngini = 0.79\\nsamples = 18\\nvalue = [0, 3, 0, 3, 0, 0, 0, 4, 5, 3]'),\n",
       " Text(0.39086294416243655, 0.53125, 'gini = 0.0\\nsamples = 4\\nvalue = [0, 0, 0, 0, 0, 0, 0, 4, 0, 0]'),\n",
       " Text(0.4010152284263959, 0.53125, 'x[20] <= 11.5\\ngini = 0.735\\nsamples = 14\\nvalue = [0, 3, 0, 3, 0, 0, 0, 0, 5, 3]'),\n",
       " Text(0.39086294416243655, 0.46875, 'x[13] <= 7.0\\ngini = 0.278\\nsamples = 6\\nvalue = [0, 0, 0, 0, 0, 0, 0, 0, 5, 1]'),\n",
       " Text(0.38578680203045684, 0.40625, 'gini = 0.0\\nsamples = 1\\nvalue = [0, 0, 0, 0, 0, 0, 0, 0, 0, 1]'),\n",
       " Text(0.39593908629441626, 0.40625, 'gini = 0.0\\nsamples = 5\\nvalue = [0, 0, 0, 0, 0, 0, 0, 0, 5, 0]'),\n",
       " Text(0.41116751269035534, 0.46875, 'x[50] <= 8.0\\ngini = 0.656\\nsamples = 8\\nvalue = [0, 3, 0, 3, 0, 0, 0, 0, 0, 2]'),\n",
       " Text(0.40609137055837563, 0.40625, 'x[26] <= 7.0\\ngini = 0.48\\nsamples = 5\\nvalue = [0, 0, 0, 3, 0, 0, 0, 0, 0, 2]'),\n",
       " Text(0.4010152284263959, 0.34375, 'gini = 0.0\\nsamples = 3\\nvalue = [0, 0, 0, 3, 0, 0, 0, 0, 0, 0]'),\n",
       " Text(0.41116751269035534, 0.34375, 'gini = 0.0\\nsamples = 2\\nvalue = [0, 0, 0, 0, 0, 0, 0, 0, 0, 2]'),\n",
       " Text(0.41624365482233505, 0.40625, 'gini = 0.0\\nsamples = 3\\nvalue = [0, 3, 0, 0, 0, 0, 0, 0, 0, 0]'),\n",
       " Text(0.4467005076142132, 0.59375, 'x[26] <= 12.5\\ngini = 0.15\\nsamples = 164\\nvalue = [0, 0, 0, 1, 2, 1, 0, 151, 1, 8]'),\n",
       " Text(0.4365482233502538, 0.53125, 'x[19] <= 12.5\\ngini = 0.028\\nsamples = 142\\nvalue = [0, 0, 0, 1, 0, 0, 0, 140, 1, 0]'),\n",
       " Text(0.43147208121827413, 0.46875, 'x[51] <= 2.5\\ngini = 0.014\\nsamples = 141\\nvalue = [0, 0, 0, 1, 0, 0, 0, 140, 0, 0]'),\n",
       " Text(0.4263959390862944, 0.40625, 'gini = 0.0\\nsamples = 1\\nvalue = [0, 0, 0, 1, 0, 0, 0, 0, 0, 0]'),\n",
       " Text(0.4365482233502538, 0.40625, 'gini = 0.0\\nsamples = 140\\nvalue = [0, 0, 0, 0, 0, 0, 0, 140, 0, 0]'),\n",
       " Text(0.4416243654822335, 0.46875, 'gini = 0.0\\nsamples = 1\\nvalue = [0, 0, 0, 0, 0, 0, 0, 0, 1, 0]'),\n",
       " Text(0.45685279187817257, 0.53125, 'x[17] <= 1.5\\ngini = 0.607\\nsamples = 22\\nvalue = [0, 0, 0, 0, 2, 1, 0, 11, 0, 8]'),\n",
       " Text(0.4517766497461929, 0.46875, 'gini = 0.0\\nsamples = 10\\nvalue = [0, 0, 0, 0, 0, 0, 0, 10, 0, 0]'),\n",
       " Text(0.4619289340101523, 0.46875, 'x[27] <= 10.0\\ngini = 0.514\\nsamples = 12\\nvalue = [0, 0, 0, 0, 2, 1, 0, 1, 0, 8]'),\n",
       " Text(0.4517766497461929, 0.40625, 'x[29] <= 13.5\\ngini = 0.444\\nsamples = 3\\nvalue = [0, 0, 0, 0, 2, 0, 0, 1, 0, 0]'),\n",
       " Text(0.4467005076142132, 0.34375, 'gini = 0.0\\nsamples = 1\\nvalue = [0, 0, 0, 0, 0, 0, 0, 1, 0, 0]'),\n",
       " Text(0.45685279187817257, 0.34375, 'gini = 0.0\\nsamples = 2\\nvalue = [0, 0, 0, 0, 2, 0, 0, 0, 0, 0]'),\n",
       " Text(0.4720812182741117, 0.40625, 'x[58] <= 12.5\\ngini = 0.198\\nsamples = 9\\nvalue = [0, 0, 0, 0, 0, 1, 0, 0, 0, 8]'),\n",
       " Text(0.467005076142132, 0.34375, 'gini = 0.0\\nsamples = 8\\nvalue = [0, 0, 0, 0, 0, 0, 0, 0, 0, 8]'),\n",
       " Text(0.47715736040609136, 0.34375, 'gini = 0.0\\nsamples = 1\\nvalue = [0, 0, 0, 0, 0, 1, 0, 0, 0, 0]'),\n",
       " Text(0.48223350253807107, 0.65625, 'x[61] <= 12.5\\ngini = 0.765\\nsamples = 20\\nvalue = [0, 6, 1, 6, 0, 1, 0, 0, 2, 4]'),\n",
       " Text(0.47715736040609136, 0.59375, 'x[18] <= 1.0\\ngini = 0.704\\nsamples = 14\\nvalue = [0, 0, 1, 6, 0, 1, 0, 0, 2, 4]'),\n",
       " Text(0.4720812182741117, 0.53125, 'gini = 0.0\\nsamples = 6\\nvalue = [0, 0, 0, 6, 0, 0, 0, 0, 0, 0]'),\n",
       " Text(0.48223350253807107, 0.53125, 'x[10] <= 13.0\\ngini = 0.656\\nsamples = 8\\nvalue = [0, 0, 1, 0, 0, 1, 0, 0, 2, 4]'),\n",
       " Text(0.47715736040609136, 0.46875, 'gini = 0.0\\nsamples = 4\\nvalue = [0, 0, 0, 0, 0, 0, 0, 0, 0, 4]'),\n",
       " Text(0.4873096446700508, 0.46875, 'x[51] <= 8.0\\ngini = 0.625\\nsamples = 4\\nvalue = [0, 0, 1, 0, 0, 1, 0, 0, 2, 0]'),\n",
       " Text(0.48223350253807107, 0.40625, 'gini = 0.0\\nsamples = 2\\nvalue = [0, 0, 0, 0, 0, 0, 0, 0, 2, 0]'),\n",
       " Text(0.49238578680203043, 0.40625, 'x[21] <= 6.0\\ngini = 0.5\\nsamples = 2\\nvalue = [0, 0, 1, 0, 0, 1, 0, 0, 0, 0]'),\n",
       " Text(0.4873096446700508, 0.34375, 'gini = 0.0\\nsamples = 1\\nvalue = [0, 0, 0, 0, 0, 1, 0, 0, 0, 0]'),\n",
       " Text(0.49746192893401014, 0.34375, 'gini = 0.0\\nsamples = 1\\nvalue = [0, 0, 1, 0, 0, 0, 0, 0, 0, 0]'),\n",
       " Text(0.4873096446700508, 0.59375, 'gini = 0.0\\nsamples = 6\\nvalue = [0, 6, 0, 0, 0, 0, 0, 0, 0, 0]'),\n",
       " Text(0.8135707487309645, 0.78125, 'x[33] <= 3.5\\ngini = 0.841\\nsamples = 811\\nvalue = [4, 128, 121, 157, 114, 8, 4, 12, 157, 106]'),\n",
       " Text(0.6740958121827412, 0.71875, 'x[43] <= 1.5\\ngini = 0.808\\nsamples = 666\\nvalue = [2, 107, 120, 156, 4, 7, 1, 10, 154, 105]'),\n",
       " Text(0.5818527918781726, 0.65625, 'x[29] <= 12.5\\ngini = 0.636\\nsamples = 281\\nvalue = [0, 19, 6, 138, 0, 7, 0, 0, 16, 95]'),\n",
       " Text(0.549492385786802, 0.59375, 'x[34] <= 3.5\\ngini = 0.342\\nsamples = 163\\nvalue = [0, 3, 2, 131, 0, 3, 0, 0, 14, 10]'),\n",
       " Text(0.5253807106598984, 0.53125, 'x[26] <= 8.5\\ngini = 0.149\\nsamples = 140\\nvalue = [0, 1, 2, 129, 0, 3, 0, 0, 0, 5]'),\n",
       " Text(0.5126903553299492, 0.46875, 'x[28] <= 7.5\\ngini = 0.073\\nsamples = 133\\nvalue = [0, 1, 2, 128, 0, 0, 0, 0, 0, 2]'),\n",
       " Text(0.5076142131979695, 0.40625, 'gini = 0.0\\nsamples = 2\\nvalue = [0, 0, 2, 0, 0, 0, 0, 0, 0, 0]'),\n",
       " Text(0.5177664974619289, 0.40625, 'x[19] <= 14.5\\ngini = 0.045\\nsamples = 131\\nvalue = [0, 1, 0, 128, 0, 0, 0, 0, 0, 2]'),\n",
       " Text(0.5076142131979695, 0.34375, 'x[4] <= 7.5\\ngini = 0.015\\nsamples = 129\\nvalue = [0, 0, 0, 128, 0, 0, 0, 0, 0, 1]'),\n",
       " Text(0.5025380710659898, 0.28125, 'x[53] <= 9.0\\ngini = 0.375\\nsamples = 4\\nvalue = [0, 0, 0, 3, 0, 0, 0, 0, 0, 1]'),\n",
       " Text(0.49746192893401014, 0.21875, 'gini = 0.0\\nsamples = 1\\nvalue = [0, 0, 0, 0, 0, 0, 0, 0, 0, 1]'),\n",
       " Text(0.5076142131979695, 0.21875, 'gini = 0.0\\nsamples = 3\\nvalue = [0, 0, 0, 3, 0, 0, 0, 0, 0, 0]'),\n",
       " Text(0.5126903553299492, 0.28125, 'gini = 0.0\\nsamples = 125\\nvalue = [0, 0, 0, 125, 0, 0, 0, 0, 0, 0]'),\n",
       " Text(0.5279187817258884, 0.34375, 'x[13] <= 7.0\\ngini = 0.5\\nsamples = 2\\nvalue = [0, 1, 0, 0, 0, 0, 0, 0, 0, 1]'),\n",
       " Text(0.5228426395939086, 0.28125, 'gini = 0.0\\nsamples = 1\\nvalue = [0, 1, 0, 0, 0, 0, 0, 0, 0, 0]'),\n",
       " Text(0.5329949238578681, 0.28125, 'gini = 0.0\\nsamples = 1\\nvalue = [0, 0, 0, 0, 0, 0, 0, 0, 0, 1]'),\n",
       " Text(0.5380710659898477, 0.46875, 'x[45] <= 9.0\\ngini = 0.612\\nsamples = 7\\nvalue = [0, 0, 0, 1, 0, 3, 0, 0, 0, 3]'),\n",
       " Text(0.5329949238578681, 0.40625, 'gini = 0.0\\nsamples = 3\\nvalue = [0, 0, 0, 0, 0, 0, 0, 0, 0, 3]'),\n",
       " Text(0.5431472081218274, 0.40625, 'x[58] <= 4.5\\ngini = 0.375\\nsamples = 4\\nvalue = [0, 0, 0, 1, 0, 3, 0, 0, 0, 0]'),\n",
       " Text(0.5380710659898477, 0.34375, 'gini = 0.0\\nsamples = 1\\nvalue = [0, 0, 0, 1, 0, 0, 0, 0, 0, 0]'),\n",
       " Text(0.5482233502538071, 0.34375, 'gini = 0.0\\nsamples = 3\\nvalue = [0, 0, 0, 0, 0, 3, 0, 0, 0, 0]'),\n",
       " Text(0.5736040609137056, 0.53125, 'x[42] <= 3.5\\ngini = 0.567\\nsamples = 23\\nvalue = [0, 2, 0, 2, 0, 0, 0, 0, 14, 5]'),\n",
       " Text(0.5685279187817259, 0.46875, 'x[25] <= 2.0\\ngini = 0.593\\nsamples = 9\\nvalue = [0, 2, 0, 2, 0, 0, 0, 0, 0, 5]'),\n",
       " Text(0.5634517766497462, 0.40625, 'x[36] <= 15.0\\ngini = 0.5\\nsamples = 4\\nvalue = [0, 2, 0, 2, 0, 0, 0, 0, 0, 0]'),\n",
       " Text(0.5583756345177665, 0.34375, 'gini = 0.0\\nsamples = 2\\nvalue = [0, 0, 0, 2, 0, 0, 0, 0, 0, 0]'),\n",
       " Text(0.5685279187817259, 0.34375, 'gini = 0.0\\nsamples = 2\\nvalue = [0, 2, 0, 0, 0, 0, 0, 0, 0, 0]'),\n",
       " Text(0.5736040609137056, 0.40625, 'gini = 0.0\\nsamples = 5\\nvalue = [0, 0, 0, 0, 0, 0, 0, 0, 0, 5]'),\n",
       " Text(0.5786802030456852, 0.46875, 'gini = 0.0\\nsamples = 14\\nvalue = [0, 0, 0, 0, 0, 0, 0, 0, 14, 0]'),\n",
       " Text(0.6142131979695431, 0.59375, 'x[35] <= 1.5\\ngini = 0.457\\nsamples = 118\\nvalue = [0, 16, 4, 7, 0, 4, 0, 0, 2, 85]'),\n",
       " Text(0.5939086294416244, 0.53125, 'x[3] <= 3.5\\ngini = 0.711\\nsamples = 40\\nvalue = [0, 15, 4, 4, 0, 3, 0, 0, 0, 14]'),\n",
       " Text(0.5888324873096447, 0.46875, 'gini = 0.0\\nsamples = 15\\nvalue = [0, 15, 0, 0, 0, 0, 0, 0, 0, 0]'),\n",
       " Text(0.5989847715736041, 0.46875, 'x[27] <= 7.5\\ngini = 0.621\\nsamples = 25\\nvalue = [0, 0, 4, 4, 0, 3, 0, 0, 0, 14]'),\n",
       " Text(0.5888324873096447, 0.40625, 'x[3] <= 15.0\\ngini = 0.66\\nsamples = 10\\nvalue = [0, 0, 4, 4, 0, 1, 0, 0, 0, 1]'),\n",
       " Text(0.583756345177665, 0.34375, 'x[54] <= 4.0\\ngini = 0.5\\nsamples = 6\\nvalue = [0, 0, 0, 4, 0, 1, 0, 0, 0, 1]'),\n",
       " Text(0.5786802030456852, 0.28125, 'x[20] <= 15.0\\ngini = 0.5\\nsamples = 2\\nvalue = [0, 0, 0, 0, 0, 1, 0, 0, 0, 1]'),\n",
       " Text(0.5736040609137056, 0.21875, 'gini = 0.0\\nsamples = 1\\nvalue = [0, 0, 0, 0, 0, 0, 0, 0, 0, 1]'),\n",
       " Text(0.583756345177665, 0.21875, 'gini = 0.0\\nsamples = 1\\nvalue = [0, 0, 0, 0, 0, 1, 0, 0, 0, 0]'),\n",
       " Text(0.5888324873096447, 0.28125, 'gini = 0.0\\nsamples = 4\\nvalue = [0, 0, 0, 4, 0, 0, 0, 0, 0, 0]'),\n",
       " Text(0.5939086294416244, 0.34375, 'gini = 0.0\\nsamples = 4\\nvalue = [0, 0, 4, 0, 0, 0, 0, 0, 0, 0]'),\n",
       " Text(0.6091370558375635, 0.40625, 'x[3] <= 15.5\\ngini = 0.231\\nsamples = 15\\nvalue = [0, 0, 0, 0, 0, 2, 0, 0, 0, 13]'),\n",
       " Text(0.6040609137055838, 0.34375, 'gini = 0.0\\nsamples = 13\\nvalue = [0, 0, 0, 0, 0, 0, 0, 0, 0, 13]'),\n",
       " Text(0.6142131979695431, 0.34375, 'gini = 0.0\\nsamples = 2\\nvalue = [0, 0, 0, 0, 0, 2, 0, 0, 0, 0]'),\n",
       " Text(0.6345177664974619, 0.53125, 'x[26] <= 2.5\\ngini = 0.169\\nsamples = 78\\nvalue = [0, 1, 0, 3, 0, 1, 0, 0, 2, 71]'),\n",
       " Text(0.6294416243654822, 0.46875, 'gini = 0.0\\nsamples = 3\\nvalue = [0, 0, 0, 3, 0, 0, 0, 0, 0, 0]'),\n",
       " Text(0.6395939086294417, 0.46875, 'x[21] <= 10.5\\ngini = 0.103\\nsamples = 75\\nvalue = [0, 1, 0, 0, 0, 1, 0, 0, 2, 71]'),\n",
       " Text(0.6294416243654822, 0.40625, 'x[51] <= 1.0\\ngini = 0.64\\nsamples = 5\\nvalue = [0, 0, 0, 0, 0, 1, 0, 0, 2, 2]'),\n",
       " Text(0.6243654822335025, 0.34375, 'gini = 0.0\\nsamples = 2\\nvalue = [0, 0, 0, 0, 0, 0, 0, 0, 0, 2]'),\n",
       " Text(0.6345177664974619, 0.34375, 'x[13] <= 9.0\\ngini = 0.444\\nsamples = 3\\nvalue = [0, 0, 0, 0, 0, 1, 0, 0, 2, 0]'),\n",
       " Text(0.6294416243654822, 0.28125, 'gini = 0.0\\nsamples = 1\\nvalue = [0, 0, 0, 0, 0, 1, 0, 0, 0, 0]'),\n",
       " Text(0.6395939086294417, 0.28125, 'gini = 0.0\\nsamples = 2\\nvalue = [0, 0, 0, 0, 0, 0, 0, 0, 2, 0]'),\n",
       " Text(0.649746192893401, 0.40625, 'x[11] <= 1.0\\ngini = 0.028\\nsamples = 70\\nvalue = [0, 1, 0, 0, 0, 0, 0, 0, 0, 69]'),\n",
       " Text(0.6446700507614214, 0.34375, 'gini = 0.0\\nsamples = 1\\nvalue = [0, 1, 0, 0, 0, 0, 0, 0, 0, 0]'),\n",
       " Text(0.6548223350253807, 0.34375, 'gini = 0.0\\nsamples = 69\\nvalue = [0, 0, 0, 0, 0, 0, 0, 0, 0, 69]'),\n",
       " Text(0.7663388324873096, 0.65625, 'x[27] <= 7.5\\ngini = 0.728\\nsamples = 385\\nvalue = [2, 88, 114, 18, 4, 0, 1, 10, 138, 10]'),\n",
       " Text(0.6954314720812182, 0.59375, 'x[34] <= 3.5\\ngini = 0.398\\nsamples = 121\\nvalue = [1, 2, 93, 2, 2, 0, 0, 7, 9, 5]'),\n",
       " Text(0.6751269035532995, 0.53125, 'x[50] <= 0.5\\ngini = 0.121\\nsamples = 95\\nvalue = [0, 2, 89, 2, 0, 0, 0, 2, 0, 0]'),\n",
       " Text(0.6649746192893401, 0.46875, 'x[20] <= 3.5\\ngini = 0.722\\nsamples = 6\\nvalue = [0, 2, 1, 1, 0, 0, 0, 2, 0, 0]'),\n",
       " Text(0.6598984771573604, 0.40625, 'gini = 0.0\\nsamples = 2\\nvalue = [0, 0, 0, 0, 0, 0, 0, 2, 0, 0]'),\n",
       " Text(0.6700507614213198, 0.40625, 'x[27] <= 4.0\\ngini = 0.625\\nsamples = 4\\nvalue = [0, 2, 1, 1, 0, 0, 0, 0, 0, 0]'),\n",
       " Text(0.6649746192893401, 0.34375, 'x[9] <= 3.0\\ngini = 0.5\\nsamples = 2\\nvalue = [0, 0, 1, 1, 0, 0, 0, 0, 0, 0]'),\n",
       " Text(0.6598984771573604, 0.28125, 'gini = 0.0\\nsamples = 1\\nvalue = [0, 0, 0, 1, 0, 0, 0, 0, 0, 0]'),\n",
       " Text(0.6700507614213198, 0.28125, 'gini = 0.0\\nsamples = 1\\nvalue = [0, 0, 1, 0, 0, 0, 0, 0, 0, 0]'),\n",
       " Text(0.6751269035532995, 0.34375, 'gini = 0.0\\nsamples = 2\\nvalue = [0, 2, 0, 0, 0, 0, 0, 0, 0, 0]'),\n",
       " Text(0.6852791878172588, 0.46875, 'x[45] <= 14.0\\ngini = 0.022\\nsamples = 89\\nvalue = [0, 0, 88, 1, 0, 0, 0, 0, 0, 0]'),\n",
       " Text(0.6802030456852792, 0.40625, 'gini = 0.0\\nsamples = 88\\nvalue = [0, 0, 88, 0, 0, 0, 0, 0, 0, 0]'),\n",
       " Text(0.6903553299492385, 0.40625, 'gini = 0.0\\nsamples = 1\\nvalue = [0, 0, 0, 1, 0, 0, 0, 0, 0, 0]'),\n",
       " Text(0.7157360406091371, 0.53125, 'x[38] <= 0.5\\ngini = 0.775\\nsamples = 26\\nvalue = [1, 0, 4, 0, 2, 0, 0, 5, 9, 5]'),\n",
       " Text(0.7055837563451777, 0.46875, 'x[18] <= 10.5\\ngini = 0.5\\nsamples = 14\\nvalue = [1, 0, 4, 0, 0, 0, 0, 0, 9, 0]'),\n",
       " Text(0.700507614213198, 0.40625, 'gini = 0.0\\nsamples = 4\\nvalue = [0, 0, 4, 0, 0, 0, 0, 0, 0, 0]'),\n",
       " Text(0.7106598984771574, 0.40625, 'x[61] <= 1.5\\ngini = 0.18\\nsamples = 10\\nvalue = [1, 0, 0, 0, 0, 0, 0, 0, 9, 0]'),\n",
       " Text(0.7055837563451777, 0.34375, 'gini = 0.0\\nsamples = 1\\nvalue = [1, 0, 0, 0, 0, 0, 0, 0, 0, 0]'),\n",
       " Text(0.7157360406091371, 0.34375, 'gini = 0.0\\nsamples = 9\\nvalue = [0, 0, 0, 0, 0, 0, 0, 0, 9, 0]'),\n",
       " Text(0.7258883248730964, 0.46875, 'x[43] <= 6.5\\ngini = 0.625\\nsamples = 12\\nvalue = [0, 0, 0, 0, 2, 0, 0, 5, 0, 5]'),\n",
       " Text(0.7208121827411168, 0.40625, 'gini = 0.0\\nsamples = 5\\nvalue = [0, 0, 0, 0, 0, 0, 0, 0, 0, 5]'),\n",
       " Text(0.7309644670050761, 0.40625, 'x[12] <= 9.5\\ngini = 0.408\\nsamples = 7\\nvalue = [0, 0, 0, 0, 2, 0, 0, 5, 0, 0]'),\n",
       " Text(0.7258883248730964, 0.34375, 'gini = 0.0\\nsamples = 2\\nvalue = [0, 0, 0, 0, 2, 0, 0, 0, 0, 0]'),\n",
       " Text(0.7360406091370558, 0.34375, 'gini = 0.0\\nsamples = 5\\nvalue = [0, 0, 0, 0, 0, 0, 0, 5, 0, 0]'),\n",
       " Text(0.837246192893401, 0.59375, 'x[20] <= 15.5\\ngini = 0.645\\nsamples = 264\\nvalue = [1, 86, 21, 16, 2, 0, 1, 3, 129, 5]'),\n",
       " Text(0.791243654822335, 0.53125, 'x[18] <= 2.5\\ngini = 0.357\\nsamples = 147\\nvalue = [1, 5, 4, 11, 0, 0, 1, 3, 117, 5]'),\n",
       " Text(0.7614213197969543, 0.46875, 'x[58] <= 4.0\\ngini = 0.773\\nsamples = 16\\nvalue = [0, 2, 2, 6, 0, 0, 1, 2, 3, 0]'),\n",
       " Text(0.751269035532995, 0.40625, 'x[12] <= 9.5\\ngini = 0.719\\nsamples = 8\\nvalue = [0, 2, 0, 0, 0, 0, 1, 2, 3, 0]'),\n",
       " Text(0.7461928934010152, 0.34375, 'gini = 0.0\\nsamples = 3\\nvalue = [0, 0, 0, 0, 0, 0, 0, 0, 3, 0]'),\n",
       " Text(0.7563451776649747, 0.34375, 'x[19] <= 9.5\\ngini = 0.64\\nsamples = 5\\nvalue = [0, 2, 0, 0, 0, 0, 1, 2, 0, 0]'),\n",
       " Text(0.751269035532995, 0.28125, 'gini = 0.0\\nsamples = 2\\nvalue = [0, 0, 0, 0, 0, 0, 0, 2, 0, 0]'),\n",
       " Text(0.7614213197969543, 0.28125, 'x[51] <= 12.5\\ngini = 0.444\\nsamples = 3\\nvalue = [0, 2, 0, 0, 0, 0, 1, 0, 0, 0]'),\n",
       " Text(0.7563451776649747, 0.21875, 'gini = 0.0\\nsamples = 1\\nvalue = [0, 0, 0, 0, 0, 0, 1, 0, 0, 0]'),\n",
       " Text(0.766497461928934, 0.21875, 'gini = 0.0\\nsamples = 2\\nvalue = [0, 2, 0, 0, 0, 0, 0, 0, 0, 0]'),\n",
       " Text(0.7715736040609137, 0.40625, 'x[21] <= 6.0\\ngini = 0.375\\nsamples = 8\\nvalue = [0, 0, 2, 6, 0, 0, 0, 0, 0, 0]'),\n",
       " Text(0.766497461928934, 0.34375, 'gini = 0.0\\nsamples = 2\\nvalue = [0, 0, 2, 0, 0, 0, 0, 0, 0, 0]'),\n",
       " Text(0.7766497461928934, 0.34375, 'gini = 0.0\\nsamples = 6\\nvalue = [0, 0, 0, 6, 0, 0, 0, 0, 0, 0]'),\n",
       " Text(0.8210659898477157, 0.46875, 'x[38] <= 3.5\\ngini = 0.239\\nsamples = 131\\nvalue = [1, 3, 2, 5, 0, 0, 0, 1, 114, 5]'),\n",
       " Text(0.799492385786802, 0.40625, 'x[21] <= 4.0\\ngini = 0.166\\nsamples = 125\\nvalue = [0, 3, 2, 3, 0, 0, 0, 0, 114, 3]'),\n",
       " Text(0.7868020304568528, 0.34375, 'x[51] <= 14.0\\ngini = 0.48\\nsamples = 5\\nvalue = [0, 3, 0, 0, 0, 0, 0, 0, 2, 0]'),\n",
       " Text(0.7817258883248731, 0.28125, 'gini = 0.0\\nsamples = 2\\nvalue = [0, 0, 0, 0, 0, 0, 0, 0, 2, 0]'),\n",
       " Text(0.7918781725888325, 0.28125, 'gini = 0.0\\nsamples = 3\\nvalue = [0, 3, 0, 0, 0, 0, 0, 0, 0, 0]'),\n",
       " Text(0.8121827411167513, 0.34375, 'x[50] <= 2.5\\ngini = 0.127\\nsamples = 120\\nvalue = [0, 0, 2, 3, 0, 0, 0, 0, 112, 3]'),\n",
       " Text(0.8020304568527918, 0.28125, 'x[51] <= 9.5\\ngini = 0.498\\nsamples = 15\\nvalue = [0, 0, 0, 2, 0, 0, 0, 0, 10, 3]'),\n",
       " Text(0.7969543147208121, 0.21875, 'x[54] <= 0.5\\ngini = 0.48\\nsamples = 5\\nvalue = [0, 0, 0, 2, 0, 0, 0, 0, 0, 3]'),\n",
       " Text(0.7918781725888325, 0.15625, 'gini = 0.0\\nsamples = 3\\nvalue = [0, 0, 0, 0, 0, 0, 0, 0, 0, 3]'),\n",
       " Text(0.8020304568527918, 0.15625, 'gini = 0.0\\nsamples = 2\\nvalue = [0, 0, 0, 2, 0, 0, 0, 0, 0, 0]'),\n",
       " Text(0.8071065989847716, 0.21875, 'gini = 0.0\\nsamples = 10\\nvalue = [0, 0, 0, 0, 0, 0, 0, 0, 10, 0]'),\n",
       " Text(0.8223350253807107, 0.28125, 'x[35] <= 5.0\\ngini = 0.056\\nsamples = 105\\nvalue = [0, 0, 2, 1, 0, 0, 0, 0, 102, 0]'),\n",
       " Text(0.817258883248731, 0.21875, 'gini = 0.0\\nsamples = 1\\nvalue = [0, 0, 0, 1, 0, 0, 0, 0, 0, 0]'),\n",
       " Text(0.8274111675126904, 0.21875, 'x[27] <= 8.5\\ngini = 0.038\\nsamples = 104\\nvalue = [0, 0, 2, 0, 0, 0, 0, 0, 102, 0]'),\n",
       " Text(0.817258883248731, 0.15625, 'x[60] <= 15.5\\ngini = 0.5\\nsamples = 2\\nvalue = [0, 0, 1, 0, 0, 0, 0, 0, 1, 0]'),\n",
       " Text(0.8121827411167513, 0.09375, 'gini = 0.0\\nsamples = 1\\nvalue = [0, 0, 1, 0, 0, 0, 0, 0, 0, 0]'),\n",
       " Text(0.8223350253807107, 0.09375, 'gini = 0.0\\nsamples = 1\\nvalue = [0, 0, 0, 0, 0, 0, 0, 0, 1, 0]'),\n",
       " Text(0.8375634517766497, 0.15625, 'x[36] <= 4.5\\ngini = 0.019\\nsamples = 102\\nvalue = [0, 0, 1, 0, 0, 0, 0, 0, 101, 0]'),\n",
       " Text(0.8324873096446701, 0.09375, 'x[53] <= 6.5\\ngini = 0.444\\nsamples = 3\\nvalue = [0, 0, 1, 0, 0, 0, 0, 0, 2, 0]'),\n",
       " Text(0.8274111675126904, 0.03125, 'gini = 0.0\\nsamples = 2\\nvalue = [0, 0, 0, 0, 0, 0, 0, 0, 2, 0]'),\n",
       " Text(0.8375634517766497, 0.03125, 'gini = 0.0\\nsamples = 1\\nvalue = [0, 0, 1, 0, 0, 0, 0, 0, 0, 0]'),\n",
       " Text(0.8426395939086294, 0.09375, 'gini = 0.0\\nsamples = 99\\nvalue = [0, 0, 0, 0, 0, 0, 0, 0, 99, 0]'),\n",
       " Text(0.8426395939086294, 0.40625, 'x[30] <= 3.5\\ngini = 0.722\\nsamples = 6\\nvalue = [1, 0, 0, 2, 0, 0, 0, 1, 0, 2]'),\n",
       " Text(0.8375634517766497, 0.34375, 'gini = 0.0\\nsamples = 2\\nvalue = [0, 0, 0, 2, 0, 0, 0, 0, 0, 0]'),\n",
       " Text(0.8477157360406091, 0.34375, 'x[18] <= 14.5\\ngini = 0.625\\nsamples = 4\\nvalue = [1, 0, 0, 0, 0, 0, 0, 1, 0, 2]'),\n",
       " Text(0.8426395939086294, 0.28125, 'x[35] <= 11.5\\ngini = 0.5\\nsamples = 2\\nvalue = [1, 0, 0, 0, 0, 0, 0, 1, 0, 0]'),\n",
       " Text(0.8375634517766497, 0.21875, 'gini = 0.0\\nsamples = 1\\nvalue = [1, 0, 0, 0, 0, 0, 0, 0, 0, 0]'),\n",
       " Text(0.8477157360406091, 0.21875, 'gini = 0.0\\nsamples = 1\\nvalue = [0, 0, 0, 0, 0, 0, 0, 1, 0, 0]'),\n",
       " Text(0.8527918781725888, 0.28125, 'gini = 0.0\\nsamples = 2\\nvalue = [0, 0, 0, 0, 0, 0, 0, 0, 0, 2]'),\n",
       " Text(0.883248730964467, 0.53125, 'x[44] <= 6.5\\ngini = 0.487\\nsamples = 117\\nvalue = [0, 81, 17, 5, 2, 0, 0, 0, 12, 0]'),\n",
       " Text(0.8578680203045685, 0.46875, 'x[37] <= 5.0\\ngini = 0.265\\nsamples = 20\\nvalue = [0, 0, 17, 1, 0, 0, 0, 0, 2, 0]'),\n",
       " Text(0.8527918781725888, 0.40625, 'gini = 0.0\\nsamples = 17\\nvalue = [0, 0, 17, 0, 0, 0, 0, 0, 0, 0]'),\n",
       " Text(0.8629441624365483, 0.40625, 'x[9] <= 4.5\\ngini = 0.444\\nsamples = 3\\nvalue = [0, 0, 0, 1, 0, 0, 0, 0, 2, 0]'),\n",
       " Text(0.8578680203045685, 0.34375, 'gini = 0.0\\nsamples = 2\\nvalue = [0, 0, 0, 0, 0, 0, 0, 0, 2, 0]'),\n",
       " Text(0.868020304568528, 0.34375, 'gini = 0.0\\nsamples = 1\\nvalue = [0, 0, 0, 1, 0, 0, 0, 0, 0, 0]'),\n",
       " Text(0.9086294416243654, 0.46875, 'x[10] <= 13.5\\ngini = 0.29\\nsamples = 97\\nvalue = [0, 81, 0, 4, 2, 0, 0, 0, 10, 0]'),\n",
       " Text(0.8934010152284264, 0.40625, 'x[52] <= 9.0\\ngini = 0.186\\nsamples = 90\\nvalue = [0, 81, 0, 2, 2, 0, 0, 0, 5, 0]'),\n",
       " Text(0.8781725888324873, 0.34375, 'x[28] <= 10.0\\ngini = 0.56\\nsamples = 5\\nvalue = [0, 1, 0, 1, 0, 0, 0, 0, 3, 0]'),\n",
       " Text(0.8730964467005076, 0.28125, 'gini = 0.0\\nsamples = 1\\nvalue = [0, 0, 0, 1, 0, 0, 0, 0, 0, 0]'),\n",
       " Text(0.883248730964467, 0.28125, 'x[42] <= 14.5\\ngini = 0.375\\nsamples = 4\\nvalue = [0, 1, 0, 0, 0, 0, 0, 0, 3, 0]'),\n",
       " Text(0.8781725888324873, 0.21875, 'gini = 0.0\\nsamples = 3\\nvalue = [0, 0, 0, 0, 0, 0, 0, 0, 3, 0]'),\n",
       " Text(0.8883248730964467, 0.21875, 'gini = 0.0\\nsamples = 1\\nvalue = [0, 1, 0, 0, 0, 0, 0, 0, 0, 0]'),\n",
       " Text(0.9086294416243654, 0.34375, 'x[41] <= 7.5\\ngini = 0.113\\nsamples = 85\\nvalue = [0, 80, 0, 1, 2, 0, 0, 0, 2, 0]'),\n",
       " Text(0.9035532994923858, 0.28125, 'x[19] <= 5.5\\ngini = 0.07\\nsamples = 83\\nvalue = [0, 80, 0, 1, 0, 0, 0, 0, 2, 0]'),\n",
       " Text(0.8984771573604061, 0.21875, 'gini = 0.0\\nsamples = 1\\nvalue = [0, 0, 0, 1, 0, 0, 0, 0, 0, 0]'),\n",
       " Text(0.9086294416243654, 0.21875, 'x[28] <= 8.0\\ngini = 0.048\\nsamples = 82\\nvalue = [0, 80, 0, 0, 0, 0, 0, 0, 2, 0]'),\n",
       " Text(0.9035532994923858, 0.15625, 'gini = 0.0\\nsamples = 1\\nvalue = [0, 0, 0, 0, 0, 0, 0, 0, 1, 0]'),\n",
       " Text(0.9137055837563451, 0.15625, 'x[12] <= 9.0\\ngini = 0.024\\nsamples = 81\\nvalue = [0, 80, 0, 0, 0, 0, 0, 0, 1, 0]'),\n",
       " Text(0.9086294416243654, 0.09375, 'x[3] <= 11.5\\ngini = 0.5\\nsamples = 2\\nvalue = [0, 1, 0, 0, 0, 0, 0, 0, 1, 0]'),\n",
       " Text(0.9035532994923858, 0.03125, 'gini = 0.0\\nsamples = 1\\nvalue = [0, 1, 0, 0, 0, 0, 0, 0, 0, 0]'),\n",
       " Text(0.9137055837563451, 0.03125, 'gini = 0.0\\nsamples = 1\\nvalue = [0, 0, 0, 0, 0, 0, 0, 0, 1, 0]'),\n",
       " Text(0.9187817258883249, 0.09375, 'gini = 0.0\\nsamples = 79\\nvalue = [0, 79, 0, 0, 0, 0, 0, 0, 0, 0]'),\n",
       " Text(0.9137055837563451, 0.28125, 'gini = 0.0\\nsamples = 2\\nvalue = [0, 0, 0, 0, 2, 0, 0, 0, 0, 0]'),\n",
       " Text(0.9238578680203046, 0.40625, 'x[42] <= 5.0\\ngini = 0.408\\nsamples = 7\\nvalue = [0, 0, 0, 2, 0, 0, 0, 0, 5, 0]'),\n",
       " Text(0.9187817258883249, 0.34375, 'gini = 0.0\\nsamples = 2\\nvalue = [0, 0, 0, 2, 0, 0, 0, 0, 0, 0]'),\n",
       " Text(0.9289340101522843, 0.34375, 'gini = 0.0\\nsamples = 5\\nvalue = [0, 0, 0, 0, 0, 0, 0, 0, 5, 0]'),\n",
       " Text(0.9530456852791879, 0.71875, 'x[13] <= 9.5\\ngini = 0.402\\nsamples = 145\\nvalue = [2, 21, 1, 1, 110, 1, 3, 2, 3, 1]'),\n",
       " Text(0.9289340101522843, 0.65625, 'x[10] <= 10.0\\ngini = 0.088\\nsamples = 110\\nvalue = [0, 3, 0, 0, 105, 0, 1, 0, 0, 1]'),\n",
       " Text(0.9187817258883249, 0.59375, 'x[34] <= 8.5\\ngini = 0.037\\nsamples = 107\\nvalue = [0, 1, 0, 0, 105, 0, 0, 0, 0, 1]'),\n",
       " Text(0.9137055837563451, 0.53125, 'gini = 0.0\\nsamples = 1\\nvalue = [0, 1, 0, 0, 0, 0, 0, 0, 0, 0]'),\n",
       " Text(0.9238578680203046, 0.53125, 'x[5] <= 12.5\\ngini = 0.019\\nsamples = 106\\nvalue = [0, 0, 0, 0, 105, 0, 0, 0, 0, 1]'),\n",
       " Text(0.9187817258883249, 0.46875, 'gini = 0.0\\nsamples = 105\\nvalue = [0, 0, 0, 0, 105, 0, 0, 0, 0, 0]'),\n",
       " Text(0.9289340101522843, 0.46875, 'gini = 0.0\\nsamples = 1\\nvalue = [0, 0, 0, 0, 0, 0, 0, 0, 0, 1]'),\n",
       " Text(0.9390862944162437, 0.59375, 'x[43] <= 8.0\\ngini = 0.444\\nsamples = 3\\nvalue = [0, 2, 0, 0, 0, 0, 1, 0, 0, 0]'),\n",
       " Text(0.934010152284264, 0.53125, 'gini = 0.0\\nsamples = 1\\nvalue = [0, 0, 0, 0, 0, 0, 1, 0, 0, 0]'),\n",
       " Text(0.9441624365482234, 0.53125, 'gini = 0.0\\nsamples = 2\\nvalue = [0, 2, 0, 0, 0, 0, 0, 0, 0, 0]'),\n",
       " Text(0.9771573604060914, 0.65625, 'x[27] <= 14.5\\ngini = 0.696\\nsamples = 35\\nvalue = [2, 18, 1, 1, 5, 1, 2, 2, 3, 0]'),\n",
       " Text(0.9644670050761421, 0.59375, 'x[59] <= 7.5\\ngini = 0.836\\nsamples = 16\\nvalue = [2, 1, 1, 1, 5, 1, 2, 2, 1, 0]'),\n",
       " Text(0.9543147208121827, 0.53125, 'x[38] <= 2.5\\ngini = 0.449\\nsamples = 7\\nvalue = [0, 1, 1, 0, 5, 0, 0, 0, 0, 0]'),\n",
       " Text(0.949238578680203, 0.46875, 'x[4] <= 13.5\\ngini = 0.5\\nsamples = 2\\nvalue = [0, 1, 1, 0, 0, 0, 0, 0, 0, 0]'),\n",
       " Text(0.9441624365482234, 0.40625, 'gini = 0.0\\nsamples = 1\\nvalue = [0, 1, 0, 0, 0, 0, 0, 0, 0, 0]'),\n",
       " Text(0.9543147208121827, 0.40625, 'gini = 0.0\\nsamples = 1\\nvalue = [0, 0, 1, 0, 0, 0, 0, 0, 0, 0]'),\n",
       " Text(0.9593908629441624, 0.46875, 'gini = 0.0\\nsamples = 5\\nvalue = [0, 0, 0, 0, 5, 0, 0, 0, 0, 0]'),\n",
       " Text(0.9746192893401016, 0.53125, 'x[22] <= 7.5\\ngini = 0.815\\nsamples = 9\\nvalue = [2, 0, 0, 1, 0, 1, 2, 2, 1, 0]'),\n",
       " Text(0.9695431472081218, 0.46875, 'x[19] <= 13.5\\ngini = 0.776\\nsamples = 7\\nvalue = [2, 0, 0, 1, 0, 1, 2, 0, 1, 0]'),\n",
       " Text(0.9644670050761421, 0.40625, 'x[29] <= 12.5\\ngini = 0.72\\nsamples = 5\\nvalue = [0, 0, 0, 1, 0, 1, 2, 0, 1, 0]'),\n",
       " Text(0.9593908629441624, 0.34375, 'gini = 0.0\\nsamples = 2\\nvalue = [0, 0, 0, 0, 0, 0, 2, 0, 0, 0]'),\n",
       " Text(0.9695431472081218, 0.34375, 'x[6] <= 5.5\\ngini = 0.667\\nsamples = 3\\nvalue = [0, 0, 0, 1, 0, 1, 0, 0, 1, 0]'),\n",
       " Text(0.9644670050761421, 0.28125, 'x[13] <= 15.0\\ngini = 0.5\\nsamples = 2\\nvalue = [0, 0, 0, 1, 0, 0, 0, 0, 1, 0]'),\n",
       " Text(0.9593908629441624, 0.21875, 'gini = 0.0\\nsamples = 1\\nvalue = [0, 0, 0, 1, 0, 0, 0, 0, 0, 0]'),\n",
       " Text(0.9695431472081218, 0.21875, 'gini = 0.0\\nsamples = 1\\nvalue = [0, 0, 0, 0, 0, 0, 0, 0, 1, 0]'),\n",
       " Text(0.9746192893401016, 0.28125, 'gini = 0.0\\nsamples = 1\\nvalue = [0, 0, 0, 0, 0, 1, 0, 0, 0, 0]'),\n",
       " Text(0.9746192893401016, 0.40625, 'gini = 0.0\\nsamples = 2\\nvalue = [2, 0, 0, 0, 0, 0, 0, 0, 0, 0]'),\n",
       " Text(0.9796954314720813, 0.46875, 'gini = 0.0\\nsamples = 2\\nvalue = [0, 0, 0, 0, 0, 0, 0, 2, 0, 0]'),\n",
       " Text(0.9898477157360406, 0.59375, 'x[12] <= 11.0\\ngini = 0.188\\nsamples = 19\\nvalue = [0, 17, 0, 0, 0, 0, 0, 0, 2, 0]'),\n",
       " Text(0.9847715736040609, 0.53125, 'gini = 0.0\\nsamples = 2\\nvalue = [0, 0, 0, 0, 0, 0, 0, 0, 2, 0]'),\n",
       " Text(0.9949238578680203, 0.53125, 'gini = 0.0\\nsamples = 17\\nvalue = [0, 17, 0, 0, 0, 0, 0, 0, 0, 0]')]"
      ]
     },
     "execution_count": 94,
     "metadata": {},
     "output_type": "execute_result"
    },
    {
     "data": {
      "image/png": "[encoded data removed]",
      "text/plain": [
       "<Figure size 640x480 with 1 Axes>"
      ]
     },
     "metadata": {},
     "output_type": "display_data"
    }
   ],
   "source": [
    "iris = datasets.load_iris()\n",
    "\n",
    "dctree, acuracy = test_best_tree(iris.data, iris.target)\n",
    "print(f\"best acuracy: {acuracy}\")\n",
    "tree.plot_tree(dctree)"
   ]
  },
  {
   "cell_type": "markdown",
   "metadata": {},
   "source": [
    "## Digits"
   ]
  },
  {
   "cell_type": "code",
   "execution_count": null,
   "metadata": {},
   "outputs": [
    {
     "name": "stdout",
     "output_type": "stream",
     "text": [
      "metrics for tree classification with parameters {}\n",
      "metrics for tree classification with parameters {'max_depth': 1, 'splitter': 'best', 'min_samples_split': 2, 'criterion': 'gini'}\n",
      "metrics for tree classification with parameters {'max_depth': 1, 'splitter': 'best', 'min_samples_split': 2, 'criterion': 'entropy'}\n",
      "metrics for tree classification with parameters {'max_depth': 1, 'splitter': 'best', 'min_samples_split': 2, 'criterion': 'log_loss'}\n",
      "metrics for tree classification with parameters {'max_depth': 1, 'splitter': 'best', 'min_samples_split': 3, 'criterion': 'gini'}\n",
      "metrics for tree classification with parameters {'max_depth': 1, 'splitter': 'best', 'min_samples_split': 3, 'criterion': 'entropy'}\n",
      "metrics for tree classification with parameters {'max_depth': 1, 'splitter': 'best', 'min_samples_split': 3, 'criterion': 'log_loss'}\n",
      "metrics for tree classification with parameters {'max_depth': 1, 'splitter': 'best', 'min_samples_split': 4, 'criterion': 'gini'}\n",
      "metrics for tree classification with parameters {'max_depth': 1, 'splitter': 'best', 'min_samples_split': 4, 'criterion': 'entropy'}\n",
      "metrics for tree classification with parameters {'max_depth': 1, 'splitter': 'best', 'min_samples_split': 4, 'criterion': 'log_loss'}\n",
      "metrics for tree classification with parameters {'max_depth': 1, 'splitter': 'best', 'min_samples_split': 5, 'criterion': 'gini'}\n",
      "metrics for tree classification with parameters {'max_depth': 1, 'splitter': 'best', 'min_samples_split': 5, 'criterion': 'entropy'}\n",
      "metrics for tree classification with parameters {'max_depth': 1, 'splitter': 'best', 'min_samples_split': 5, 'criterion': 'log_loss'}\n",
      "metrics for tree classification with parameters {'max_depth': 1, 'splitter': 'best', 'min_samples_split': 10, 'criterion': 'gini'}\n",
      "metrics for tree classification with parameters {'max_depth': 1, 'splitter': 'best', 'min_samples_split': 10, 'criterion': 'entropy'}\n",
      "metrics for tree classification with parameters {'max_depth': 1, 'splitter': 'best', 'min_samples_split': 10, 'criterion': 'log_loss'}\n",
      "metrics for tree classification with parameters {'max_depth': 1, 'splitter': 'best', 'min_samples_split': 20, 'criterion': 'gini'}\n",
      "metrics for tree classification with parameters {'max_depth': 1, 'splitter': 'best', 'min_samples_split': 20, 'criterion': 'entropy'}\n",
      "metrics for tree classification with parameters {'max_depth': 1, 'splitter': 'best', 'min_samples_split': 20, 'criterion': 'log_loss'}\n",
      "metrics for tree classification with parameters {'max_depth': 1, 'splitter': 'random', 'min_samples_split': 2, 'criterion': 'gini'}\n",
      "metrics for tree classification with parameters {'max_depth': 1, 'splitter': 'random', 'min_samples_split': 2, 'criterion': 'entropy'}\n",
      "metrics for tree classification with parameters {'max_depth': 1, 'splitter': 'random', 'min_samples_split': 2, 'criterion': 'log_loss'}\n",
      "metrics for tree classification with parameters {'max_depth': 1, 'splitter': 'random', 'min_samples_split': 3, 'criterion': 'gini'}\n",
      "metrics for tree classification with parameters {'max_depth': 1, 'splitter': 'random', 'min_samples_split': 3, 'criterion': 'entropy'}\n",
      "metrics for tree classification with parameters {'max_depth': 1, 'splitter': 'random', 'min_samples_split': 3, 'criterion': 'log_loss'}\n",
      "metrics for tree classification with parameters {'max_depth': 1, 'splitter': 'random', 'min_samples_split': 4, 'criterion': 'gini'}\n",
      "metrics for tree classification with parameters {'max_depth': 1, 'splitter': 'random', 'min_samples_split': 4, 'criterion': 'entropy'}\n",
      "metrics for tree classification with parameters {'max_depth': 1, 'splitter': 'random', 'min_samples_split': 4, 'criterion': 'log_loss'}\n",
      "metrics for tree classification with parameters {'max_depth': 1, 'splitter': 'random', 'min_samples_split': 5, 'criterion': 'gini'}\n",
      "metrics for tree classification with parameters {'max_depth': 1, 'splitter': 'random', 'min_samples_split': 5, 'criterion': 'entropy'}\n",
      "metrics for tree classification with parameters {'max_depth': 1, 'splitter': 'random', 'min_samples_split': 5, 'criterion': 'log_loss'}\n",
      "metrics for tree classification with parameters {'max_depth': 1, 'splitter': 'random', 'min_samples_split': 10, 'criterion': 'gini'}\n",
      "metrics for tree classification with parameters {'max_depth': 1, 'splitter': 'random', 'min_samples_split': 10, 'criterion': 'entropy'}\n",
      "metrics for tree classification with parameters {'max_depth': 1, 'splitter': 'random', 'min_samples_split': 10, 'criterion': 'log_loss'}\n",
      "metrics for tree classification with parameters {'max_depth': 1, 'splitter': 'random', 'min_samples_split': 20, 'criterion': 'gini'}\n",
      "metrics for tree classification with parameters {'max_depth': 1, 'splitter': 'random', 'min_samples_split': 20, 'criterion': 'entropy'}\n",
      "metrics for tree classification with parameters {'max_depth': 1, 'splitter': 'random', 'min_samples_split': 20, 'criterion': 'log_loss'}\n",
      "metrics for tree classification with parameters {'max_depth': 2, 'splitter': 'best', 'min_samples_split': 2, 'criterion': 'gini'}\n",
      "metrics for tree classification with parameters {'max_depth': 2, 'splitter': 'best', 'min_samples_split': 2, 'criterion': 'entropy'}\n",
      "metrics for tree classification with parameters {'max_depth': 2, 'splitter': 'best', 'min_samples_split': 2, 'criterion': 'log_loss'}\n",
      "metrics for tree classification with parameters {'max_depth': 2, 'splitter': 'best', 'min_samples_split': 3, 'criterion': 'gini'}\n",
      "metrics for tree classification with parameters {'max_depth': 2, 'splitter': 'best', 'min_samples_split': 3, 'criterion': 'entropy'}\n",
      "metrics for tree classification with parameters {'max_depth': 2, 'splitter': 'best', 'min_samples_split': 3, 'criterion': 'log_loss'}\n",
      "metrics for tree classification with parameters {'max_depth': 2, 'splitter': 'best', 'min_samples_split': 4, 'criterion': 'gini'}\n",
      "metrics for tree classification with parameters {'max_depth': 2, 'splitter': 'best', 'min_samples_split': 4, 'criterion': 'entropy'}\n",
      "metrics for tree classification with parameters {'max_depth': 2, 'splitter': 'best', 'min_samples_split': 4, 'criterion': 'log_loss'}\n",
      "metrics for tree classification with parameters {'max_depth': 2, 'splitter': 'best', 'min_samples_split': 5, 'criterion': 'gini'}\n",
      "metrics for tree classification with parameters {'max_depth': 2, 'splitter': 'best', 'min_samples_split': 5, 'criterion': 'entropy'}\n",
      "metrics for tree classification with parameters {'max_depth': 2, 'splitter': 'best', 'min_samples_split': 5, 'criterion': 'log_loss'}\n",
      "metrics for tree classification with parameters {'max_depth': 2, 'splitter': 'best', 'min_samples_split': 10, 'criterion': 'gini'}\n",
      "metrics for tree classification with parameters {'max_depth': 2, 'splitter': 'best', 'min_samples_split': 10, 'criterion': 'entropy'}\n",
      "metrics for tree classification with parameters {'max_depth': 2, 'splitter': 'best', 'min_samples_split': 10, 'criterion': 'log_loss'}\n",
      "metrics for tree classification with parameters {'max_depth': 2, 'splitter': 'best', 'min_samples_split': 20, 'criterion': 'gini'}\n",
      "metrics for tree classification with parameters {'max_depth': 2, 'splitter': 'best', 'min_samples_split': 20, 'criterion': 'entropy'}\n",
      "metrics for tree classification with parameters {'max_depth': 2, 'splitter': 'best', 'min_samples_split': 20, 'criterion': 'log_loss'}\n",
      "metrics for tree classification with parameters {'max_depth': 2, 'splitter': 'random', 'min_samples_split': 2, 'criterion': 'gini'}\n",
      "metrics for tree classification with parameters {'max_depth': 2, 'splitter': 'random', 'min_samples_split': 2, 'criterion': 'entropy'}\n",
      "metrics for tree classification with parameters {'max_depth': 2, 'splitter': 'random', 'min_samples_split': 2, 'criterion': 'log_loss'}\n",
      "metrics for tree classification with parameters {'max_depth': 2, 'splitter': 'random', 'min_samples_split': 3, 'criterion': 'gini'}\n",
      "metrics for tree classification with parameters {'max_depth': 2, 'splitter': 'random', 'min_samples_split': 3, 'criterion': 'entropy'}\n",
      "metrics for tree classification with parameters {'max_depth': 2, 'splitter': 'random', 'min_samples_split': 3, 'criterion': 'log_loss'}\n",
      "metrics for tree classification with parameters {'max_depth': 2, 'splitter': 'random', 'min_samples_split': 4, 'criterion': 'gini'}\n",
      "metrics for tree classification with parameters {'max_depth': 2, 'splitter': 'random', 'min_samples_split': 4, 'criterion': 'entropy'}\n",
      "metrics for tree classification with parameters {'max_depth': 2, 'splitter': 'random', 'min_samples_split': 4, 'criterion': 'log_loss'}\n",
      "metrics for tree classification with parameters {'max_depth': 2, 'splitter': 'random', 'min_samples_split': 5, 'criterion': 'gini'}\n",
      "metrics for tree classification with parameters {'max_depth': 2, 'splitter': 'random', 'min_samples_split': 5, 'criterion': 'entropy'}\n",
      "metrics for tree classification with parameters {'max_depth': 2, 'splitter': 'random', 'min_samples_split': 5, 'criterion': 'log_loss'}\n",
      "metrics for tree classification with parameters {'max_depth': 2, 'splitter': 'random', 'min_samples_split': 10, 'criterion': 'gini'}\n",
      "metrics for tree classification with parameters {'max_depth': 2, 'splitter': 'random', 'min_samples_split': 10, 'criterion': 'entropy'}\n",
      "metrics for tree classification with parameters {'max_depth': 2, 'splitter': 'random', 'min_samples_split': 10, 'criterion': 'log_loss'}\n",
      "metrics for tree classification with parameters {'max_depth': 2, 'splitter': 'random', 'min_samples_split': 20, 'criterion': 'gini'}\n",
      "metrics for tree classification with parameters {'max_depth': 2, 'splitter': 'random', 'min_samples_split': 20, 'criterion': 'entropy'}\n",
      "metrics for tree classification with parameters {'max_depth': 2, 'splitter': 'random', 'min_samples_split': 20, 'criterion': 'log_loss'}\n",
      "metrics for tree classification with parameters {'max_depth': 3, 'splitter': 'best', 'min_samples_split': 2, 'criterion': 'gini'}\n",
      "metrics for tree classification with parameters {'max_depth': 3, 'splitter': 'best', 'min_samples_split': 2, 'criterion': 'entropy'}\n",
      "metrics for tree classification with parameters {'max_depth': 3, 'splitter': 'best', 'min_samples_split': 2, 'criterion': 'log_loss'}\n",
      "metrics for tree classification with parameters {'max_depth': 3, 'splitter': 'best', 'min_samples_split': 3, 'criterion': 'gini'}\n",
      "metrics for tree classification with parameters {'max_depth': 3, 'splitter': 'best', 'min_samples_split': 3, 'criterion': 'entropy'}\n",
      "metrics for tree classification with parameters {'max_depth': 3, 'splitter': 'best', 'min_samples_split': 3, 'criterion': 'log_loss'}\n",
      "metrics for tree classification with parameters {'max_depth': 3, 'splitter': 'best', 'min_samples_split': 4, 'criterion': 'gini'}\n",
      "metrics for tree classification with parameters {'max_depth': 3, 'splitter': 'best', 'min_samples_split': 4, 'criterion': 'entropy'}\n",
      "metrics for tree classification with parameters {'max_depth': 3, 'splitter': 'best', 'min_samples_split': 4, 'criterion': 'log_loss'}\n",
      "metrics for tree classification with parameters {'max_depth': 3, 'splitter': 'best', 'min_samples_split': 5, 'criterion': 'gini'}\n",
      "metrics for tree classification with parameters {'max_depth': 3, 'splitter': 'best', 'min_samples_split': 5, 'criterion': 'entropy'}\n",
      "metrics for tree classification with parameters {'max_depth': 3, 'splitter': 'best', 'min_samples_split': 5, 'criterion': 'log_loss'}\n",
      "metrics for tree classification with parameters {'max_depth': 3, 'splitter': 'best', 'min_samples_split': 10, 'criterion': 'gini'}\n",
      "metrics for tree classification with parameters {'max_depth': 3, 'splitter': 'best', 'min_samples_split': 10, 'criterion': 'entropy'}\n",
      "metrics for tree classification with parameters {'max_depth': 3, 'splitter': 'best', 'min_samples_split': 10, 'criterion': 'log_loss'}\n",
      "metrics for tree classification with parameters {'max_depth': 3, 'splitter': 'best', 'min_samples_split': 20, 'criterion': 'gini'}\n",
      "metrics for tree classification with parameters {'max_depth': 3, 'splitter': 'best', 'min_samples_split': 20, 'criterion': 'entropy'}\n",
      "metrics for tree classification with parameters {'max_depth': 3, 'splitter': 'best', 'min_samples_split': 20, 'criterion': 'log_loss'}\n",
      "metrics for tree classification with parameters {'max_depth': 3, 'splitter': 'random', 'min_samples_split': 2, 'criterion': 'gini'}\n",
      "metrics for tree classification with parameters {'max_depth': 3, 'splitter': 'random', 'min_samples_split': 2, 'criterion': 'entropy'}\n",
      "metrics for tree classification with parameters {'max_depth': 3, 'splitter': 'random', 'min_samples_split': 2, 'criterion': 'log_loss'}\n",
      "metrics for tree classification with parameters {'max_depth': 3, 'splitter': 'random', 'min_samples_split': 3, 'criterion': 'gini'}\n",
      "metrics for tree classification with parameters {'max_depth': 3, 'splitter': 'random', 'min_samples_split': 3, 'criterion': 'entropy'}\n",
      "metrics for tree classification with parameters {'max_depth': 3, 'splitter': 'random', 'min_samples_split': 3, 'criterion': 'log_loss'}\n",
      "metrics for tree classification with parameters {'max_depth': 3, 'splitter': 'random', 'min_samples_split': 4, 'criterion': 'gini'}\n",
      "metrics for tree classification with parameters {'max_depth': 3, 'splitter': 'random', 'min_samples_split': 4, 'criterion': 'entropy'}\n",
      "metrics for tree classification with parameters {'max_depth': 3, 'splitter': 'random', 'min_samples_split': 4, 'criterion': 'log_loss'}\n",
      "metrics for tree classification with parameters {'max_depth': 3, 'splitter': 'random', 'min_samples_split': 5, 'criterion': 'gini'}\n",
      "metrics for tree classification with parameters {'max_depth': 3, 'splitter': 'random', 'min_samples_split': 5, 'criterion': 'entropy'}\n",
      "metrics for tree classification with parameters {'max_depth': 3, 'splitter': 'random', 'min_samples_split': 5, 'criterion': 'log_loss'}\n",
      "metrics for tree classification with parameters {'max_depth': 3, 'splitter': 'random', 'min_samples_split': 10, 'criterion': 'gini'}\n",
      "metrics for tree classification with parameters {'max_depth': 3, 'splitter': 'random', 'min_samples_split': 10, 'criterion': 'entropy'}\n",
      "metrics for tree classification with parameters {'max_depth': 3, 'splitter': 'random', 'min_samples_split': 10, 'criterion': 'log_loss'}\n",
      "metrics for tree classification with parameters {'max_depth': 3, 'splitter': 'random', 'min_samples_split': 20, 'criterion': 'gini'}\n",
      "metrics for tree classification with parameters {'max_depth': 3, 'splitter': 'random', 'min_samples_split': 20, 'criterion': 'entropy'}\n",
      "metrics for tree classification with parameters {'max_depth': 3, 'splitter': 'random', 'min_samples_split': 20, 'criterion': 'log_loss'}\n",
      "metrics for tree classification with parameters {'max_depth': 4, 'splitter': 'best', 'min_samples_split': 2, 'criterion': 'gini'}\n",
      "metrics for tree classification with parameters {'max_depth': 4, 'splitter': 'best', 'min_samples_split': 2, 'criterion': 'entropy'}\n",
      "metrics for tree classification with parameters {'max_depth': 4, 'splitter': 'best', 'min_samples_split': 2, 'criterion': 'log_loss'}\n",
      "metrics for tree classification with parameters {'max_depth': 4, 'splitter': 'best', 'min_samples_split': 3, 'criterion': 'gini'}\n",
      "metrics for tree classification with parameters {'max_depth': 4, 'splitter': 'best', 'min_samples_split': 3, 'criterion': 'entropy'}\n",
      "metrics for tree classification with parameters {'max_depth': 4, 'splitter': 'best', 'min_samples_split': 3, 'criterion': 'log_loss'}\n",
      "metrics for tree classification with parameters {'max_depth': 4, 'splitter': 'best', 'min_samples_split': 4, 'criterion': 'gini'}\n",
      "metrics for tree classification with parameters {'max_depth': 4, 'splitter': 'best', 'min_samples_split': 4, 'criterion': 'entropy'}\n",
      "metrics for tree classification with parameters {'max_depth': 4, 'splitter': 'best', 'min_samples_split': 4, 'criterion': 'log_loss'}\n",
      "metrics for tree classification with parameters {'max_depth': 4, 'splitter': 'best', 'min_samples_split': 5, 'criterion': 'gini'}\n",
      "metrics for tree classification with parameters {'max_depth': 4, 'splitter': 'best', 'min_samples_split': 5, 'criterion': 'entropy'}\n",
      "metrics for tree classification with parameters {'max_depth': 4, 'splitter': 'best', 'min_samples_split': 5, 'criterion': 'log_loss'}\n",
      "metrics for tree classification with parameters {'max_depth': 4, 'splitter': 'best', 'min_samples_split': 10, 'criterion': 'gini'}\n",
      "metrics for tree classification with parameters {'max_depth': 4, 'splitter': 'best', 'min_samples_split': 10, 'criterion': 'entropy'}\n",
      "metrics for tree classification with parameters {'max_depth': 4, 'splitter': 'best', 'min_samples_split': 10, 'criterion': 'log_loss'}\n",
      "metrics for tree classification with parameters {'max_depth': 4, 'splitter': 'best', 'min_samples_split': 20, 'criterion': 'gini'}\n",
      "metrics for tree classification with parameters {'max_depth': 4, 'splitter': 'best', 'min_samples_split': 20, 'criterion': 'entropy'}\n",
      "metrics for tree classification with parameters {'max_depth': 4, 'splitter': 'best', 'min_samples_split': 20, 'criterion': 'log_loss'}\n",
      "metrics for tree classification with parameters {'max_depth': 4, 'splitter': 'random', 'min_samples_split': 2, 'criterion': 'gini'}\n",
      "metrics for tree classification with parameters {'max_depth': 4, 'splitter': 'random', 'min_samples_split': 2, 'criterion': 'entropy'}\n",
      "metrics for tree classification with parameters {'max_depth': 4, 'splitter': 'random', 'min_samples_split': 2, 'criterion': 'log_loss'}\n",
      "metrics for tree classification with parameters {'max_depth': 4, 'splitter': 'random', 'min_samples_split': 3, 'criterion': 'gini'}\n",
      "metrics for tree classification with parameters {'max_depth': 4, 'splitter': 'random', 'min_samples_split': 3, 'criterion': 'entropy'}\n",
      "metrics for tree classification with parameters {'max_depth': 4, 'splitter': 'random', 'min_samples_split': 3, 'criterion': 'log_loss'}\n",
      "metrics for tree classification with parameters {'max_depth': 4, 'splitter': 'random', 'min_samples_split': 4, 'criterion': 'gini'}\n",
      "metrics for tree classification with parameters {'max_depth': 4, 'splitter': 'random', 'min_samples_split': 4, 'criterion': 'entropy'}\n",
      "metrics for tree classification with parameters {'max_depth': 4, 'splitter': 'random', 'min_samples_split': 4, 'criterion': 'log_loss'}\n",
      "metrics for tree classification with parameters {'max_depth': 4, 'splitter': 'random', 'min_samples_split': 5, 'criterion': 'gini'}\n",
      "metrics for tree classification with parameters {'max_depth': 4, 'splitter': 'random', 'min_samples_split': 5, 'criterion': 'entropy'}\n",
      "metrics for tree classification with parameters {'max_depth': 4, 'splitter': 'random', 'min_samples_split': 5, 'criterion': 'log_loss'}\n",
      "metrics for tree classification with parameters {'max_depth': 4, 'splitter': 'random', 'min_samples_split': 10, 'criterion': 'gini'}\n",
      "metrics for tree classification with parameters {'max_depth': 4, 'splitter': 'random', 'min_samples_split': 10, 'criterion': 'entropy'}\n",
      "metrics for tree classification with parameters {'max_depth': 4, 'splitter': 'random', 'min_samples_split': 10, 'criterion': 'log_loss'}\n",
      "metrics for tree classification with parameters {'max_depth': 4, 'splitter': 'random', 'min_samples_split': 20, 'criterion': 'gini'}\n",
      "metrics for tree classification with parameters {'max_depth': 4, 'splitter': 'random', 'min_samples_split': 20, 'criterion': 'entropy'}\n",
      "metrics for tree classification with parameters {'max_depth': 4, 'splitter': 'random', 'min_samples_split': 20, 'criterion': 'log_loss'}\n",
      "metrics for tree classification with parameters {'max_depth': 5, 'splitter': 'best', 'min_samples_split': 2, 'criterion': 'gini'}\n",
      "metrics for tree classification with parameters {'max_depth': 5, 'splitter': 'best', 'min_samples_split': 2, 'criterion': 'entropy'}\n",
      "metrics for tree classification with parameters {'max_depth': 5, 'splitter': 'best', 'min_samples_split': 2, 'criterion': 'log_loss'}\n",
      "metrics for tree classification with parameters {'max_depth': 5, 'splitter': 'best', 'min_samples_split': 3, 'criterion': 'gini'}\n",
      "metrics for tree classification with parameters {'max_depth': 5, 'splitter': 'best', 'min_samples_split': 3, 'criterion': 'entropy'}\n",
      "metrics for tree classification with parameters {'max_depth': 5, 'splitter': 'best', 'min_samples_split': 3, 'criterion': 'log_loss'}\n",
      "metrics for tree classification with parameters {'max_depth': 5, 'splitter': 'best', 'min_samples_split': 4, 'criterion': 'gini'}\n",
      "metrics for tree classification with parameters {'max_depth': 5, 'splitter': 'best', 'min_samples_split': 4, 'criterion': 'entropy'}\n",
      "metrics for tree classification with parameters {'max_depth': 5, 'splitter': 'best', 'min_samples_split': 4, 'criterion': 'log_loss'}\n",
      "metrics for tree classification with parameters {'max_depth': 5, 'splitter': 'best', 'min_samples_split': 5, 'criterion': 'gini'}\n",
      "metrics for tree classification with parameters {'max_depth': 5, 'splitter': 'best', 'min_samples_split': 5, 'criterion': 'entropy'}\n",
      "metrics for tree classification with parameters {'max_depth': 5, 'splitter': 'best', 'min_samples_split': 5, 'criterion': 'log_loss'}\n",
      "metrics for tree classification with parameters {'max_depth': 5, 'splitter': 'best', 'min_samples_split': 10, 'criterion': 'gini'}\n",
      "metrics for tree classification with parameters {'max_depth': 5, 'splitter': 'best', 'min_samples_split': 10, 'criterion': 'entropy'}\n",
      "metrics for tree classification with parameters {'max_depth': 5, 'splitter': 'best', 'min_samples_split': 10, 'criterion': 'log_loss'}\n",
      "metrics for tree classification with parameters {'max_depth': 5, 'splitter': 'best', 'min_samples_split': 20, 'criterion': 'gini'}\n",
      "metrics for tree classification with parameters {'max_depth': 5, 'splitter': 'best', 'min_samples_split': 20, 'criterion': 'entropy'}\n",
      "metrics for tree classification with parameters {'max_depth': 5, 'splitter': 'best', 'min_samples_split': 20, 'criterion': 'log_loss'}\n",
      "metrics for tree classification with parameters {'max_depth': 5, 'splitter': 'random', 'min_samples_split': 2, 'criterion': 'gini'}\n",
      "metrics for tree classification with parameters {'max_depth': 5, 'splitter': 'random', 'min_samples_split': 2, 'criterion': 'entropy'}\n",
      "metrics for tree classification with parameters {'max_depth': 5, 'splitter': 'random', 'min_samples_split': 2, 'criterion': 'log_loss'}\n",
      "metrics for tree classification with parameters {'max_depth': 5, 'splitter': 'random', 'min_samples_split': 3, 'criterion': 'gini'}\n",
      "metrics for tree classification with parameters {'max_depth': 5, 'splitter': 'random', 'min_samples_split': 3, 'criterion': 'entropy'}\n",
      "metrics for tree classification with parameters {'max_depth': 5, 'splitter': 'random', 'min_samples_split': 3, 'criterion': 'log_loss'}\n",
      "metrics for tree classification with parameters {'max_depth': 5, 'splitter': 'random', 'min_samples_split': 4, 'criterion': 'gini'}\n",
      "metrics for tree classification with parameters {'max_depth': 5, 'splitter': 'random', 'min_samples_split': 4, 'criterion': 'entropy'}\n",
      "metrics for tree classification with parameters {'max_depth': 5, 'splitter': 'random', 'min_samples_split': 4, 'criterion': 'log_loss'}\n",
      "metrics for tree classification with parameters {'max_depth': 5, 'splitter': 'random', 'min_samples_split': 5, 'criterion': 'gini'}\n",
      "metrics for tree classification with parameters {'max_depth': 5, 'splitter': 'random', 'min_samples_split': 5, 'criterion': 'entropy'}\n",
      "metrics for tree classification with parameters {'max_depth': 5, 'splitter': 'random', 'min_samples_split': 5, 'criterion': 'log_loss'}\n",
      "metrics for tree classification with parameters {'max_depth': 5, 'splitter': 'random', 'min_samples_split': 10, 'criterion': 'gini'}\n",
      "metrics for tree classification with parameters {'max_depth': 5, 'splitter': 'random', 'min_samples_split': 10, 'criterion': 'entropy'}\n",
      "metrics for tree classification with parameters {'max_depth': 5, 'splitter': 'random', 'min_samples_split': 10, 'criterion': 'log_loss'}\n",
      "metrics for tree classification with parameters {'max_depth': 5, 'splitter': 'random', 'min_samples_split': 20, 'criterion': 'gini'}\n",
      "metrics for tree classification with parameters {'max_depth': 5, 'splitter': 'random', 'min_samples_split': 20, 'criterion': 'entropy'}\n",
      "metrics for tree classification with parameters {'max_depth': 5, 'splitter': 'random', 'min_samples_split': 20, 'criterion': 'log_loss'}\n",
      "metrics for tree classification with parameters {'max_depth': 10, 'splitter': 'best', 'min_samples_split': 2, 'criterion': 'gini'}\n",
      "metrics for tree classification with parameters {'max_depth': 10, 'splitter': 'best', 'min_samples_split': 2, 'criterion': 'entropy'}\n",
      "metrics for tree classification with parameters {'max_depth': 10, 'splitter': 'best', 'min_samples_split': 2, 'criterion': 'log_loss'}\n",
      "metrics for tree classification with parameters {'max_depth': 10, 'splitter': 'best', 'min_samples_split': 3, 'criterion': 'gini'}\n",
      "metrics for tree classification with parameters {'max_depth': 10, 'splitter': 'best', 'min_samples_split': 3, 'criterion': 'entropy'}\n",
      "metrics for tree classification with parameters {'max_depth': 10, 'splitter': 'best', 'min_samples_split': 3, 'criterion': 'log_loss'}\n",
      "metrics for tree classification with parameters {'max_depth': 10, 'splitter': 'best', 'min_samples_split': 4, 'criterion': 'gini'}\n",
      "metrics for tree classification with parameters {'max_depth': 10, 'splitter': 'best', 'min_samples_split': 4, 'criterion': 'entropy'}\n",
      "metrics for tree classification with parameters {'max_depth': 10, 'splitter': 'best', 'min_samples_split': 4, 'criterion': 'log_loss'}\n",
      "metrics for tree classification with parameters {'max_depth': 10, 'splitter': 'best', 'min_samples_split': 5, 'criterion': 'gini'}\n",
      "metrics for tree classification with parameters {'max_depth': 10, 'splitter': 'best', 'min_samples_split': 5, 'criterion': 'entropy'}\n",
      "metrics for tree classification with parameters {'max_depth': 10, 'splitter': 'best', 'min_samples_split': 5, 'criterion': 'log_loss'}\n",
      "metrics for tree classification with parameters {'max_depth': 10, 'splitter': 'best', 'min_samples_split': 10, 'criterion': 'gini'}\n",
      "metrics for tree classification with parameters {'max_depth': 10, 'splitter': 'best', 'min_samples_split': 10, 'criterion': 'entropy'}\n",
      "metrics for tree classification with parameters {'max_depth': 10, 'splitter': 'best', 'min_samples_split': 10, 'criterion': 'log_loss'}\n",
      "metrics for tree classification with parameters {'max_depth': 10, 'splitter': 'best', 'min_samples_split': 20, 'criterion': 'gini'}\n",
      "metrics for tree classification with parameters {'max_depth': 10, 'splitter': 'best', 'min_samples_split': 20, 'criterion': 'entropy'}\n",
      "metrics for tree classification with parameters {'max_depth': 10, 'splitter': 'best', 'min_samples_split': 20, 'criterion': 'log_loss'}\n",
      "metrics for tree classification with parameters {'max_depth': 10, 'splitter': 'random', 'min_samples_split': 2, 'criterion': 'gini'}\n",
      "metrics for tree classification with parameters {'max_depth': 10, 'splitter': 'random', 'min_samples_split': 2, 'criterion': 'entropy'}\n",
      "metrics for tree classification with parameters {'max_depth': 10, 'splitter': 'random', 'min_samples_split': 2, 'criterion': 'log_loss'}\n",
      "metrics for tree classification with parameters {'max_depth': 10, 'splitter': 'random', 'min_samples_split': 3, 'criterion': 'gini'}\n",
      "metrics for tree classification with parameters {'max_depth': 10, 'splitter': 'random', 'min_samples_split': 3, 'criterion': 'entropy'}\n",
      "metrics for tree classification with parameters {'max_depth': 10, 'splitter': 'random', 'min_samples_split': 3, 'criterion': 'log_loss'}\n",
      "metrics for tree classification with parameters {'max_depth': 10, 'splitter': 'random', 'min_samples_split': 4, 'criterion': 'gini'}\n",
      "metrics for tree classification with parameters {'max_depth': 10, 'splitter': 'random', 'min_samples_split': 4, 'criterion': 'entropy'}\n",
      "metrics for tree classification with parameters {'max_depth': 10, 'splitter': 'random', 'min_samples_split': 4, 'criterion': 'log_loss'}\n",
      "metrics for tree classification with parameters {'max_depth': 10, 'splitter': 'random', 'min_samples_split': 5, 'criterion': 'gini'}\n",
      "metrics for tree classification with parameters {'max_depth': 10, 'splitter': 'random', 'min_samples_split': 5, 'criterion': 'entropy'}\n",
      "metrics for tree classification with parameters {'max_depth': 10, 'splitter': 'random', 'min_samples_split': 5, 'criterion': 'log_loss'}\n",
      "metrics for tree classification with parameters {'max_depth': 10, 'splitter': 'random', 'min_samples_split': 10, 'criterion': 'gini'}\n",
      "metrics for tree classification with parameters {'max_depth': 10, 'splitter': 'random', 'min_samples_split': 10, 'criterion': 'entropy'}\n",
      "metrics for tree classification with parameters {'max_depth': 10, 'splitter': 'random', 'min_samples_split': 10, 'criterion': 'log_loss'}\n",
      "metrics for tree classification with parameters {'max_depth': 10, 'splitter': 'random', 'min_samples_split': 20, 'criterion': 'gini'}\n",
      "metrics for tree classification with parameters {'max_depth': 10, 'splitter': 'random', 'min_samples_split': 20, 'criterion': 'entropy'}\n",
      "metrics for tree classification with parameters {'max_depth': 10, 'splitter': 'random', 'min_samples_split': 20, 'criterion': 'log_loss'}\n",
      "metrics for tree classification with parameters {'max_depth': 20, 'splitter': 'best', 'min_samples_split': 2, 'criterion': 'gini'}\n",
      "metrics for tree classification with parameters {'max_depth': 20, 'splitter': 'best', 'min_samples_split': 2, 'criterion': 'entropy'}\n",
      "metrics for tree classification with parameters {'max_depth': 20, 'splitter': 'best', 'min_samples_split': 2, 'criterion': 'log_loss'}\n",
      "metrics for tree classification with parameters {'max_depth': 20, 'splitter': 'best', 'min_samples_split': 3, 'criterion': 'gini'}\n",
      "metrics for tree classification with parameters {'max_depth': 20, 'splitter': 'best', 'min_samples_split': 3, 'criterion': 'entropy'}\n",
      "metrics for tree classification with parameters {'max_depth': 20, 'splitter': 'best', 'min_samples_split': 3, 'criterion': 'log_loss'}\n",
      "metrics for tree classification with parameters {'max_depth': 20, 'splitter': 'best', 'min_samples_split': 4, 'criterion': 'gini'}\n",
      "metrics for tree classification with parameters {'max_depth': 20, 'splitter': 'best', 'min_samples_split': 4, 'criterion': 'entropy'}\n",
      "metrics for tree classification with parameters {'max_depth': 20, 'splitter': 'best', 'min_samples_split': 4, 'criterion': 'log_loss'}\n",
      "metrics for tree classification with parameters {'max_depth': 20, 'splitter': 'best', 'min_samples_split': 5, 'criterion': 'gini'}\n",
      "metrics for tree classification with parameters {'max_depth': 20, 'splitter': 'best', 'min_samples_split': 5, 'criterion': 'entropy'}\n",
      "metrics for tree classification with parameters {'max_depth': 20, 'splitter': 'best', 'min_samples_split': 5, 'criterion': 'log_loss'}\n",
      "metrics for tree classification with parameters {'max_depth': 20, 'splitter': 'best', 'min_samples_split': 10, 'criterion': 'gini'}\n",
      "metrics for tree classification with parameters {'max_depth': 20, 'splitter': 'best', 'min_samples_split': 10, 'criterion': 'entropy'}\n",
      "metrics for tree classification with parameters {'max_depth': 20, 'splitter': 'best', 'min_samples_split': 10, 'criterion': 'log_loss'}\n",
      "metrics for tree classification with parameters {'max_depth': 20, 'splitter': 'best', 'min_samples_split': 20, 'criterion': 'gini'}\n",
      "metrics for tree classification with parameters {'max_depth': 20, 'splitter': 'best', 'min_samples_split': 20, 'criterion': 'entropy'}\n",
      "metrics for tree classification with parameters {'max_depth': 20, 'splitter': 'best', 'min_samples_split': 20, 'criterion': 'log_loss'}\n",
      "metrics for tree classification with parameters {'max_depth': 20, 'splitter': 'random', 'min_samples_split': 2, 'criterion': 'gini'}\n",
      "metrics for tree classification with parameters {'max_depth': 20, 'splitter': 'random', 'min_samples_split': 2, 'criterion': 'entropy'}\n",
      "metrics for tree classification with parameters {'max_depth': 20, 'splitter': 'random', 'min_samples_split': 2, 'criterion': 'log_loss'}\n",
      "metrics for tree classification with parameters {'max_depth': 20, 'splitter': 'random', 'min_samples_split': 3, 'criterion': 'gini'}\n",
      "metrics for tree classification with parameters {'max_depth': 20, 'splitter': 'random', 'min_samples_split': 3, 'criterion': 'entropy'}\n",
      "metrics for tree classification with parameters {'max_depth': 20, 'splitter': 'random', 'min_samples_split': 3, 'criterion': 'log_loss'}\n",
      "metrics for tree classification with parameters {'max_depth': 20, 'splitter': 'random', 'min_samples_split': 4, 'criterion': 'gini'}\n",
      "metrics for tree classification with parameters {'max_depth': 20, 'splitter': 'random', 'min_samples_split': 4, 'criterion': 'entropy'}\n",
      "metrics for tree classification with parameters {'max_depth': 20, 'splitter': 'random', 'min_samples_split': 4, 'criterion': 'log_loss'}\n",
      "metrics for tree classification with parameters {'max_depth': 20, 'splitter': 'random', 'min_samples_split': 5, 'criterion': 'gini'}\n",
      "metrics for tree classification with parameters {'max_depth': 20, 'splitter': 'random', 'min_samples_split': 5, 'criterion': 'entropy'}\n",
      "metrics for tree classification with parameters {'max_depth': 20, 'splitter': 'random', 'min_samples_split': 5, 'criterion': 'log_loss'}\n",
      "metrics for tree classification with parameters {'max_depth': 20, 'splitter': 'random', 'min_samples_split': 10, 'criterion': 'gini'}\n",
      "metrics for tree classification with parameters {'max_depth': 20, 'splitter': 'random', 'min_samples_split': 10, 'criterion': 'entropy'}\n",
      "metrics for tree classification with parameters {'max_depth': 20, 'splitter': 'random', 'min_samples_split': 10, 'criterion': 'log_loss'}\n",
      "metrics for tree classification with parameters {'max_depth': 20, 'splitter': 'random', 'min_samples_split': 20, 'criterion': 'gini'}\n",
      "metrics for tree classification with parameters {'max_depth': 20, 'splitter': 'random', 'min_samples_split': 20, 'criterion': 'entropy'}\n",
      "metrics for tree classification with parameters {'max_depth': 20, 'splitter': 'random', 'min_samples_split': 20, 'criterion': 'log_loss'}\n",
      "calculated 253 trees\n",
      "kept 10 trees before pruning\n",
      "pruning tree with acuracy 0.8789986091794159\n"
     ]
    },
    {
     "ename": "TypeError",
     "evalue": "sklearn.tree._classes.DecisionTreeClassifier() got multiple values for keyword argument 'ccp_alpha'",
     "output_type": "error",
     "traceback": [
      "\u001b[0;31m---------------------------------------------------------------------------\u001b[0m",
      "\u001b[0;31mTypeError\u001b[0m                                 Traceback (most recent call last)",
      "Cell \u001b[0;32mIn[116], line 2\u001b[0m\n\u001b[1;32m      1\u001b[0m digits \u001b[39m=\u001b[39m datasets\u001b[39m.\u001b[39mload_digits()\n\u001b[0;32m----> 2\u001b[0m dctree, parameters \u001b[39m=\u001b[39m test_best_tree(digits\u001b[39m.\u001b[39;49mdata, digits\u001b[39m.\u001b[39;49mtarget)\n\u001b[1;32m      3\u001b[0m \u001b[39mprint\u001b[39m(\u001b[39mf\u001b[39m\u001b[39m\"\u001b[39m\u001b[39mbest acuracy: \u001b[39m\u001b[39m{\u001b[39;00macuracy\u001b[39m}\u001b[39;00m\u001b[39m\"\u001b[39m)\n\u001b[1;32m      4\u001b[0m \u001b[39mprint\u001b[39m(\u001b[39mf\u001b[39m\u001b[39m\"\u001b[39m\u001b[39mparameters: \u001b[39m\u001b[39m{\u001b[39;00mdctree\u001b[39m.\u001b[39mget_params()\u001b[39m}\u001b[39;00m\u001b[39m\"\u001b[39m)\n",
      "Cell \u001b[0;32mIn[112], line 69\u001b[0m, in \u001b[0;36mtest_best_tree\u001b[0;34m(x, y)\u001b[0m\n\u001b[1;32m     67\u001b[0m \u001b[39mfor\u001b[39;00m tree, acuracy \u001b[39min\u001b[39;00m trees:\n\u001b[1;32m     68\u001b[0m     \u001b[39mprint\u001b[39m(\u001b[39mf\u001b[39m\u001b[39m\"\u001b[39m\u001b[39mpruning tree with acuracy \u001b[39m\u001b[39m{\u001b[39;00macuracy\u001b[39m}\u001b[39;00m\u001b[39m\"\u001b[39m)\n\u001b[0;32m---> 69\u001b[0m     cur_tree, acuracy \u001b[39m=\u001b[39m prune_tree(tree, digits\u001b[39m.\u001b[39;49mdata, digits\u001b[39m.\u001b[39;49mtarget, acuracy)\n\u001b[1;32m     70\u001b[0m     pruned_trees\u001b[39m.\u001b[39mappend((cur_tree, acuracy))\n\u001b[1;32m     72\u001b[0m trees \u001b[39m=\u001b[39m keep_best_trees(trees \u001b[39m+\u001b[39m pruned_trees)\n",
      "Cell \u001b[0;32mIn[112], line 30\u001b[0m, in \u001b[0;36mprune_tree\u001b[0;34m(clf, x, y, acuracy)\u001b[0m\n\u001b[1;32m     28\u001b[0m best_acuracy \u001b[39m=\u001b[39m acuracy\n\u001b[1;32m     29\u001b[0m \u001b[39mfor\u001b[39;00m ccp_alpha \u001b[39min\u001b[39;00m ccp_alphas:\n\u001b[0;32m---> 30\u001b[0m     clf \u001b[39m=\u001b[39m tree\u001b[39m.\u001b[39mDecisionTreeClassifier(ccp_alpha\u001b[39m=\u001b[39mccp_alpha, \u001b[39m*\u001b[39m\u001b[39m*\u001b[39mclf\u001b[39m.\u001b[39mget_params())\n\u001b[1;32m     31\u001b[0m     clf\u001b[39m.\u001b[39mfit(X_train, y_train)\n\u001b[1;32m     32\u001b[0m     y_pred \u001b[39m=\u001b[39m clf\u001b[39m.\u001b[39mpredict(X_test)\n",
      "\u001b[0;31mTypeError\u001b[0m: sklearn.tree._classes.DecisionTreeClassifier() got multiple values for keyword argument 'ccp_alpha'"
     ]
    }
   ],
   "source": [
    "digits = datasets.load_digits()\n",
    "dctree, parameters = test_best_tree(digits.data, digits.target)\n",
    "print(f\"best acuracy: {acuracy}\")\n",
    "print(f\"parameters: {dctree.get_params()}\")\n",
    "tree.plot_tree(dctree)"
   ]
  },
  {
   "cell_type": "code",
   "execution_count": 20,
   "metadata": {},
   "outputs": [
    {
     "name": "stdout",
     "output_type": "stream",
     "text": [
      "best acuracy: 0.8638888888888889\n",
      "parameters: {'criterion': 'entropy', 'max_depth': 10, 'min_samples_leaf': 1, 'min_samples_split': 2}\n"
     ]
    },
    {
     "data": {
      "text/plain": [
       "[Text(0.5007861635220126, 0.9545454545454546, 'x[42] <= 7.5\\nentropy = 3.32\\nsamples = 1077\\nvalue = [115, 112, 99, 103, 102, 104, 111, 109, 115, 107]'),\n",
       " Text(0.28891509433962265, 0.8636363636363636, 'x[43] <= 3.5\\nentropy = 2.904\\nsamples = 574\\nvalue = [3, 72, 70, 99, 29, 95, 0, 75, 26, 105]'),\n",
       " Text(0.1289308176100629, 0.7727272727272727, 'x[26] <= 6.5\\nentropy = 2.25\\nsamples = 306\\nvalue = [3, 29, 7, 93, 7, 62, 0, 5, 0, 100]'),\n",
       " Text(0.05660377358490566, 0.6818181818181818, 'x[30] <= 1.5\\nentropy = 1.419\\nsamples = 132\\nvalue = [2, 5, 7, 88, 0, 0, 0, 1, 0, 29]'),\n",
       " Text(0.031446540880503145, 0.5909090909090909, 'x[62] <= 11.5\\nentropy = 0.857\\nsamples = 104\\nvalue = [0, 4, 5, 88, 0, 0, 0, 0, 0, 7]'),\n",
       " Text(0.018867924528301886, 0.5, 'x[4] <= 8.0\\nentropy = 0.302\\nsamples = 93\\nvalue = [0, 0, 0, 88, 0, 0, 0, 0, 0, 5]'),\n",
       " Text(0.012578616352201259, 0.4090909090909091, 'x[57] <= 0.5\\nentropy = 0.954\\nsamples = 8\\nvalue = [0, 0, 0, 3, 0, 0, 0, 0, 0, 5]'),\n",
       " Text(0.006289308176100629, 0.3181818181818182, 'entropy = 0.0\\nsamples = 5\\nvalue = [0, 0, 0, 0, 0, 0, 0, 0, 0, 5]'),\n",
       " Text(0.018867924528301886, 0.3181818181818182, 'entropy = 0.0\\nsamples = 3\\nvalue = [0, 0, 0, 3, 0, 0, 0, 0, 0, 0]'),\n",
       " Text(0.025157232704402517, 0.4090909090909091, 'entropy = 0.0\\nsamples = 85\\nvalue = [0, 0, 0, 85, 0, 0, 0, 0, 0, 0]'),\n",
       " Text(0.0440251572327044, 0.5, 'x[28] <= 9.5\\nentropy = 1.495\\nsamples = 11\\nvalue = [0, 4, 5, 0, 0, 0, 0, 0, 0, 2]'),\n",
       " Text(0.03773584905660377, 0.4090909090909091, 'entropy = 0.0\\nsamples = 5\\nvalue = [0, 0, 5, 0, 0, 0, 0, 0, 0, 0]'),\n",
       " Text(0.050314465408805034, 0.4090909090909091, 'x[63] <= 4.5\\nentropy = 0.918\\nsamples = 6\\nvalue = [0, 4, 0, 0, 0, 0, 0, 0, 0, 2]'),\n",
       " Text(0.0440251572327044, 0.3181818181818182, 'entropy = 0.0\\nsamples = 2\\nvalue = [0, 0, 0, 0, 0, 0, 0, 0, 0, 2]'),\n",
       " Text(0.05660377358490566, 0.3181818181818182, 'entropy = 0.0\\nsamples = 4\\nvalue = [0, 4, 0, 0, 0, 0, 0, 0, 0, 0]'),\n",
       " Text(0.08176100628930817, 0.5909090909090909, 'x[20] <= 0.5\\nentropy = 1.161\\nsamples = 28\\nvalue = [2, 1, 2, 0, 0, 0, 0, 1, 0, 22]'),\n",
       " Text(0.06918238993710692, 0.5, 'x[44] <= 5.5\\nentropy = 1.522\\nsamples = 5\\nvalue = [2, 0, 2, 0, 0, 0, 0, 1, 0, 0]'),\n",
       " Text(0.06289308176100629, 0.4090909090909091, 'entropy = 0.0\\nsamples = 2\\nvalue = [2, 0, 0, 0, 0, 0, 0, 0, 0, 0]'),\n",
       " Text(0.07547169811320754, 0.4090909090909091, 'x[19] <= 3.5\\nentropy = 0.918\\nsamples = 3\\nvalue = [0, 0, 2, 0, 0, 0, 0, 1, 0, 0]'),\n",
       " Text(0.06918238993710692, 0.3181818181818182, 'entropy = 0.0\\nsamples = 1\\nvalue = [0, 0, 0, 0, 0, 0, 0, 1, 0, 0]'),\n",
       " Text(0.08176100628930817, 0.3181818181818182, 'entropy = 0.0\\nsamples = 2\\nvalue = [0, 0, 2, 0, 0, 0, 0, 0, 0, 0]'),\n",
       " Text(0.09433962264150944, 0.5, 'x[44] <= 9.5\\nentropy = 0.258\\nsamples = 23\\nvalue = [0, 1, 0, 0, 0, 0, 0, 0, 0, 22]'),\n",
       " Text(0.0880503144654088, 0.4090909090909091, 'entropy = 0.0\\nsamples = 22\\nvalue = [0, 0, 0, 0, 0, 0, 0, 0, 0, 22]'),\n",
       " Text(0.10062893081761007, 0.4090909090909091, 'entropy = 0.0\\nsamples = 1\\nvalue = [0, 1, 0, 0, 0, 0, 0, 0, 0, 0]'),\n",
       " Text(0.20125786163522014, 0.6818181818181818, 'x[21] <= 7.5\\nentropy = 1.954\\nsamples = 174\\nvalue = [1, 24, 0, 5, 7, 62, 0, 4, 0, 71]'),\n",
       " Text(0.1509433962264151, 0.5909090909090909, 'x[10] <= 9.5\\nentropy = 1.277\\nsamples = 77\\nvalue = [0, 5, 0, 4, 6, 59, 0, 2, 0, 1]'),\n",
       " Text(0.12578616352201258, 0.5, 'x[45] <= 9.5\\nentropy = 1.738\\nsamples = 13\\nvalue = [0, 4, 0, 1, 6, 0, 0, 2, 0, 0]'),\n",
       " Text(0.11320754716981132, 0.4090909090909091, 'x[4] <= 8.5\\nentropy = 0.918\\nsamples = 6\\nvalue = [0, 4, 0, 0, 0, 0, 0, 2, 0, 0]'),\n",
       " Text(0.1069182389937107, 0.3181818181818182, 'entropy = 0.0\\nsamples = 4\\nvalue = [0, 4, 0, 0, 0, 0, 0, 0, 0, 0]'),\n",
       " Text(0.11949685534591195, 0.3181818181818182, 'entropy = 0.0\\nsamples = 2\\nvalue = [0, 0, 0, 0, 0, 0, 0, 2, 0, 0]'),\n",
       " Text(0.13836477987421383, 0.4090909090909091, 'x[9] <= 0.5\\nentropy = 0.592\\nsamples = 7\\nvalue = [0, 0, 0, 1, 6, 0, 0, 0, 0, 0]'),\n",
       " Text(0.1320754716981132, 0.3181818181818182, 'entropy = 0.0\\nsamples = 6\\nvalue = [0, 0, 0, 0, 6, 0, 0, 0, 0, 0]'),\n",
       " Text(0.14465408805031446, 0.3181818181818182, 'entropy = 0.0\\nsamples = 1\\nvalue = [0, 0, 0, 1, 0, 0, 0, 0, 0, 0]'),\n",
       " Text(0.1761006289308176, 0.5, 'x[20] <= 9.0\\nentropy = 0.503\\nsamples = 64\\nvalue = [0, 1, 0, 3, 0, 59, 0, 0, 0, 1]'),\n",
       " Text(0.16352201257861634, 0.4090909090909091, 'x[4] <= 3.0\\nentropy = 0.127\\nsamples = 57\\nvalue = [0, 1, 0, 0, 0, 56, 0, 0, 0, 0]'),\n",
       " Text(0.15723270440251572, 0.3181818181818182, 'entropy = 0.0\\nsamples = 1\\nvalue = [0, 1, 0, 0, 0, 0, 0, 0, 0, 0]'),\n",
       " Text(0.16981132075471697, 0.3181818181818182, 'entropy = 0.0\\nsamples = 56\\nvalue = [0, 0, 0, 0, 0, 56, 0, 0, 0, 0]'),\n",
       " Text(0.18867924528301888, 0.4090909090909091, 'x[25] <= 1.5\\nentropy = 1.449\\nsamples = 7\\nvalue = [0, 0, 0, 3, 0, 3, 0, 0, 0, 1]'),\n",
       " Text(0.18238993710691823, 0.3181818181818182, 'entropy = 0.0\\nsamples = 3\\nvalue = [0, 0, 0, 3, 0, 0, 0, 0, 0, 0]'),\n",
       " Text(0.1949685534591195, 0.3181818181818182, 'x[11] <= 13.5\\nentropy = 0.811\\nsamples = 4\\nvalue = [0, 0, 0, 0, 0, 3, 0, 0, 0, 1]'),\n",
       " Text(0.18867924528301888, 0.22727272727272727, 'entropy = 0.0\\nsamples = 3\\nvalue = [0, 0, 0, 0, 0, 3, 0, 0, 0, 0]'),\n",
       " Text(0.20125786163522014, 0.22727272727272727, 'entropy = 0.0\\nsamples = 1\\nvalue = [0, 0, 0, 0, 0, 0, 0, 0, 0, 1]'),\n",
       " Text(0.25157232704402516, 0.5909090909090909, 'x[10] <= 6.5\\nentropy = 1.275\\nsamples = 97\\nvalue = [1, 19, 0, 1, 1, 3, 0, 2, 0, 70]'),\n",
       " Text(0.22641509433962265, 0.5, 'x[20] <= 12.0\\nentropy = 1.39\\nsamples = 34\\nvalue = [0, 19, 0, 0, 1, 0, 0, 2, 0, 12]'),\n",
       " Text(0.2138364779874214, 0.4090909090909091, 'x[33] <= 3.0\\nentropy = 0.946\\nsamples = 14\\nvalue = [0, 0, 0, 0, 1, 0, 0, 2, 0, 11]'),\n",
       " Text(0.20754716981132076, 0.3181818181818182, 'entropy = 0.0\\nsamples = 11\\nvalue = [0, 0, 0, 0, 0, 0, 0, 0, 0, 11]'),\n",
       " Text(0.22012578616352202, 0.3181818181818182, 'x[51] <= 7.0\\nentropy = 0.918\\nsamples = 3\\nvalue = [0, 0, 0, 0, 1, 0, 0, 2, 0, 0]'),\n",
       " Text(0.2138364779874214, 0.22727272727272727, 'entropy = 0.0\\nsamples = 1\\nvalue = [0, 0, 0, 0, 1, 0, 0, 0, 0, 0]'),\n",
       " Text(0.22641509433962265, 0.22727272727272727, 'entropy = 0.0\\nsamples = 2\\nvalue = [0, 0, 0, 0, 0, 0, 0, 2, 0, 0]'),\n",
       " Text(0.2389937106918239, 0.4090909090909091, 'x[14] <= 11.0\\nentropy = 0.286\\nsamples = 20\\nvalue = [0, 19, 0, 0, 0, 0, 0, 0, 0, 1]'),\n",
       " Text(0.23270440251572327, 0.3181818181818182, 'entropy = 0.0\\nsamples = 19\\nvalue = [0, 19, 0, 0, 0, 0, 0, 0, 0, 0]'),\n",
       " Text(0.24528301886792453, 0.3181818181818182, 'entropy = 0.0\\nsamples = 1\\nvalue = [0, 0, 0, 0, 0, 0, 0, 0, 0, 1]'),\n",
       " Text(0.27672955974842767, 0.5, 'x[33] <= 2.5\\nentropy = 0.509\\nsamples = 63\\nvalue = [1, 0, 0, 1, 0, 3, 0, 0, 0, 58]'),\n",
       " Text(0.2641509433962264, 0.4090909090909091, 'x[21] <= 10.5\\nentropy = 0.244\\nsamples = 60\\nvalue = [0, 0, 0, 1, 0, 1, 0, 0, 0, 58]'),\n",
       " Text(0.2578616352201258, 0.3181818181818182, 'x[34] <= 2.0\\nentropy = 1.5\\nsamples = 4\\nvalue = [0, 0, 0, 1, 0, 1, 0, 0, 0, 2]'),\n",
       " Text(0.25157232704402516, 0.22727272727272727, 'x[27] <= 9.5\\nentropy = 1.0\\nsamples = 2\\nvalue = [0, 0, 0, 1, 0, 1, 0, 0, 0, 0]'),\n",
       " Text(0.24528301886792453, 0.13636363636363635, 'entropy = 0.0\\nsamples = 1\\nvalue = [0, 0, 0, 1, 0, 0, 0, 0, 0, 0]'),\n",
       " Text(0.2578616352201258, 0.13636363636363635, 'entropy = 0.0\\nsamples = 1\\nvalue = [0, 0, 0, 0, 0, 1, 0, 0, 0, 0]'),\n",
       " Text(0.2641509433962264, 0.22727272727272727, 'entropy = 0.0\\nsamples = 2\\nvalue = [0, 0, 0, 0, 0, 0, 0, 0, 0, 2]'),\n",
       " Text(0.27044025157232704, 0.3181818181818182, 'entropy = 0.0\\nsamples = 56\\nvalue = [0, 0, 0, 0, 0, 0, 0, 0, 0, 56]'),\n",
       " Text(0.2893081761006289, 0.4090909090909091, 'x[12] <= 7.5\\nentropy = 0.918\\nsamples = 3\\nvalue = [1, 0, 0, 0, 0, 2, 0, 0, 0, 0]'),\n",
       " Text(0.2830188679245283, 0.3181818181818182, 'entropy = 0.0\\nsamples = 2\\nvalue = [0, 0, 0, 0, 0, 2, 0, 0, 0, 0]'),\n",
       " Text(0.29559748427672955, 0.3181818181818182, 'entropy = 0.0\\nsamples = 1\\nvalue = [1, 0, 0, 0, 0, 0, 0, 0, 0, 0]'),\n",
       " Text(0.4488993710691824, 0.7727272727272727, 'x[61] <= 0.5\\nentropy = 2.645\\nsamples = 268\\nvalue = [0, 43, 63, 6, 22, 33, 0, 70, 26, 5]'),\n",
       " Text(0.3742138364779874, 0.6818181818181818, 'x[29] <= 5.5\\nentropy = 2.02\\nsamples = 135\\nvalue = [0, 11, 1, 3, 17, 28, 0, 70, 2, 3]'),\n",
       " Text(0.3270440251572327, 0.5909090909090909, 'x[20] <= 3.0\\nentropy = 1.905\\nsamples = 48\\nvalue = [0, 9, 0, 3, 2, 28, 0, 3, 2, 1]'),\n",
       " Text(0.32075471698113206, 0.5, 'entropy = 0.0\\nsamples = 26\\nvalue = [0, 0, 0, 0, 0, 26, 0, 0, 0, 0]'),\n",
       " Text(0.3333333333333333, 0.5, 'x[58] <= 2.5\\nentropy = 2.458\\nsamples = 22\\nvalue = [0, 9, 0, 3, 2, 2, 0, 3, 2, 1]'),\n",
       " Text(0.31446540880503143, 0.4090909090909091, 'x[37] <= 10.5\\nentropy = 0.469\\nsamples = 10\\nvalue = [0, 9, 0, 0, 1, 0, 0, 0, 0, 0]'),\n",
       " Text(0.3081761006289308, 0.3181818181818182, 'entropy = 0.0\\nsamples = 9\\nvalue = [0, 9, 0, 0, 0, 0, 0, 0, 0, 0]'),\n",
       " Text(0.32075471698113206, 0.3181818181818182, 'entropy = 0.0\\nsamples = 1\\nvalue = [0, 0, 0, 0, 1, 0, 0, 0, 0, 0]'),\n",
       " Text(0.3522012578616352, 0.4090909090909091, 'x[36] <= 10.0\\nentropy = 2.459\\nsamples = 12\\nvalue = [0, 0, 0, 3, 1, 2, 0, 3, 2, 1]'),\n",
       " Text(0.3333333333333333, 0.3181818181818182, 'x[18] <= 7.0\\nentropy = 1.459\\nsamples = 6\\nvalue = [0, 0, 0, 3, 0, 0, 0, 0, 2, 1]'),\n",
       " Text(0.3270440251572327, 0.22727272727272727, 'entropy = 0.0\\nsamples = 3\\nvalue = [0, 0, 0, 3, 0, 0, 0, 0, 0, 0]'),\n",
       " Text(0.33962264150943394, 0.22727272727272727, 'x[21] <= 7.5\\nentropy = 0.918\\nsamples = 3\\nvalue = [0, 0, 0, 0, 0, 0, 0, 0, 2, 1]'),\n",
       " Text(0.3333333333333333, 0.13636363636363635, 'entropy = 0.0\\nsamples = 1\\nvalue = [0, 0, 0, 0, 0, 0, 0, 0, 0, 1]'),\n",
       " Text(0.34591194968553457, 0.13636363636363635, 'entropy = 0.0\\nsamples = 2\\nvalue = [0, 0, 0, 0, 0, 0, 0, 0, 2, 0]'),\n",
       " Text(0.3710691823899371, 0.3181818181818182, 'x[42] <= 2.0\\nentropy = 1.459\\nsamples = 6\\nvalue = [0, 0, 0, 0, 1, 2, 0, 3, 0, 0]'),\n",
       " Text(0.36477987421383645, 0.22727272727272727, 'x[29] <= 3.5\\nentropy = 0.918\\nsamples = 3\\nvalue = [0, 0, 0, 0, 1, 2, 0, 0, 0, 0]'),\n",
       " Text(0.3584905660377358, 0.13636363636363635, 'entropy = 0.0\\nsamples = 2\\nvalue = [0, 0, 0, 0, 0, 2, 0, 0, 0, 0]'),\n",
       " Text(0.3710691823899371, 0.13636363636363635, 'entropy = 0.0\\nsamples = 1\\nvalue = [0, 0, 0, 0, 1, 0, 0, 0, 0, 0]'),\n",
       " Text(0.37735849056603776, 0.22727272727272727, 'entropy = 0.0\\nsamples = 3\\nvalue = [0, 0, 0, 0, 0, 0, 0, 3, 0, 0]'),\n",
       " Text(0.42138364779874216, 0.5909090909090909, 'x[26] <= 12.5\\nentropy = 1.052\\nsamples = 87\\nvalue = [0, 2, 1, 0, 15, 0, 0, 67, 0, 2]'),\n",
       " Text(0.4088050314465409, 0.5, 'x[60] <= 9.5\\nentropy = 0.421\\nsamples = 66\\nvalue = [0, 2, 1, 0, 1, 0, 0, 62, 0, 0]'),\n",
       " Text(0.4025157232704403, 0.4090909090909091, 'x[5] <= 1.0\\nentropy = 0.232\\nsamples = 64\\nvalue = [0, 0, 1, 0, 1, 0, 0, 62, 0, 0]'),\n",
       " Text(0.39622641509433965, 0.3181818181818182, 'x[2] <= 6.0\\nentropy = 1.5\\nsamples = 4\\nvalue = [0, 0, 1, 0, 1, 0, 0, 2, 0, 0]'),\n",
       " Text(0.389937106918239, 0.22727272727272727, 'x[21] <= 4.5\\nentropy = 1.0\\nsamples = 2\\nvalue = [0, 0, 1, 0, 1, 0, 0, 0, 0, 0]'),\n",
       " Text(0.3836477987421384, 0.13636363636363635, 'entropy = 0.0\\nsamples = 1\\nvalue = [0, 0, 0, 0, 1, 0, 0, 0, 0, 0]'),\n",
       " Text(0.39622641509433965, 0.13636363636363635, 'entropy = 0.0\\nsamples = 1\\nvalue = [0, 0, 1, 0, 0, 0, 0, 0, 0, 0]'),\n",
       " Text(0.4025157232704403, 0.22727272727272727, 'entropy = 0.0\\nsamples = 2\\nvalue = [0, 0, 0, 0, 0, 0, 0, 2, 0, 0]'),\n",
       " Text(0.4088050314465409, 0.3181818181818182, 'entropy = 0.0\\nsamples = 60\\nvalue = [0, 0, 0, 0, 0, 0, 0, 60, 0, 0]'),\n",
       " Text(0.41509433962264153, 0.4090909090909091, 'entropy = 0.0\\nsamples = 2\\nvalue = [0, 2, 0, 0, 0, 0, 0, 0, 0, 0]'),\n",
       " Text(0.4339622641509434, 0.5, 'x[5] <= 4.0\\nentropy = 1.206\\nsamples = 21\\nvalue = [0, 0, 0, 0, 14, 0, 0, 5, 0, 2]'),\n",
       " Text(0.4276729559748428, 0.4090909090909091, 'entropy = 0.0\\nsamples = 13\\nvalue = [0, 0, 0, 0, 13, 0, 0, 0, 0, 0]'),\n",
       " Text(0.44025157232704404, 0.4090909090909091, 'x[58] <= 2.5\\nentropy = 1.299\\nsamples = 8\\nvalue = [0, 0, 0, 0, 1, 0, 0, 5, 0, 2]'),\n",
       " Text(0.4339622641509434, 0.3181818181818182, 'x[12] <= 6.0\\nentropy = 0.918\\nsamples = 3\\nvalue = [0, 0, 0, 0, 1, 0, 0, 0, 0, 2]'),\n",
       " Text(0.4276729559748428, 0.22727272727272727, 'entropy = 0.0\\nsamples = 2\\nvalue = [0, 0, 0, 0, 0, 0, 0, 0, 0, 2]'),\n",
       " Text(0.44025157232704404, 0.22727272727272727, 'entropy = 0.0\\nsamples = 1\\nvalue = [0, 0, 0, 0, 1, 0, 0, 0, 0, 0]'),\n",
       " Text(0.44654088050314467, 0.3181818181818182, 'entropy = 0.0\\nsamples = 5\\nvalue = [0, 0, 0, 0, 0, 0, 0, 5, 0, 0]'),\n",
       " Text(0.5235849056603774, 0.6818181818181818, 'x[27] <= 8.5\\nentropy = 2.024\\nsamples = 133\\nvalue = [0, 32, 62, 3, 5, 5, 0, 0, 24, 2]'),\n",
       " Text(0.48427672955974843, 0.5909090909090909, 'x[51] <= 7.5\\nentropy = 0.717\\nsamples = 62\\nvalue = [0, 0, 55, 0, 2, 3, 0, 0, 1, 1]'),\n",
       " Text(0.4779874213836478, 0.5, 'x[5] <= 4.5\\nentropy = 1.842\\nsamples = 7\\nvalue = [0, 0, 0, 0, 2, 3, 0, 0, 1, 1]'),\n",
       " Text(0.46540880503144655, 0.4090909090909091, 'x[21] <= 15.5\\nentropy = 0.918\\nsamples = 3\\nvalue = [0, 0, 0, 0, 2, 0, 0, 0, 0, 1]'),\n",
       " Text(0.4591194968553459, 0.3181818181818182, 'entropy = 0.0\\nsamples = 2\\nvalue = [0, 0, 0, 0, 2, 0, 0, 0, 0, 0]'),\n",
       " Text(0.4716981132075472, 0.3181818181818182, 'entropy = 0.0\\nsamples = 1\\nvalue = [0, 0, 0, 0, 0, 0, 0, 0, 0, 1]'),\n",
       " Text(0.49056603773584906, 0.4090909090909091, 'x[21] <= 4.0\\nentropy = 0.811\\nsamples = 4\\nvalue = [0, 0, 0, 0, 0, 3, 0, 0, 1, 0]'),\n",
       " Text(0.48427672955974843, 0.3181818181818182, 'entropy = 0.0\\nsamples = 3\\nvalue = [0, 0, 0, 0, 0, 3, 0, 0, 0, 0]'),\n",
       " Text(0.4968553459119497, 0.3181818181818182, 'entropy = 0.0\\nsamples = 1\\nvalue = [0, 0, 0, 0, 0, 0, 0, 0, 1, 0]'),\n",
       " Text(0.49056603773584906, 0.5, 'entropy = 0.0\\nsamples = 55\\nvalue = [0, 0, 55, 0, 0, 0, 0, 0, 0, 0]'),\n",
       " Text(0.5628930817610063, 0.5909090909090909, 'x[19] <= 11.5\\nentropy = 1.992\\nsamples = 71\\nvalue = [0, 32, 7, 3, 3, 2, 0, 0, 23, 1]'),\n",
       " Text(0.5345911949685535, 0.5, 'x[26] <= 6.0\\nentropy = 1.291\\nsamples = 31\\nvalue = [0, 0, 3, 3, 0, 1, 0, 0, 23, 1]'),\n",
       " Text(0.5157232704402516, 0.4090909090909091, 'x[19] <= 7.0\\nentropy = 1.449\\nsamples = 7\\nvalue = [0, 0, 3, 3, 0, 0, 0, 0, 1, 0]'),\n",
       " Text(0.5094339622641509, 0.3181818181818182, 'entropy = 0.0\\nsamples = 3\\nvalue = [0, 0, 0, 3, 0, 0, 0, 0, 0, 0]'),\n",
       " Text(0.5220125786163522, 0.3181818181818182, 'x[2] <= 13.5\\nentropy = 0.811\\nsamples = 4\\nvalue = [0, 0, 3, 0, 0, 0, 0, 0, 1, 0]'),\n",
       " Text(0.5157232704402516, 0.22727272727272727, 'entropy = 0.0\\nsamples = 3\\nvalue = [0, 0, 3, 0, 0, 0, 0, 0, 0, 0]'),\n",
       " Text(0.5283018867924528, 0.22727272727272727, 'entropy = 0.0\\nsamples = 1\\nvalue = [0, 0, 0, 0, 0, 0, 0, 0, 1, 0]'),\n",
       " Text(0.5534591194968553, 0.4090909090909091, 'x[36] <= 9.5\\nentropy = 0.497\\nsamples = 24\\nvalue = [0, 0, 0, 0, 0, 1, 0, 0, 22, 1]'),\n",
       " Text(0.5471698113207547, 0.3181818181818182, 'x[60] <= 14.0\\nentropy = 1.585\\nsamples = 3\\nvalue = [0, 0, 0, 0, 0, 1, 0, 0, 1, 1]'),\n",
       " Text(0.5408805031446541, 0.22727272727272727, 'entropy = 0.0\\nsamples = 1\\nvalue = [0, 0, 0, 0, 0, 1, 0, 0, 0, 0]'),\n",
       " Text(0.5534591194968553, 0.22727272727272727, 'x[45] <= 7.5\\nentropy = 1.0\\nsamples = 2\\nvalue = [0, 0, 0, 0, 0, 0, 0, 0, 1, 1]'),\n",
       " Text(0.5471698113207547, 0.13636363636363635, 'entropy = 0.0\\nsamples = 1\\nvalue = [0, 0, 0, 0, 0, 0, 0, 0, 0, 1]'),\n",
       " Text(0.559748427672956, 0.13636363636363635, 'entropy = 0.0\\nsamples = 1\\nvalue = [0, 0, 0, 0, 0, 0, 0, 0, 1, 0]'),\n",
       " Text(0.559748427672956, 0.3181818181818182, 'entropy = 0.0\\nsamples = 21\\nvalue = [0, 0, 0, 0, 0, 0, 0, 0, 21, 0]'),\n",
       " Text(0.5911949685534591, 0.5, 'x[9] <= 3.5\\nentropy = 1.003\\nsamples = 40\\nvalue = [0, 32, 4, 0, 3, 1, 0, 0, 0, 0]'),\n",
       " Text(0.5786163522012578, 0.4090909090909091, 'x[34] <= 15.5\\nentropy = 0.422\\nsamples = 35\\nvalue = [0, 32, 0, 0, 3, 0, 0, 0, 0, 0]'),\n",
       " Text(0.5723270440251572, 0.3181818181818182, 'entropy = 0.0\\nsamples = 31\\nvalue = [0, 31, 0, 0, 0, 0, 0, 0, 0, 0]'),\n",
       " Text(0.5849056603773585, 0.3181818181818182, 'x[5] <= 7.5\\nentropy = 0.811\\nsamples = 4\\nvalue = [0, 1, 0, 0, 3, 0, 0, 0, 0, 0]'),\n",
       " Text(0.5786163522012578, 0.22727272727272727, 'entropy = 0.0\\nsamples = 3\\nvalue = [0, 0, 0, 0, 3, 0, 0, 0, 0, 0]'),\n",
       " Text(0.5911949685534591, 0.22727272727272727, 'entropy = 0.0\\nsamples = 1\\nvalue = [0, 1, 0, 0, 0, 0, 0, 0, 0, 0]'),\n",
       " Text(0.6037735849056604, 0.4090909090909091, 'x[42] <= 2.0\\nentropy = 0.722\\nsamples = 5\\nvalue = [0, 0, 4, 0, 0, 1, 0, 0, 0, 0]'),\n",
       " Text(0.5974842767295597, 0.3181818181818182, 'entropy = 0.0\\nsamples = 1\\nvalue = [0, 0, 0, 0, 0, 1, 0, 0, 0, 0]'),\n",
       " Text(0.610062893081761, 0.3181818181818182, 'entropy = 0.0\\nsamples = 4\\nvalue = [0, 0, 4, 0, 0, 0, 0, 0, 0, 0]'),\n",
       " Text(0.7126572327044025, 0.8636363636363636, 'x[36] <= 0.5\\nentropy = 2.791\\nsamples = 503\\nvalue = [112, 40, 29, 4, 73, 9, 111, 34, 89, 2]'),\n",
       " Text(0.6257861635220126, 0.7727272727272727, 'x[43] <= 6.5\\nentropy = 0.755\\nsamples = 124\\nvalue = [110, 0, 2, 0, 4, 4, 3, 0, 1, 0]'),\n",
       " Text(0.610062893081761, 0.6818181818181818, 'x[13] <= 1.0\\nentropy = 0.078\\nsamples = 105\\nvalue = [104, 0, 0, 0, 1, 0, 0, 0, 0, 0]'),\n",
       " Text(0.6037735849056604, 0.5909090909090909, 'entropy = 0.0\\nsamples = 1\\nvalue = [0, 0, 0, 0, 1, 0, 0, 0, 0, 0]'),\n",
       " Text(0.6163522012578616, 0.5909090909090909, 'entropy = 0.0\\nsamples = 104\\nvalue = [104, 0, 0, 0, 0, 0, 0, 0, 0, 0]'),\n",
       " Text(0.6415094339622641, 0.6818181818181818, 'x[53] <= 14.0\\nentropy = 2.405\\nsamples = 19\\nvalue = [6, 0, 2, 0, 3, 4, 3, 0, 1, 0]'),\n",
       " Text(0.6289308176100629, 0.5909090909090909, 'x[2] <= 8.5\\nentropy = 1.406\\nsamples = 8\\nvalue = [0, 0, 0, 0, 3, 4, 0, 0, 1, 0]'),\n",
       " Text(0.6226415094339622, 0.5, 'x[42] <= 10.5\\nentropy = 0.811\\nsamples = 4\\nvalue = [0, 0, 0, 0, 3, 0, 0, 0, 1, 0]'),\n",
       " Text(0.6163522012578616, 0.4090909090909091, 'entropy = 0.0\\nsamples = 1\\nvalue = [0, 0, 0, 0, 0, 0, 0, 0, 1, 0]'),\n",
       " Text(0.6289308176100629, 0.4090909090909091, 'entropy = 0.0\\nsamples = 3\\nvalue = [0, 0, 0, 0, 3, 0, 0, 0, 0, 0]'),\n",
       " Text(0.6352201257861635, 0.5, 'entropy = 0.0\\nsamples = 4\\nvalue = [0, 0, 0, 0, 0, 4, 0, 0, 0, 0]'),\n",
       " Text(0.6540880503144654, 0.5909090909090909, 'x[18] <= 13.5\\nentropy = 1.435\\nsamples = 11\\nvalue = [6, 0, 2, 0, 0, 0, 3, 0, 0, 0]'),\n",
       " Text(0.6477987421383647, 0.5, 'x[59] <= 15.5\\nentropy = 0.971\\nsamples = 5\\nvalue = [0, 0, 2, 0, 0, 0, 3, 0, 0, 0]'),\n",
       " Text(0.6415094339622641, 0.4090909090909091, 'entropy = 0.0\\nsamples = 3\\nvalue = [0, 0, 0, 0, 0, 0, 3, 0, 0, 0]'),\n",
       " Text(0.6540880503144654, 0.4090909090909091, 'entropy = 0.0\\nsamples = 2\\nvalue = [0, 0, 2, 0, 0, 0, 0, 0, 0, 0]'),\n",
       " Text(0.660377358490566, 0.5, 'entropy = 0.0\\nsamples = 6\\nvalue = [6, 0, 0, 0, 0, 0, 0, 0, 0, 0]'),\n",
       " Text(0.7995283018867925, 0.7727272727272727, 'x[21] <= 0.5\\nentropy = 2.61\\nsamples = 379\\nvalue = [2, 40, 27, 4, 69, 5, 108, 34, 88, 2]'),\n",
       " Text(0.7059748427672956, 0.6818181818181818, 'x[54] <= 1.5\\nentropy = 1.141\\nsamples = 134\\nvalue = [0, 4, 7, 0, 14, 4, 105, 0, 0, 0]'),\n",
       " Text(0.6886792452830188, 0.5909090909090909, 'x[10] <= 5.5\\nentropy = 1.918\\nsamples = 28\\nvalue = [0, 4, 1, 0, 14, 4, 5, 0, 0, 0]'),\n",
       " Text(0.6729559748427673, 0.5, 'x[42] <= 11.5\\nentropy = 0.371\\nsamples = 14\\nvalue = [0, 0, 0, 0, 13, 0, 1, 0, 0, 0]'),\n",
       " Text(0.6666666666666666, 0.4090909090909091, 'entropy = 0.0\\nsamples = 1\\nvalue = [0, 0, 0, 0, 0, 0, 1, 0, 0, 0]'),\n",
       " Text(0.6792452830188679, 0.4090909090909091, 'entropy = 0.0\\nsamples = 13\\nvalue = [0, 0, 0, 0, 13, 0, 0, 0, 0, 0]'),\n",
       " Text(0.7044025157232704, 0.5, 'x[45] <= 2.5\\nentropy = 2.093\\nsamples = 14\\nvalue = [0, 4, 1, 0, 1, 4, 4, 0, 0, 0]'),\n",
       " Text(0.6918238993710691, 0.4090909090909091, 'x[44] <= 6.5\\nentropy = 0.722\\nsamples = 5\\nvalue = [0, 4, 1, 0, 0, 0, 0, 0, 0, 0]'),\n",
       " Text(0.6855345911949685, 0.3181818181818182, 'entropy = 0.0\\nsamples = 1\\nvalue = [0, 0, 1, 0, 0, 0, 0, 0, 0, 0]'),\n",
       " Text(0.6981132075471698, 0.3181818181818182, 'entropy = 0.0\\nsamples = 4\\nvalue = [0, 4, 0, 0, 0, 0, 0, 0, 0, 0]'),\n",
       " Text(0.7169811320754716, 0.4090909090909091, 'x[61] <= 5.0\\nentropy = 1.392\\nsamples = 9\\nvalue = [0, 0, 0, 0, 1, 4, 4, 0, 0, 0]'),\n",
       " Text(0.710691823899371, 0.3181818181818182, 'x[19] <= 12.5\\nentropy = 0.722\\nsamples = 5\\nvalue = [0, 0, 0, 0, 1, 4, 0, 0, 0, 0]'),\n",
       " Text(0.7044025157232704, 0.22727272727272727, 'entropy = 0.0\\nsamples = 4\\nvalue = [0, 0, 0, 0, 0, 4, 0, 0, 0, 0]'),\n",
       " Text(0.7169811320754716, 0.22727272727272727, 'entropy = 0.0\\nsamples = 1\\nvalue = [0, 0, 0, 0, 1, 0, 0, 0, 0, 0]'),\n",
       " Text(0.7232704402515723, 0.3181818181818182, 'entropy = 0.0\\nsamples = 4\\nvalue = [0, 0, 0, 0, 0, 0, 4, 0, 0, 0]'),\n",
       " Text(0.7232704402515723, 0.5909090909090909, 'x[57] <= 0.5\\nentropy = 0.314\\nsamples = 106\\nvalue = [0, 0, 6, 0, 0, 0, 100, 0, 0, 0]'),\n",
       " Text(0.7169811320754716, 0.5, 'entropy = 0.0\\nsamples = 100\\nvalue = [0, 0, 0, 0, 0, 0, 100, 0, 0, 0]'),\n",
       " Text(0.7295597484276729, 0.5, 'entropy = 0.0\\nsamples = 6\\nvalue = [0, 0, 6, 0, 0, 0, 0, 0, 0, 0]'),\n",
       " Text(0.8930817610062893, 0.6818181818181818, 'x[38] <= 0.5\\nentropy = 2.432\\nsamples = 245\\nvalue = [2, 36, 20, 4, 55, 1, 3, 34, 88, 2]'),\n",
       " Text(0.839622641509434, 0.5909090909090909, 'x[51] <= 13.5\\nentropy = 1.849\\nsamples = 155\\nvalue = [1, 36, 20, 1, 4, 1, 1, 4, 86, 1]'),\n",
       " Text(0.7924528301886793, 0.5, 'x[27] <= 10.5\\nentropy = 1.291\\nsamples = 106\\nvalue = [1, 2, 12, 1, 2, 1, 0, 4, 82, 1]'),\n",
       " Text(0.7578616352201258, 0.4090909090909091, 'x[44] <= 7.0\\nentropy = 2.041\\nsamples = 27\\nvalue = [1, 0, 10, 1, 2, 1, 0, 1, 11, 0]'),\n",
       " Text(0.7358490566037735, 0.3181818181818182, 'x[14] <= 1.0\\nentropy = 0.991\\nsamples = 13\\nvalue = [0, 0, 10, 0, 0, 1, 0, 0, 2, 0]'),\n",
       " Text(0.7295597484276729, 0.22727272727272727, 'entropy = 0.0\\nsamples = 9\\nvalue = [0, 0, 9, 0, 0, 0, 0, 0, 0, 0]'),\n",
       " Text(0.7421383647798742, 0.22727272727272727, 'x[29] <= 13.0\\nentropy = 1.5\\nsamples = 4\\nvalue = [0, 0, 1, 0, 0, 1, 0, 0, 2, 0]'),\n",
       " Text(0.7358490566037735, 0.13636363636363635, 'entropy = 0.0\\nsamples = 2\\nvalue = [0, 0, 0, 0, 0, 0, 0, 0, 2, 0]'),\n",
       " Text(0.7484276729559748, 0.13636363636363635, 'x[50] <= 8.5\\nentropy = 1.0\\nsamples = 2\\nvalue = [0, 0, 1, 0, 0, 1, 0, 0, 0, 0]'),\n",
       " Text(0.7421383647798742, 0.045454545454545456, 'entropy = 0.0\\nsamples = 1\\nvalue = [0, 0, 1, 0, 0, 0, 0, 0, 0, 0]'),\n",
       " Text(0.7547169811320755, 0.045454545454545456, 'entropy = 0.0\\nsamples = 1\\nvalue = [0, 0, 0, 0, 0, 1, 0, 0, 0, 0]'),\n",
       " Text(0.779874213836478, 0.3181818181818182, 'x[37] <= 7.5\\nentropy = 1.627\\nsamples = 14\\nvalue = [1, 0, 0, 1, 2, 0, 0, 1, 9, 0]'),\n",
       " Text(0.7672955974842768, 0.22727272727272727, 'x[6] <= 3.5\\nentropy = 0.866\\nsamples = 11\\nvalue = [0, 0, 0, 1, 0, 0, 0, 1, 9, 0]'),\n",
       " Text(0.7610062893081762, 0.13636363636363635, 'entropy = 0.0\\nsamples = 9\\nvalue = [0, 0, 0, 0, 0, 0, 0, 0, 9, 0]'),\n",
       " Text(0.7735849056603774, 0.13636363636363635, 'x[25] <= 0.5\\nentropy = 1.0\\nsamples = 2\\nvalue = [0, 0, 0, 1, 0, 0, 0, 1, 0, 0]'),\n",
       " Text(0.7672955974842768, 0.045454545454545456, 'entropy = 0.0\\nsamples = 1\\nvalue = [0, 0, 0, 1, 0, 0, 0, 0, 0, 0]'),\n",
       " Text(0.779874213836478, 0.045454545454545456, 'entropy = 0.0\\nsamples = 1\\nvalue = [0, 0, 0, 0, 0, 0, 0, 1, 0, 0]'),\n",
       " Text(0.7924528301886793, 0.22727272727272727, 'x[33] <= 4.5\\nentropy = 0.918\\nsamples = 3\\nvalue = [1, 0, 0, 0, 2, 0, 0, 0, 0, 0]'),\n",
       " Text(0.7861635220125787, 0.13636363636363635, 'entropy = 0.0\\nsamples = 1\\nvalue = [1, 0, 0, 0, 0, 0, 0, 0, 0, 0]'),\n",
       " Text(0.7987421383647799, 0.13636363636363635, 'entropy = 0.0\\nsamples = 2\\nvalue = [0, 0, 0, 0, 2, 0, 0, 0, 0, 0]'),\n",
       " Text(0.8270440251572327, 0.4090909090909091, 'x[59] <= 2.0\\nentropy = 0.666\\nsamples = 79\\nvalue = [0, 2, 2, 0, 0, 0, 0, 3, 71, 1]'),\n",
       " Text(0.8113207547169812, 0.3181818181818182, 'x[30] <= 4.0\\nentropy = 1.0\\nsamples = 4\\nvalue = [0, 2, 0, 0, 0, 0, 0, 2, 0, 0]'),\n",
       " Text(0.8050314465408805, 0.22727272727272727, 'entropy = 0.0\\nsamples = 2\\nvalue = [0, 2, 0, 0, 0, 0, 0, 0, 0, 0]'),\n",
       " Text(0.8176100628930818, 0.22727272727272727, 'entropy = 0.0\\nsamples = 2\\nvalue = [0, 0, 0, 0, 0, 0, 0, 2, 0, 0]'),\n",
       " Text(0.8427672955974843, 0.3181818181818182, 'x[44] <= 0.5\\nentropy = 0.38\\nsamples = 75\\nvalue = [0, 0, 2, 0, 0, 0, 0, 1, 71, 1]'),\n",
       " Text(0.8301886792452831, 0.22727272727272727, 'x[14] <= 3.0\\nentropy = 0.918\\nsamples = 3\\nvalue = [0, 0, 2, 0, 0, 0, 0, 0, 1, 0]'),\n",
       " Text(0.8238993710691824, 0.13636363636363635, 'entropy = 0.0\\nsamples = 2\\nvalue = [0, 0, 2, 0, 0, 0, 0, 0, 0, 0]'),\n",
       " Text(0.8364779874213837, 0.13636363636363635, 'entropy = 0.0\\nsamples = 1\\nvalue = [0, 0, 0, 0, 0, 0, 0, 0, 1, 0]'),\n",
       " Text(0.8553459119496856, 0.22727272727272727, 'x[30] <= 7.5\\nentropy = 0.211\\nsamples = 72\\nvalue = [0, 0, 0, 0, 0, 0, 0, 1, 70, 1]'),\n",
       " Text(0.8490566037735849, 0.13636363636363635, 'x[35] <= 4.5\\nentropy = 0.107\\nsamples = 71\\nvalue = [0, 0, 0, 0, 0, 0, 0, 0, 70, 1]'),\n",
       " Text(0.8427672955974843, 0.045454545454545456, 'entropy = 0.0\\nsamples = 1\\nvalue = [0, 0, 0, 0, 0, 0, 0, 0, 0, 1]'),\n",
       " Text(0.8553459119496856, 0.045454545454545456, 'entropy = 0.0\\nsamples = 70\\nvalue = [0, 0, 0, 0, 0, 0, 0, 0, 70, 0]'),\n",
       " Text(0.8616352201257862, 0.13636363636363635, 'entropy = 0.0\\nsamples = 1\\nvalue = [0, 0, 0, 0, 0, 0, 0, 1, 0, 0]'),\n",
       " Text(0.8867924528301887, 0.5, 'x[27] <= 10.0\\nentropy = 1.391\\nsamples = 49\\nvalue = [0, 34, 8, 0, 2, 0, 1, 0, 4, 0]'),\n",
       " Text(0.8679245283018868, 0.4090909090909091, 'x[33] <= 4.0\\nentropy = 1.096\\nsamples = 11\\nvalue = [0, 0, 8, 0, 2, 0, 1, 0, 0, 0]'),\n",
       " Text(0.8616352201257862, 0.3181818181818182, 'entropy = 0.0\\nsamples = 8\\nvalue = [0, 0, 8, 0, 0, 0, 0, 0, 0, 0]'),\n",
       " Text(0.8742138364779874, 0.3181818181818182, 'x[43] <= 11.0\\nentropy = 0.918\\nsamples = 3\\nvalue = [0, 0, 0, 0, 2, 0, 1, 0, 0, 0]'),\n",
       " Text(0.8679245283018868, 0.22727272727272727, 'entropy = 0.0\\nsamples = 1\\nvalue = [0, 0, 0, 0, 0, 0, 1, 0, 0, 0]'),\n",
       " Text(0.8805031446540881, 0.22727272727272727, 'entropy = 0.0\\nsamples = 2\\nvalue = [0, 0, 0, 0, 2, 0, 0, 0, 0, 0]'),\n",
       " Text(0.9056603773584906, 0.4090909090909091, 'x[12] <= 13.5\\nentropy = 0.485\\nsamples = 38\\nvalue = [0, 34, 0, 0, 0, 0, 0, 0, 4, 0]'),\n",
       " Text(0.89937106918239, 0.3181818181818182, 'x[61] <= 4.5\\nentropy = 0.722\\nsamples = 5\\nvalue = [0, 1, 0, 0, 0, 0, 0, 0, 4, 0]'),\n",
       " Text(0.8930817610062893, 0.22727272727272727, 'entropy = 0.0\\nsamples = 4\\nvalue = [0, 0, 0, 0, 0, 0, 0, 0, 4, 0]'),\n",
       " Text(0.9056603773584906, 0.22727272727272727, 'entropy = 0.0\\nsamples = 1\\nvalue = [0, 1, 0, 0, 0, 0, 0, 0, 0, 0]'),\n",
       " Text(0.9119496855345912, 0.3181818181818182, 'entropy = 0.0\\nsamples = 33\\nvalue = [0, 33, 0, 0, 0, 0, 0, 0, 0, 0]'),\n",
       " Text(0.9465408805031447, 0.5909090909090909, 'x[26] <= 10.5\\nentropy = 1.545\\nsamples = 90\\nvalue = [1, 0, 0, 3, 51, 0, 2, 30, 2, 1]'),\n",
       " Text(0.9245283018867925, 0.5, 'x[53] <= 7.5\\nentropy = 0.949\\nsamples = 36\\nvalue = [0, 0, 0, 3, 1, 0, 1, 30, 1, 0]'),\n",
       " Text(0.9182389937106918, 0.4090909090909091, 'entropy = 0.0\\nsamples = 30\\nvalue = [0, 0, 0, 0, 0, 0, 0, 30, 0, 0]'),\n",
       " Text(0.9308176100628931, 0.4090909090909091, 'x[27] <= 13.0\\nentropy = 1.792\\nsamples = 6\\nvalue = [0, 0, 0, 3, 1, 0, 1, 0, 1, 0]'),\n",
       " Text(0.9245283018867925, 0.3181818181818182, 'entropy = 0.0\\nsamples = 3\\nvalue = [0, 0, 0, 3, 0, 0, 0, 0, 0, 0]'),\n",
       " Text(0.9371069182389937, 0.3181818181818182, 'x[62] <= 5.0\\nentropy = 1.585\\nsamples = 3\\nvalue = [0, 0, 0, 0, 1, 0, 1, 0, 1, 0]'),\n",
       " Text(0.9308176100628931, 0.22727272727272727, 'x[42] <= 14.0\\nentropy = 1.0\\nsamples = 2\\nvalue = [0, 0, 0, 0, 1, 0, 0, 0, 1, 0]'),\n",
       " Text(0.9245283018867925, 0.13636363636363635, 'entropy = 0.0\\nsamples = 1\\nvalue = [0, 0, 0, 0, 1, 0, 0, 0, 0, 0]'),\n",
       " Text(0.9371069182389937, 0.13636363636363635, 'entropy = 0.0\\nsamples = 1\\nvalue = [0, 0, 0, 0, 0, 0, 0, 0, 1, 0]'),\n",
       " Text(0.9433962264150944, 0.22727272727272727, 'entropy = 0.0\\nsamples = 1\\nvalue = [0, 0, 0, 0, 0, 0, 1, 0, 0, 0]'),\n",
       " Text(0.9685534591194969, 0.5, 'x[10] <= 10.5\\nentropy = 0.529\\nsamples = 54\\nvalue = [1, 0, 0, 0, 50, 0, 1, 0, 1, 1]'),\n",
       " Text(0.9622641509433962, 0.4090909090909091, 'entropy = 0.0\\nsamples = 50\\nvalue = [0, 0, 0, 0, 50, 0, 0, 0, 0, 0]'),\n",
       " Text(0.9748427672955975, 0.4090909090909091, 'x[11] <= 14.5\\nentropy = 2.0\\nsamples = 4\\nvalue = [1, 0, 0, 0, 0, 0, 1, 0, 1, 1]'),\n",
       " Text(0.9622641509433962, 0.3181818181818182, 'x[36] <= 8.0\\nentropy = 1.0\\nsamples = 2\\nvalue = [0, 0, 0, 0, 0, 0, 0, 0, 1, 1]'),\n",
       " Text(0.9559748427672956, 0.22727272727272727, 'entropy = 0.0\\nsamples = 1\\nvalue = [0, 0, 0, 0, 0, 0, 0, 0, 0, 1]'),\n",
       " Text(0.9685534591194969, 0.22727272727272727, 'entropy = 0.0\\nsamples = 1\\nvalue = [0, 0, 0, 0, 0, 0, 0, 0, 1, 0]'),\n",
       " Text(0.9874213836477987, 0.3181818181818182, 'x[35] <= 10.0\\nentropy = 1.0\\nsamples = 2\\nvalue = [1, 0, 0, 0, 0, 0, 1, 0, 0, 0]'),\n",
       " Text(0.9811320754716981, 0.22727272727272727, 'entropy = 0.0\\nsamples = 1\\nvalue = [1, 0, 0, 0, 0, 0, 0, 0, 0, 0]'),\n",
       " Text(0.9937106918238994, 0.22727272727272727, 'entropy = 0.0\\nsamples = 1\\nvalue = [0, 0, 0, 0, 0, 0, 1, 0, 0, 0]')]"
      ]
     },
     "execution_count": 20,
     "metadata": {},
     "output_type": "execute_result"
    },
    {
     "data": {
      "image/png": "[encoded data removed]",
      "text/plain": [
       "<Figure size 640x480 with 1 Axes>"
      ]
     },
     "metadata": {},
     "output_type": "display_data"
    }
   ],
   "source": [
    "# Same but with GridSearchCV\n",
    "\n",
    "from sklearn.model_selection import GridSearchCV\n",
    "from sklearn.tree import DecisionTreeClassifier, plot_tree\n",
    "from sklearn.model_selection import train_test_split\n",
    "\n",
    "def find_best_decision_tree(X, y, param_grid):\n",
    "    # Split the data into training, testing and validation sets\n",
    "    X_train, X_test, y_train, y_test = train_test_split(X, y, test_size=0.2, random_state=42)\n",
    "    X_train, X_val, y_train, y_val = train_test_split(X_train, y_train, test_size=0.25, random_state=42)\n",
    "\n",
    "    # Create a Decision Tree classifier\n",
    "    clf = DecisionTreeClassifier()\n",
    "\n",
    "    # Use GridSearchCV to find the best hyperparameters\n",
    "    grid_search = GridSearchCV(clf, param_grid, cv=5)\n",
    "    grid_search.fit(X_train, y_train)\n",
    "\n",
    "    # Get the best parameters and estimator\n",
    "    best_params = grid_search.best_params_\n",
    "    best_estimator = grid_search.best_estimator_\n",
    "\n",
    "    # Fit the best model to the training data\n",
    "    best_estimator.fit(X_train, y_train)\n",
    "\n",
    "    # Make predictions on the test data\n",
    "    y_pred = best_estimator.predict(X_test)\n",
    "    acuracy = accuracy_score(y_test, y_pred)\n",
    "\n",
    "    # Evaluate the best model\n",
    "    y_pred_val = best_estimator.predict(X_val)\n",
    "    accuracy = accuracy_score(y_val, y_pred_val)\n",
    "\n",
    "    return best_estimator, best_params, accuracy\n",
    "\n",
    "param_grid = {\n",
    "    'criterion': ['gini', 'entropy'],\n",
    "    'max_depth': [None, 5, 10, 15],\n",
    "    'min_samples_split': [2, 5, 10],\n",
    "    'min_samples_leaf': [1, 2, 4]\n",
    "}\n",
    "\n",
    "from sklearn.datasets import load_digits\n",
    "X, y = load_digits(return_X_y=True)\n",
    "\n",
    "best_model, best_params, accuracy = find_best_decision_tree(X, y, param_grid)\n",
    "print(f\"best acuracy: {accuracy}\")\n",
    "print(f\"parameters: {best_params}\")\n",
    "plot_tree(best_model)"
   ]
  },
  {
   "cell_type": "markdown",
   "metadata": {},
   "source": [
    "# TD3\n",
    "\n",
    "## Digit dataset"
   ]
  },
  {
   "cell_type": "markdown",
   "metadata": {},
   "source": [
    "Find the smallest dimension after PCA such that 95% of the variance is explained (hint : numpy.cumsum and numpy.where)"
   ]
  },
  {
   "cell_type": "code",
   "execution_count": 21,
   "metadata": {},
   "outputs": [
    {
     "name": "stdout",
     "output_type": "stream",
     "text": [
      "smallest dimension: 29\n"
     ]
    }
   ],
   "source": [
    "# Find the smallest dimension after PCA such that 95% of the variance\n",
    "# is explained (hint : numpy.cumsum and numpy.where)\n",
    "\n",
    "from sklearn.decomposition import PCA\n",
    "import numpy as np\n",
    "\n",
    "def find_smallest_dimension(X, variance_threshold):\n",
    "    pca = PCA()\n",
    "    pca.fit(X)\n",
    "\n",
    "    cumsum = np.cumsum(pca.explained_variance_ratio_)\n",
    "    d = np.argmax(cumsum >= variance_threshold) + 1\n",
    "    return d\n",
    "\n",
    "X, y = load_digits(return_X_y=True)\n",
    "d = find_smallest_dimension(X, 0.95)\n",
    "print(f\"smallest dimension: {d}\")\n"
   ]
  },
  {
   "cell_type": "markdown",
   "metadata": {},
   "source": [
    "What is the proportion of explained variance in dimension 2 ?"
   ]
  },
  {
   "cell_type": "code",
   "execution_count": null,
   "metadata": {},
   "outputs": [],
   "source": []
  },
  {
   "cell_type": "markdown",
   "metadata": {},
   "source": [
    "Plot the digits after a PCA in 2D. Compare with the previous approach"
   ]
  }
 ],
 "metadata": {
  "hide_input": false,
  "kernelspec": {
   "display_name": "Python 3 (ipykernel)",
   "language": "python",
   "name": "python3"
  },
  "language_info": {
   "codemirror_mode": {
    "name": "ipython",
    "version": 3
   },
   "file_extension": ".py",
   "mimetype": "text/x-python",
   "name": "python",
   "nbconvert_exporter": "python",
   "pygments_lexer": "ipython3",
   "version": "3.10.12"
  },
  "latex_envs": {
   "LaTeX_envs_menu_present": true,
   "autoclose": false,
   "autocomplete": true,
   "bibliofile": "biblio.bib",
   "cite_by": "apalike",
   "current_citInitial": 1,
   "eqLabelWithNumbers": true,
   "eqNumInitial": 1,
   "hotkeys": {
    "equation": "Ctrl-E",
    "itemize": "Ctrl-I"
   },
   "labels_anchors": false,
   "latex_user_defs": false,
   "report_style_numbering": false,
   "user_envs_cfg": false
  },
  "varInspector": {
   "cols": {
    "lenName": 16,
    "lenType": 16,
    "lenVar": 40
   },
   "kernels_config": {
    "python": {
     "delete_cmd_postfix": "",
     "delete_cmd_prefix": "del ",
     "library": "var_list.py",
     "varRefreshCmd": "print(var_dic_list())"
    },
    "r": {
     "delete_cmd_postfix": ") ",
     "delete_cmd_prefix": "rm(",
     "library": "var_list.r",
     "varRefreshCmd": "cat(var_dic_list()) "
    }
   },
   "types_to_exclude": [
    "module",
    "function",
    "builtin_function_or_method",
    "instance",
    "_Feature"
   ],
   "window_display": false
  }
 },
 "nbformat": 4,
 "nbformat_minor": 2
}
